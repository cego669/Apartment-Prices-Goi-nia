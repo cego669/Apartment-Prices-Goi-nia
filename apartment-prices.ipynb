{
 "cells": [
  {
   "cell_type": "markdown",
   "id": "cf867558",
   "metadata": {
    "papermill": {
     "duration": 0.101367,
     "end_time": "2021-09-23T19:55:01.176265",
     "exception": false,
     "start_time": "2021-09-23T19:55:01.074898",
     "status": "completed"
    },
    "tags": []
   },
   "source": [
    "**Streamlit webapp for predicting:**\n",
    "\n",
    "[![Streamlit App](https://static.streamlit.io/badges/streamlit_badge_black_white.svg)](https://share.streamlit.io/cego669/apartment-prices-goi-nia/main/webapp.py)"
   ]
  },
  {
   "cell_type": "markdown",
   "id": "ccf20a66",
   "metadata": {
    "papermill": {
     "duration": 0.102422,
     "end_time": "2021-09-23T19:55:01.382342",
     "exception": false,
     "start_time": "2021-09-23T19:55:01.279920",
     "status": "completed"
    },
    "tags": []
   },
   "source": [
    "# Data Cleaning"
   ]
  },
  {
   "cell_type": "code",
   "execution_count": 1,
   "id": "5febc08a",
   "metadata": {
    "_cell_guid": "b1076dfc-b9ad-4769-8c92-a6c4dae69d19",
    "_uuid": "8f2839f25d086af736a60e9eeb907d3b93b6e0e5",
    "execution": {
     "iopub.execute_input": "2021-09-23T19:55:01.581997Z",
     "iopub.status.busy": "2021-09-23T19:55:01.581387Z",
     "iopub.status.idle": "2021-09-23T19:55:01.584249Z",
     "shell.execute_reply": "2021-09-23T19:55:01.584777Z",
     "shell.execute_reply.started": "2021-09-23T19:51:59.504023Z"
    },
    "papermill": {
     "duration": 0.108174,
     "end_time": "2021-09-23T19:55:01.585084",
     "exception": false,
     "start_time": "2021-09-23T19:55:01.476910",
     "status": "completed"
    },
    "tags": []
   },
   "outputs": [],
   "source": [
    "import pandas as pd\n",
    "import numpy as np"
   ]
  },
  {
   "cell_type": "markdown",
   "id": "07d23d7a",
   "metadata": {
    "papermill": {
     "duration": 0.094637,
     "end_time": "2021-09-23T19:55:01.773893",
     "exception": false,
     "start_time": "2021-09-23T19:55:01.679256",
     "status": "completed"
    },
    "tags": []
   },
   "source": [
    "### Initial Approach"
   ]
  },
  {
   "cell_type": "markdown",
   "id": "fb148702",
   "metadata": {
    "papermill": {
     "duration": 0.094099,
     "end_time": "2021-09-23T19:55:01.965949",
     "exception": false,
     "start_time": "2021-09-23T19:55:01.871850",
     "status": "completed"
    },
    "tags": []
   },
   "source": [
    "First of all, we must load the data and then take a look at it:"
   ]
  },
  {
   "cell_type": "code",
   "execution_count": 2,
   "id": "681ba8f0",
   "metadata": {
    "execution": {
     "iopub.execute_input": "2021-09-23T19:55:02.167644Z",
     "iopub.status.busy": "2021-09-23T19:55:02.167018Z",
     "iopub.status.idle": "2021-09-23T19:55:02.264279Z",
     "shell.execute_reply": "2021-09-23T19:55:02.263790Z",
     "shell.execute_reply.started": "2021-09-23T19:51:59.526836Z"
    },
    "papermill": {
     "duration": 0.203758,
     "end_time": "2021-09-23T19:55:02.264405",
     "exception": false,
     "start_time": "2021-09-23T19:55:02.060647",
     "status": "completed"
    },
    "tags": []
   },
   "outputs": [
    {
     "data": {
      "text/html": [
       "<div>\n",
       "<style scoped>\n",
       "    .dataframe tbody tr th:only-of-type {\n",
       "        vertical-align: middle;\n",
       "    }\n",
       "\n",
       "    .dataframe tbody tr th {\n",
       "        vertical-align: top;\n",
       "    }\n",
       "\n",
       "    .dataframe thead th {\n",
       "        text-align: right;\n",
       "    }\n",
       "</style>\n",
       "<table border=\"1\" class=\"dataframe\">\n",
       "  <thead>\n",
       "    <tr style=\"text-align: right;\">\n",
       "      <th></th>\n",
       "      <th>time</th>\n",
       "      <th>price</th>\n",
       "      <th>address</th>\n",
       "      <th>area</th>\n",
       "      <th>bedroom</th>\n",
       "      <th>bathroom</th>\n",
       "      <th>parking</th>\n",
       "      <th>characteristic</th>\n",
       "      <th>condominium</th>\n",
       "    </tr>\n",
       "  </thead>\n",
       "  <tbody>\n",
       "    <tr>\n",
       "      <th>0</th>\n",
       "      <td>09/16/2021 11:46:53</td>\n",
       "      <td>R$ 1.580.000</td>\n",
       "      <td>Setor Bueno, Goiânia - GO</td>\n",
       "      <td>230m²</td>\n",
       "      <td>3 quartos</td>\n",
       "      <td>6 banheiros     3 suítes</td>\n",
       "      <td>3 vagas</td>\n",
       "      <td>Piscina   Varanda   Área de serviço   Quadra...</td>\n",
       "      <td>NaN</td>\n",
       "    </tr>\n",
       "    <tr>\n",
       "      <th>1</th>\n",
       "      <td>09/16/2021 11:46:57</td>\n",
       "      <td>R$ 450.000</td>\n",
       "      <td>Rua Natal, 59 - Alto da Glória, Goiânia - GO</td>\n",
       "      <td>94m²</td>\n",
       "      <td>3 quartos</td>\n",
       "      <td>2 banheiros     1 suíte</td>\n",
       "      <td>1 vaga</td>\n",
       "      <td>Espaço gourmet   Churrasqueira   Playground ...</td>\n",
       "      <td>R$ 380</td>\n",
       "    </tr>\n",
       "    <tr>\n",
       "      <th>2</th>\n",
       "      <td>09/16/2021 11:47:01</td>\n",
       "      <td>R$ 330.000</td>\n",
       "      <td>Rua Dom Orione, 57 - Setor Oeste, Goiânia - GO</td>\n",
       "      <td>111m²</td>\n",
       "      <td>3 quartos</td>\n",
       "      <td>3 banheiros     1 suíte</td>\n",
       "      <td>1 vaga</td>\n",
       "      <td>Varanda   Aceita animais   Área de serviço  ...</td>\n",
       "      <td>R$ 450</td>\n",
       "    </tr>\n",
       "    <tr>\n",
       "      <th>3</th>\n",
       "      <td>09/16/2021 11:47:04</td>\n",
       "      <td>R$ 320.000</td>\n",
       "      <td>Avenida Nápoli, 201 - Residencial Eldorado, Go...</td>\n",
       "      <td>79m²</td>\n",
       "      <td>3 quartos</td>\n",
       "      <td>3 banheiros     3 suítes</td>\n",
       "      <td>1 vaga</td>\n",
       "      <td>Piscina   Churrasqueira   Elevador   Condomí...</td>\n",
       "      <td>R$ 400</td>\n",
       "    </tr>\n",
       "    <tr>\n",
       "      <th>4</th>\n",
       "      <td>09/16/2021 11:47:08</td>\n",
       "      <td>R$ 915.525</td>\n",
       "      <td>Rua T 36, 1 - Setor Bueno, Goiânia - GO</td>\n",
       "      <td>137m²</td>\n",
       "      <td>3 quartos</td>\n",
       "      <td>5 banheiros     3 suítes</td>\n",
       "      <td>2 vagas</td>\n",
       "      <td>Piscina   Churrasqueira   Elevador   Condomí...</td>\n",
       "      <td>NaN</td>\n",
       "    </tr>\n",
       "  </tbody>\n",
       "</table>\n",
       "</div>"
      ],
      "text/plain": [
       "                  time               price  \\\n",
       "0  09/16/2021 11:46:53     R$ 1.580.000      \n",
       "1  09/16/2021 11:46:57       R$ 450.000      \n",
       "2  09/16/2021 11:47:01       R$ 330.000      \n",
       "3  09/16/2021 11:47:04       R$ 320.000      \n",
       "4  09/16/2021 11:47:08       R$ 915.525      \n",
       "\n",
       "                                             address       area  \\\n",
       "0                          Setor Bueno, Goiânia - GO    230m²     \n",
       "1       Rua Natal, 59 - Alto da Glória, Goiânia - GO     94m²     \n",
       "2     Rua Dom Orione, 57 - Setor Oeste, Goiânia - GO    111m²     \n",
       "3  Avenida Nápoli, 201 - Residencial Eldorado, Go...     79m²     \n",
       "4            Rua T 36, 1 - Setor Bueno, Goiânia - GO    137m²     \n",
       "\n",
       "         bedroom                      bathroom      parking  \\\n",
       "0    3 quartos      6 banheiros     3 suítes      3 vagas     \n",
       "1    3 quartos       2 banheiros     1 suíte       1 vaga     \n",
       "2    3 quartos       3 banheiros     1 suíte       1 vaga     \n",
       "3    3 quartos      3 banheiros     3 suítes       1 vaga     \n",
       "4    3 quartos      5 banheiros     3 suítes      2 vagas     \n",
       "\n",
       "                                      characteristic condominium  \n",
       "0    Piscina   Varanda   Área de serviço   Quadra...         NaN  \n",
       "1    Espaço gourmet   Churrasqueira   Playground ...     R$ 380   \n",
       "2    Varanda   Aceita animais   Área de serviço  ...     R$ 450   \n",
       "3    Piscina   Churrasqueira   Elevador   Condomí...     R$ 400   \n",
       "4    Piscina   Churrasqueira   Elevador   Condomí...         NaN  "
      ]
     },
     "execution_count": 2,
     "metadata": {},
     "output_type": "execute_result"
    }
   ],
   "source": [
    "data = pd.read_csv(\"../input/apartments-prices-goinia/apartments_gyn.csv\")\n",
    "data.head()"
   ]
  },
  {
   "cell_type": "markdown",
   "id": "29260661",
   "metadata": {
    "papermill": {
     "duration": 0.095226,
     "end_time": "2021-09-23T19:55:02.455962",
     "exception": false,
     "start_time": "2021-09-23T19:55:02.360736",
     "status": "completed"
    },
    "tags": []
   },
   "source": [
    "The \"time\" column is not useful here. I will drop it:"
   ]
  },
  {
   "cell_type": "code",
   "execution_count": 3,
   "id": "d8f49a6e",
   "metadata": {
    "execution": {
     "iopub.execute_input": "2021-09-23T19:55:02.662665Z",
     "iopub.status.busy": "2021-09-23T19:55:02.661507Z",
     "iopub.status.idle": "2021-09-23T19:55:02.669712Z",
     "shell.execute_reply": "2021-09-23T19:55:02.670210Z",
     "shell.execute_reply.started": "2021-09-23T19:51:59.625714Z"
    },
    "papermill": {
     "duration": 0.118077,
     "end_time": "2021-09-23T19:55:02.670381",
     "exception": false,
     "start_time": "2021-09-23T19:55:02.552304",
     "status": "completed"
    },
    "tags": []
   },
   "outputs": [
    {
     "data": {
      "text/html": [
       "<div>\n",
       "<style scoped>\n",
       "    .dataframe tbody tr th:only-of-type {\n",
       "        vertical-align: middle;\n",
       "    }\n",
       "\n",
       "    .dataframe tbody tr th {\n",
       "        vertical-align: top;\n",
       "    }\n",
       "\n",
       "    .dataframe thead th {\n",
       "        text-align: right;\n",
       "    }\n",
       "</style>\n",
       "<table border=\"1\" class=\"dataframe\">\n",
       "  <thead>\n",
       "    <tr style=\"text-align: right;\">\n",
       "      <th></th>\n",
       "      <th>price</th>\n",
       "      <th>address</th>\n",
       "      <th>area</th>\n",
       "      <th>bedroom</th>\n",
       "      <th>bathroom</th>\n",
       "      <th>parking</th>\n",
       "      <th>characteristic</th>\n",
       "      <th>condominium</th>\n",
       "    </tr>\n",
       "  </thead>\n",
       "  <tbody>\n",
       "    <tr>\n",
       "      <th>0</th>\n",
       "      <td>R$ 1.580.000</td>\n",
       "      <td>Setor Bueno, Goiânia - GO</td>\n",
       "      <td>230m²</td>\n",
       "      <td>3 quartos</td>\n",
       "      <td>6 banheiros     3 suítes</td>\n",
       "      <td>3 vagas</td>\n",
       "      <td>Piscina   Varanda   Área de serviço   Quadra...</td>\n",
       "      <td>NaN</td>\n",
       "    </tr>\n",
       "    <tr>\n",
       "      <th>1</th>\n",
       "      <td>R$ 450.000</td>\n",
       "      <td>Rua Natal, 59 - Alto da Glória, Goiânia - GO</td>\n",
       "      <td>94m²</td>\n",
       "      <td>3 quartos</td>\n",
       "      <td>2 banheiros     1 suíte</td>\n",
       "      <td>1 vaga</td>\n",
       "      <td>Espaço gourmet   Churrasqueira   Playground ...</td>\n",
       "      <td>R$ 380</td>\n",
       "    </tr>\n",
       "    <tr>\n",
       "      <th>2</th>\n",
       "      <td>R$ 330.000</td>\n",
       "      <td>Rua Dom Orione, 57 - Setor Oeste, Goiânia - GO</td>\n",
       "      <td>111m²</td>\n",
       "      <td>3 quartos</td>\n",
       "      <td>3 banheiros     1 suíte</td>\n",
       "      <td>1 vaga</td>\n",
       "      <td>Varanda   Aceita animais   Área de serviço  ...</td>\n",
       "      <td>R$ 450</td>\n",
       "    </tr>\n",
       "    <tr>\n",
       "      <th>3</th>\n",
       "      <td>R$ 320.000</td>\n",
       "      <td>Avenida Nápoli, 201 - Residencial Eldorado, Go...</td>\n",
       "      <td>79m²</td>\n",
       "      <td>3 quartos</td>\n",
       "      <td>3 banheiros     3 suítes</td>\n",
       "      <td>1 vaga</td>\n",
       "      <td>Piscina   Churrasqueira   Elevador   Condomí...</td>\n",
       "      <td>R$ 400</td>\n",
       "    </tr>\n",
       "    <tr>\n",
       "      <th>4</th>\n",
       "      <td>R$ 915.525</td>\n",
       "      <td>Rua T 36, 1 - Setor Bueno, Goiânia - GO</td>\n",
       "      <td>137m²</td>\n",
       "      <td>3 quartos</td>\n",
       "      <td>5 banheiros     3 suítes</td>\n",
       "      <td>2 vagas</td>\n",
       "      <td>Piscina   Churrasqueira   Elevador   Condomí...</td>\n",
       "      <td>NaN</td>\n",
       "    </tr>\n",
       "  </tbody>\n",
       "</table>\n",
       "</div>"
      ],
      "text/plain": [
       "                price                                            address  \\\n",
       "0     R$ 1.580.000                             Setor Bueno, Goiânia - GO   \n",
       "1       R$ 450.000          Rua Natal, 59 - Alto da Glória, Goiânia - GO   \n",
       "2       R$ 330.000        Rua Dom Orione, 57 - Setor Oeste, Goiânia - GO   \n",
       "3       R$ 320.000     Avenida Nápoli, 201 - Residencial Eldorado, Go...   \n",
       "4       R$ 915.525               Rua T 36, 1 - Setor Bueno, Goiânia - GO   \n",
       "\n",
       "        area        bedroom                      bathroom      parking  \\\n",
       "0    230m²      3 quartos      6 banheiros     3 suítes      3 vagas     \n",
       "1     94m²      3 quartos       2 banheiros     1 suíte       1 vaga     \n",
       "2    111m²      3 quartos       3 banheiros     1 suíte       1 vaga     \n",
       "3     79m²      3 quartos      3 banheiros     3 suítes       1 vaga     \n",
       "4    137m²      3 quartos      5 banheiros     3 suítes      2 vagas     \n",
       "\n",
       "                                      characteristic condominium  \n",
       "0    Piscina   Varanda   Área de serviço   Quadra...         NaN  \n",
       "1    Espaço gourmet   Churrasqueira   Playground ...     R$ 380   \n",
       "2    Varanda   Aceita animais   Área de serviço  ...     R$ 450   \n",
       "3    Piscina   Churrasqueira   Elevador   Condomí...     R$ 400   \n",
       "4    Piscina   Churrasqueira   Elevador   Condomí...         NaN  "
      ]
     },
     "execution_count": 3,
     "metadata": {},
     "output_type": "execute_result"
    }
   ],
   "source": [
    "data = data.drop(\"time\", axis = 1)\n",
    "data.head()"
   ]
  },
  {
   "cell_type": "markdown",
   "id": "f30c79f4",
   "metadata": {
    "papermill": {
     "duration": 0.107626,
     "end_time": "2021-09-23T19:55:02.874510",
     "exception": false,
     "start_time": "2021-09-23T19:55:02.766884",
     "status": "completed"
    },
    "tags": []
   },
   "source": [
    "Seeing general information..."
   ]
  },
  {
   "cell_type": "code",
   "execution_count": 4,
   "id": "06f95c77",
   "metadata": {
    "execution": {
     "iopub.execute_input": "2021-09-23T19:55:03.088701Z",
     "iopub.status.busy": "2021-09-23T19:55:03.087743Z",
     "iopub.status.idle": "2021-09-23T19:55:03.108811Z",
     "shell.execute_reply": "2021-09-23T19:55:03.108104Z",
     "shell.execute_reply.started": "2021-09-23T19:51:59.648713Z"
    },
    "papermill": {
     "duration": 0.120092,
     "end_time": "2021-09-23T19:55:03.108949",
     "exception": false,
     "start_time": "2021-09-23T19:55:02.988857",
     "status": "completed"
    },
    "tags": []
   },
   "outputs": [
    {
     "name": "stdout",
     "output_type": "stream",
     "text": [
      "<class 'pandas.core.frame.DataFrame'>\n",
      "RangeIndex: 3830 entries, 0 to 3829\n",
      "Data columns (total 8 columns):\n",
      " #   Column          Non-Null Count  Dtype \n",
      "---  ------          --------------  ----- \n",
      " 0   price           3822 non-null   object\n",
      " 1   address         3822 non-null   object\n",
      " 2   area            3822 non-null   object\n",
      " 3   bedroom         3822 non-null   object\n",
      " 4   bathroom        3822 non-null   object\n",
      " 5   parking         3822 non-null   object\n",
      " 6   characteristic  3114 non-null   object\n",
      " 7   condominium     2742 non-null   object\n",
      "dtypes: object(8)\n",
      "memory usage: 239.5+ KB\n"
     ]
    }
   ],
   "source": [
    "data.info()"
   ]
  },
  {
   "cell_type": "markdown",
   "id": "9b92b3e8",
   "metadata": {
    "papermill": {
     "duration": 0.095651,
     "end_time": "2021-09-23T19:55:03.302918",
     "exception": false,
     "start_time": "2021-09-23T19:55:03.207267",
     "status": "completed"
    },
    "tags": []
   },
   "source": [
    "We can see that there is some \"na\"s in the price column. I will drop the rows that don't have a value for \"price\":"
   ]
  },
  {
   "cell_type": "code",
   "execution_count": 5,
   "id": "0ce62867",
   "metadata": {
    "execution": {
     "iopub.execute_input": "2021-09-23T19:55:03.503317Z",
     "iopub.status.busy": "2021-09-23T19:55:03.502358Z",
     "iopub.status.idle": "2021-09-23T19:55:03.516393Z",
     "shell.execute_reply": "2021-09-23T19:55:03.516926Z",
     "shell.execute_reply.started": "2021-09-23T19:51:59.677471Z"
    },
    "papermill": {
     "duration": 0.117989,
     "end_time": "2021-09-23T19:55:03.517104",
     "exception": false,
     "start_time": "2021-09-23T19:55:03.399115",
     "status": "completed"
    },
    "tags": []
   },
   "outputs": [
    {
     "name": "stdout",
     "output_type": "stream",
     "text": [
      "<class 'pandas.core.frame.DataFrame'>\n",
      "RangeIndex: 3822 entries, 0 to 3821\n",
      "Data columns (total 8 columns):\n",
      " #   Column          Non-Null Count  Dtype \n",
      "---  ------          --------------  ----- \n",
      " 0   price           3822 non-null   object\n",
      " 1   address         3822 non-null   object\n",
      " 2   area            3822 non-null   object\n",
      " 3   bedroom         3822 non-null   object\n",
      " 4   bathroom        3822 non-null   object\n",
      " 5   parking         3822 non-null   object\n",
      " 6   characteristic  3107 non-null   object\n",
      " 7   condominium     2742 non-null   object\n",
      "dtypes: object(8)\n",
      "memory usage: 239.0+ KB\n"
     ]
    }
   ],
   "source": [
    "data = data.dropna(subset = [\"price\"]).reset_index(drop = True)\n",
    "data.info()"
   ]
  },
  {
   "cell_type": "markdown",
   "id": "743e9b46",
   "metadata": {
    "papermill": {
     "duration": 0.096468,
     "end_time": "2021-09-23T19:55:03.709272",
     "exception": false,
     "start_time": "2021-09-23T19:55:03.612804",
     "status": "completed"
    },
    "tags": []
   },
   "source": [
    "An important thing that we must see now is if all the rows in the \"price\" column refer to money. One way to see that is to verify the presence of the characters \"R$\" in the column:"
   ]
  },
  {
   "cell_type": "code",
   "execution_count": 6,
   "id": "a7cf3af5",
   "metadata": {
    "execution": {
     "iopub.execute_input": "2021-09-23T19:55:03.909389Z",
     "iopub.status.busy": "2021-09-23T19:55:03.908392Z",
     "iopub.status.idle": "2021-09-23T19:55:03.928072Z",
     "shell.execute_reply": "2021-09-23T19:55:03.927408Z",
     "shell.execute_reply.started": "2021-09-23T19:51:59.703767Z"
    },
    "papermill": {
     "duration": 0.121319,
     "end_time": "2021-09-23T19:55:03.928211",
     "exception": false,
     "start_time": "2021-09-23T19:55:03.806892",
     "status": "completed"
    },
    "tags": []
   },
   "outputs": [
    {
     "data": {
      "text/html": [
       "<div>\n",
       "<style scoped>\n",
       "    .dataframe tbody tr th:only-of-type {\n",
       "        vertical-align: middle;\n",
       "    }\n",
       "\n",
       "    .dataframe tbody tr th {\n",
       "        vertical-align: top;\n",
       "    }\n",
       "\n",
       "    .dataframe thead th {\n",
       "        text-align: right;\n",
       "    }\n",
       "</style>\n",
       "<table border=\"1\" class=\"dataframe\">\n",
       "  <thead>\n",
       "    <tr style=\"text-align: right;\">\n",
       "      <th></th>\n",
       "      <th>price</th>\n",
       "      <th>address</th>\n",
       "      <th>area</th>\n",
       "      <th>bedroom</th>\n",
       "      <th>bathroom</th>\n",
       "      <th>parking</th>\n",
       "      <th>characteristic</th>\n",
       "      <th>condominium</th>\n",
       "    </tr>\n",
       "  </thead>\n",
       "  <tbody>\n",
       "    <tr>\n",
       "      <th>341</th>\n",
       "      <td>Sob Consulta</td>\n",
       "      <td>Rua 1141, 337 - Setor Marista, Goiânia - GO</td>\n",
       "      <td>77m²</td>\n",
       "      <td>1 a 3 quartos</td>\n",
       "      <td>3 banheiros     2 suítes</td>\n",
       "      <td>1 vaga</td>\n",
       "      <td>NaN</td>\n",
       "      <td>NaN</td>\n",
       "    </tr>\n",
       "    <tr>\n",
       "      <th>378</th>\n",
       "      <td>Sob Consulta</td>\n",
       "      <td>SOF Sul Quadra 7 - Zona Industrial, Brasília - DF</td>\n",
       "      <td>72 a 134m²</td>\n",
       "      <td>2 a 3 quartos</td>\n",
       "      <td>2 banheiros</td>\n",
       "      <td>1 vaga</td>\n",
       "      <td>NaN</td>\n",
       "      <td>NaN</td>\n",
       "    </tr>\n",
       "    <tr>\n",
       "      <th>913</th>\n",
       "      <td>Sob Consulta</td>\n",
       "      <td>QI 29, LOTE 1 - Guara II, Brasília - DF</td>\n",
       "      <td>71m²</td>\n",
       "      <td>2 quartos</td>\n",
       "      <td>2 banheiros     1 suíte</td>\n",
       "      <td>1 até 2 vagas</td>\n",
       "      <td>NaN</td>\n",
       "      <td>NaN</td>\n",
       "    </tr>\n",
       "    <tr>\n",
       "      <th>1516</th>\n",
       "      <td>Sob Consulta</td>\n",
       "      <td>SQSW 500 Bloco Q, 0 - Setor Sudoeste, Brasília...</td>\n",
       "      <td>346m²</td>\n",
       "      <td>4 quartos</td>\n",
       "      <td>6 banheiros     4 suítes</td>\n",
       "      <td>4 vagas</td>\n",
       "      <td>NaN</td>\n",
       "      <td>NaN</td>\n",
       "    </tr>\n",
       "    <tr>\n",
       "      <th>1528</th>\n",
       "      <td>Sob Consulta</td>\n",
       "      <td>Rua 1141, S/N - Setor Marista, Goiânia - GO</td>\n",
       "      <td>190m²</td>\n",
       "      <td>3 quartos</td>\n",
       "      <td>5 banheiros     3 suítes</td>\n",
       "      <td>2 vagas</td>\n",
       "      <td>NaN</td>\n",
       "      <td>NaN</td>\n",
       "    </tr>\n",
       "    <tr>\n",
       "      <th>1779</th>\n",
       "      <td>Sob Consulta</td>\n",
       "      <td>Rua 1141, S/N - Setor Marista, Goiânia - GO</td>\n",
       "      <td>352m²</td>\n",
       "      <td>4 quartos</td>\n",
       "      <td>6 banheiros     4 suítes</td>\n",
       "      <td>4 vagas</td>\n",
       "      <td>NaN</td>\n",
       "      <td>NaN</td>\n",
       "    </tr>\n",
       "    <tr>\n",
       "      <th>1899</th>\n",
       "      <td>Sob Consulta</td>\n",
       "      <td>Rua 1141, S/N - Setor Marista, Goiânia - GO</td>\n",
       "      <td>348m²</td>\n",
       "      <td>4 quartos</td>\n",
       "      <td>6 banheiros     4 suítes</td>\n",
       "      <td>4 vagas</td>\n",
       "      <td>NaN</td>\n",
       "      <td>NaN</td>\n",
       "    </tr>\n",
       "    <tr>\n",
       "      <th>2234</th>\n",
       "      <td>Sob Consulta</td>\n",
       "      <td>Alameda Santa Luzia, S/N - Mansoes Centro Oest...</td>\n",
       "      <td>40 a 72m²</td>\n",
       "      <td>2 quartos</td>\n",
       "      <td>1 banheiro</td>\n",
       "      <td>1 vaga</td>\n",
       "      <td>NaN</td>\n",
       "      <td>NaN</td>\n",
       "    </tr>\n",
       "    <tr>\n",
       "      <th>2416</th>\n",
       "      <td>Sob Consulta</td>\n",
       "      <td>Rua 1141, S/N - Setor Marista, Goiânia - GO</td>\n",
       "      <td>172m²</td>\n",
       "      <td>3 quartos</td>\n",
       "      <td>4 banheiros     3 suítes</td>\n",
       "      <td>2 vagas</td>\n",
       "      <td>NaN</td>\n",
       "      <td>NaN</td>\n",
       "    </tr>\n",
       "    <tr>\n",
       "      <th>2496</th>\n",
       "      <td>Sob Consulta</td>\n",
       "      <td>Rua Primeiro de Março, 06A - Vila Luciana, Goi...</td>\n",
       "      <td>49 a 51m²</td>\n",
       "      <td>2 quartos</td>\n",
       "      <td>2 banheiros     1 suíte</td>\n",
       "      <td>1 até 2 vagas</td>\n",
       "      <td>NaN</td>\n",
       "      <td>NaN</td>\n",
       "    </tr>\n",
       "    <tr>\n",
       "      <th>2790</th>\n",
       "      <td>Sob Consulta</td>\n",
       "      <td>SQSW 500 Bloco R, - - Setor Sudoeste, Brasília...</td>\n",
       "      <td>139m²</td>\n",
       "      <td>3 quartos</td>\n",
       "      <td>5 banheiros     3 suítes</td>\n",
       "      <td>3 vagas</td>\n",
       "      <td>NaN</td>\n",
       "      <td>NaN</td>\n",
       "    </tr>\n",
       "    <tr>\n",
       "      <th>3015</th>\n",
       "      <td>Sob Consulta</td>\n",
       "      <td>Rua 22, 0 - Setor Oeste, Goiânia - GO</td>\n",
       "      <td>88 a 219m²</td>\n",
       "      <td>2 a 4 quartos</td>\n",
       "      <td>3 a 6 banheiros    até 4 suítes)</td>\n",
       "      <td>1 vaga</td>\n",
       "      <td>NaN</td>\n",
       "      <td>NaN</td>\n",
       "    </tr>\n",
       "    <tr>\n",
       "      <th>3537</th>\n",
       "      <td>Sob Consulta</td>\n",
       "      <td>SQSW 500 Bloco Q, 0 - Setor Sudoeste, Brasília...</td>\n",
       "      <td>175m²</td>\n",
       "      <td>4 quartos</td>\n",
       "      <td>6 banheiros     4 suítes</td>\n",
       "      <td>4 vagas</td>\n",
       "      <td>NaN</td>\n",
       "      <td>NaN</td>\n",
       "    </tr>\n",
       "    <tr>\n",
       "      <th>3575</th>\n",
       "      <td>Sob Consulta</td>\n",
       "      <td>Rua Samuel Morse, 21 - Serrinha, Goiânia - GO</td>\n",
       "      <td>150 a 200m²</td>\n",
       "      <td>3 a 4 quartos</td>\n",
       "      <td>2 banheiros    até 4 suítes)</td>\n",
       "      <td>2 até 3 vagas</td>\n",
       "      <td>NaN</td>\n",
       "      <td>NaN</td>\n",
       "    </tr>\n",
       "    <tr>\n",
       "      <th>3773</th>\n",
       "      <td>Sob Consulta</td>\n",
       "      <td>SQNW 103 Bloco G, SQNW 103 - Setor Noroeste, B...</td>\n",
       "      <td>101m²</td>\n",
       "      <td>3 quartos</td>\n",
       "      <td>4 banheiros     1 suíte</td>\n",
       "      <td>2 vagas</td>\n",
       "      <td>NaN</td>\n",
       "      <td>NaN</td>\n",
       "    </tr>\n",
       "  </tbody>\n",
       "</table>\n",
       "</div>"
      ],
      "text/plain": [
       "                   price                                            address  \\\n",
       "341      Sob Consulta           Rua 1141, 337 - Setor Marista, Goiânia - GO   \n",
       "378      Sob Consulta     SOF Sul Quadra 7 - Zona Industrial, Brasília - DF   \n",
       "913      Sob Consulta               QI 29, LOTE 1 - Guara II, Brasília - DF   \n",
       "1516     Sob Consulta     SQSW 500 Bloco Q, 0 - Setor Sudoeste, Brasília...   \n",
       "1528     Sob Consulta           Rua 1141, S/N - Setor Marista, Goiânia - GO   \n",
       "1779     Sob Consulta           Rua 1141, S/N - Setor Marista, Goiânia - GO   \n",
       "1899     Sob Consulta           Rua 1141, S/N - Setor Marista, Goiânia - GO   \n",
       "2234     Sob Consulta     Alameda Santa Luzia, S/N - Mansoes Centro Oest...   \n",
       "2416     Sob Consulta           Rua 1141, S/N - Setor Marista, Goiânia - GO   \n",
       "2496     Sob Consulta     Rua Primeiro de Março, 06A - Vila Luciana, Goi...   \n",
       "2790     Sob Consulta     SQSW 500 Bloco R, - - Setor Sudoeste, Brasília...   \n",
       "3015     Sob Consulta                 Rua 22, 0 - Setor Oeste, Goiânia - GO   \n",
       "3537     Sob Consulta     SQSW 500 Bloco Q, 0 - Setor Sudoeste, Brasília...   \n",
       "3575     Sob Consulta         Rua Samuel Morse, 21 - Serrinha, Goiânia - GO   \n",
       "3773     Sob Consulta     SQNW 103 Bloco G, SQNW 103 - Setor Noroeste, B...   \n",
       "\n",
       "                 area            bedroom  \\\n",
       "341            77m²      1 a 3 quartos     \n",
       "378      72 a 134m²      2 a 3 quartos     \n",
       "913            71m²          2 quartos     \n",
       "1516          346m²          4 quartos     \n",
       "1528          190m²          3 quartos     \n",
       "1779          352m²          4 quartos     \n",
       "1899          348m²          4 quartos     \n",
       "2234      40 a 72m²          2 quartos     \n",
       "2416          172m²          3 quartos     \n",
       "2496      49 a 51m²          2 quartos     \n",
       "2790          139m²          3 quartos     \n",
       "3015     88 a 219m²      2 a 4 quartos     \n",
       "3537          175m²          4 quartos     \n",
       "3575    150 a 200m²      3 a 4 quartos     \n",
       "3773          101m²          3 quartos     \n",
       "\n",
       "                                  bathroom            parking characteristic  \\\n",
       "341             3 banheiros     2 suítes             1 vaga              NaN   \n",
       "378                     2 banheiros                  1 vaga              NaN   \n",
       "913              2 banheiros     1 suíte      1 até 2 vagas              NaN   \n",
       "1516            6 banheiros     4 suítes            4 vagas              NaN   \n",
       "1528            5 banheiros     3 suítes            2 vagas              NaN   \n",
       "1779            6 banheiros     4 suítes            4 vagas              NaN   \n",
       "1899            6 banheiros     4 suítes            4 vagas              NaN   \n",
       "2234                     1 banheiro                  1 vaga              NaN   \n",
       "2416            4 banheiros     3 suítes            2 vagas              NaN   \n",
       "2496             2 banheiros     1 suíte      1 até 2 vagas              NaN   \n",
       "2790            5 banheiros     3 suítes            3 vagas              NaN   \n",
       "3015    3 a 6 banheiros    até 4 suítes)             1 vaga              NaN   \n",
       "3537            6 banheiros     4 suítes            4 vagas              NaN   \n",
       "3575        2 banheiros    até 4 suítes)      2 até 3 vagas              NaN   \n",
       "3773             4 banheiros     1 suíte            2 vagas              NaN   \n",
       "\n",
       "     condominium  \n",
       "341          NaN  \n",
       "378          NaN  \n",
       "913          NaN  \n",
       "1516         NaN  \n",
       "1528         NaN  \n",
       "1779         NaN  \n",
       "1899         NaN  \n",
       "2234         NaN  \n",
       "2416         NaN  \n",
       "2496         NaN  \n",
       "2790         NaN  \n",
       "3015         NaN  \n",
       "3537         NaN  \n",
       "3575         NaN  \n",
       "3773         NaN  "
      ]
     },
     "execution_count": 6,
     "metadata": {},
     "output_type": "execute_result"
    }
   ],
   "source": [
    "temp = data.price.apply(lambda string: string if \"R$\" in string else np.nan)\n",
    "data[temp.isna()]"
   ]
  },
  {
   "cell_type": "markdown",
   "id": "9c0e1bc7",
   "metadata": {
    "papermill": {
     "duration": 0.098391,
     "end_time": "2021-09-23T19:55:04.125402",
     "exception": false,
     "start_time": "2021-09-23T19:55:04.027011",
     "status": "completed"
    },
    "tags": []
   },
   "source": [
    "We can see that there are rows in the price column with values equal to \"Sob Consulta\", which in english means \"On request\". I will drop these rows, as I can't predict what values should be given to them:"
   ]
  },
  {
   "cell_type": "code",
   "execution_count": 7,
   "id": "a7423a4b",
   "metadata": {
    "execution": {
     "iopub.execute_input": "2021-09-23T19:55:04.331651Z",
     "iopub.status.busy": "2021-09-23T19:55:04.331043Z",
     "iopub.status.idle": "2021-09-23T19:55:04.343903Z",
     "shell.execute_reply": "2021-09-23T19:55:04.344519Z",
     "shell.execute_reply.started": "2021-09-23T19:51:59.727531Z"
    },
    "papermill": {
     "duration": 0.120188,
     "end_time": "2021-09-23T19:55:04.344716",
     "exception": false,
     "start_time": "2021-09-23T19:55:04.224528",
     "status": "completed"
    },
    "tags": []
   },
   "outputs": [
    {
     "name": "stdout",
     "output_type": "stream",
     "text": [
      "<class 'pandas.core.frame.DataFrame'>\n",
      "RangeIndex: 3807 entries, 0 to 3806\n",
      "Data columns (total 8 columns):\n",
      " #   Column          Non-Null Count  Dtype \n",
      "---  ------          --------------  ----- \n",
      " 0   price           3807 non-null   object\n",
      " 1   address         3807 non-null   object\n",
      " 2   area            3807 non-null   object\n",
      " 3   bedroom         3807 non-null   object\n",
      " 4   bathroom        3807 non-null   object\n",
      " 5   parking         3807 non-null   object\n",
      " 6   characteristic  3107 non-null   object\n",
      " 7   condominium     2742 non-null   object\n",
      "dtypes: object(8)\n",
      "memory usage: 238.1+ KB\n"
     ]
    }
   ],
   "source": [
    "data.price = data.price.apply(lambda string: string if \"R$\" in string else np.nan)\n",
    "data = data.dropna(subset = [\"price\"]).reset_index(drop = True)\n",
    "data.info()"
   ]
  },
  {
   "cell_type": "markdown",
   "id": "afbb6125",
   "metadata": {
    "papermill": {
     "duration": 0.097883,
     "end_time": "2021-09-23T19:55:04.541346",
     "exception": false,
     "start_time": "2021-09-23T19:55:04.443463",
     "status": "completed"
    },
    "tags": []
   },
   "source": [
    "Now it is reasonable to verify if all the rows/apartments are from Goiània, Goiás. A simple way to do that is to test if there is rows that don't have \"Goiânia\" in the address column:"
   ]
  },
  {
   "cell_type": "code",
   "execution_count": 8,
   "id": "0e8db203",
   "metadata": {
    "execution": {
     "iopub.execute_input": "2021-09-23T19:55:04.747049Z",
     "iopub.status.busy": "2021-09-23T19:55:04.740647Z",
     "iopub.status.idle": "2021-09-23T19:55:04.750194Z",
     "shell.execute_reply": "2021-09-23T19:55:04.750631Z",
     "shell.execute_reply.started": "2021-09-23T19:51:59.761814Z"
    },
    "papermill": {
     "duration": 0.111295,
     "end_time": "2021-09-23T19:55:04.750839",
     "exception": false,
     "start_time": "2021-09-23T19:55:04.639544",
     "status": "completed"
    },
    "tags": []
   },
   "outputs": [
    {
     "data": {
      "text/plain": [
       "280         Avenida Planalto - Vila Jayara, Anápolis - GO\n",
       "392     Quadra 101 Conjunto 3, s/n - Samambaia Sul, Sa...\n",
       "393      SQNW 102 Bloco I - Setor Noroeste, Brasília - DF\n",
       "476                                       Aragoiânia - GO\n",
       "496     Avenida Planalto - Vila Jaiara Setor Norte, An...\n",
       "568     SQNW 106 Bloco F, S/N - Setor Noroeste, Brasíl...\n",
       "670            SQN 114 Bloco C - Asa Norte, Brasília - DF\n",
       "923     Avenida Augusto César Miranda Alencar, 31 - Ju...\n",
       "1302     SQNW 310 Bloco D - Setor Noroeste, Brasília - DF\n",
       "1361    Quadra 79 Conjunto A, 0 - Parque da Barragem S...\n",
       "1467     SQNW 302 Bloco A - Setor Noroeste, Brasília - DF\n",
       "1756     SQNW 311 Bloco H - Setor Noroeste, Brasília - DF\n",
       "1821    Quadra QB 8, Lote 08 - MANSOES POR DO SOL, Águ...\n",
       "2131                SGCV - Zona Industrial, Brasília - DF\n",
       "2195    Quadra QC 06, s/n - Cidade Jardins, Valparaíso...\n",
       "2235    QNN 30 Área Especial B - Ceilândia Sul, Ceilân...\n",
       "2416     SQNW 302 Bloco D - Setor Noroeste, Brasília - DF\n",
       "2451     SQNW 302 Bloco C - Setor Noroeste, Brasília - DF\n",
       "2685                     Rua 35, s/n - Sul, Brasília - DF\n",
       "2735     SQNW 102 Bloco L - Setor Noroeste, Brasília - DF\n",
       "2810     SQNW 111 Bloco G - Setor Noroeste, Brasília - DF\n",
       "2977     SQNW 106 Bloco J - Setor Noroeste, Brasília - DF\n",
       "3164         SGAN 910 Módulo D - Asa Norte, Brasília - DF\n",
       "3378     SQNW 106 Bloco D - Setor Noroeste, Brasília - DF\n",
       "3463    QS 5 Rua 400, Lote 25 - Aguas Claras, Brasília...\n",
       "3790    Avenida Maranhão, Qd. 64B Lt 30 - Jundiai, Aná...\n",
       "Name: address, dtype: object"
      ]
     },
     "execution_count": 8,
     "metadata": {},
     "output_type": "execute_result"
    }
   ],
   "source": [
    "data[data.address.apply(lambda address: False if \"Goiânia\" in address else True)].address"
   ]
  },
  {
   "cell_type": "markdown",
   "id": "b409d18f",
   "metadata": {
    "papermill": {
     "duration": 0.146358,
     "end_time": "2021-09-23T19:55:04.995272",
     "exception": false,
     "start_time": "2021-09-23T19:55:04.848914",
     "status": "completed"
    },
    "tags": []
   },
   "source": [
    "As we can see, there is apartments from Anápolis and Brasília. This is not of my interest, as I want to predict the price of apartments that are from Goiânia, Goiás:"
   ]
  },
  {
   "cell_type": "code",
   "execution_count": 9,
   "id": "1605fbcb",
   "metadata": {
    "execution": {
     "iopub.execute_input": "2021-09-23T19:55:05.201570Z",
     "iopub.status.busy": "2021-09-23T19:55:05.200900Z",
     "iopub.status.idle": "2021-09-23T19:55:05.213264Z",
     "shell.execute_reply": "2021-09-23T19:55:05.213775Z",
     "shell.execute_reply.started": "2021-09-23T19:51:59.775363Z"
    },
    "papermill": {
     "duration": 0.120833,
     "end_time": "2021-09-23T19:55:05.213942",
     "exception": false,
     "start_time": "2021-09-23T19:55:05.093109",
     "status": "completed"
    },
    "tags": []
   },
   "outputs": [
    {
     "name": "stdout",
     "output_type": "stream",
     "text": [
      "<class 'pandas.core.frame.DataFrame'>\n",
      "RangeIndex: 3781 entries, 0 to 3780\n",
      "Data columns (total 8 columns):\n",
      " #   Column          Non-Null Count  Dtype \n",
      "---  ------          --------------  ----- \n",
      " 0   price           3781 non-null   object\n",
      " 1   address         3781 non-null   object\n",
      " 2   area            3781 non-null   object\n",
      " 3   bedroom         3781 non-null   object\n",
      " 4   bathroom        3781 non-null   object\n",
      " 5   parking         3781 non-null   object\n",
      " 6   characteristic  3105 non-null   object\n",
      " 7   condominium     2742 non-null   object\n",
      "dtypes: object(8)\n",
      "memory usage: 236.4+ KB\n"
     ]
    }
   ],
   "source": [
    "data.address = data.address.apply(lambda address: address if \"Goiânia\" in address else np.nan)\n",
    "data = data.dropna(subset = [\"address\"]).reset_index(drop = True)\n",
    "data.info()"
   ]
  },
  {
   "cell_type": "markdown",
   "id": "9677b7e6",
   "metadata": {
    "papermill": {
     "duration": 0.098636,
     "end_time": "2021-09-23T19:55:05.412788",
     "exception": false,
     "start_time": "2021-09-23T19:55:05.314152",
     "status": "completed"
    },
    "tags": []
   },
   "source": [
    "### Cleaning Data For Each Column"
   ]
  },
  {
   "cell_type": "markdown",
   "id": "433c1259",
   "metadata": {
    "papermill": {
     "duration": 0.10031,
     "end_time": "2021-09-23T19:55:05.612309",
     "exception": false,
     "start_time": "2021-09-23T19:55:05.511999",
     "status": "completed"
    },
    "tags": []
   },
   "source": [
    "Let's start with the \"price\" column. The problem with it is that there are \"R$\" characters, and I need that the column to be numeric:"
   ]
  },
  {
   "cell_type": "code",
   "execution_count": 10,
   "id": "fa3a0a78",
   "metadata": {
    "execution": {
     "iopub.execute_input": "2021-09-23T19:55:05.833955Z",
     "iopub.status.busy": "2021-09-23T19:55:05.814533Z",
     "iopub.status.idle": "2021-09-23T19:55:05.838629Z",
     "shell.execute_reply": "2021-09-23T19:55:05.839084Z",
     "shell.execute_reply.started": "2021-09-23T19:51:59.802182Z"
    },
    "papermill": {
     "duration": 0.127386,
     "end_time": "2021-09-23T19:55:05.839262",
     "exception": false,
     "start_time": "2021-09-23T19:55:05.711876",
     "status": "completed"
    },
    "tags": []
   },
   "outputs": [
    {
     "name": "stdout",
     "output_type": "stream",
     "text": [
      "<class 'pandas.core.frame.DataFrame'>\n",
      "RangeIndex: 3781 entries, 0 to 3780\n",
      "Data columns (total 8 columns):\n",
      " #   Column          Non-Null Count  Dtype  \n",
      "---  ------          --------------  -----  \n",
      " 0   price           3781 non-null   float64\n",
      " 1   address         3781 non-null   object \n",
      " 2   area            3781 non-null   object \n",
      " 3   bedroom         3781 non-null   object \n",
      " 4   bathroom        3781 non-null   object \n",
      " 5   parking         3781 non-null   object \n",
      " 6   characteristic  3105 non-null   object \n",
      " 7   condominium     2742 non-null   object \n",
      "dtypes: float64(1), object(7)\n",
      "memory usage: 236.4+ KB\n"
     ]
    }
   ],
   "source": [
    "price_corrected = data.price.apply(lambda price: price.replace(\"R$ \", \"\").replace(\".\", \"\"))\n",
    "data.price = pd.to_numeric(price_corrected).astype('float')\n",
    "data.info()"
   ]
  },
  {
   "cell_type": "markdown",
   "id": "da8bbf0a",
   "metadata": {
    "papermill": {
     "duration": 0.099494,
     "end_time": "2021-09-23T19:55:06.038526",
     "exception": false,
     "start_time": "2021-09-23T19:55:05.939032",
     "status": "completed"
    },
    "tags": []
   },
   "source": [
    "Similarly, I need the \"area\" column to be numeric. But note that some rows have values like \"X a Ym²\". Take a look:"
   ]
  },
  {
   "cell_type": "code",
   "execution_count": 11,
   "id": "9ee12cac",
   "metadata": {
    "execution": {
     "iopub.execute_input": "2021-09-23T19:55:06.270145Z",
     "iopub.status.busy": "2021-09-23T19:55:06.268957Z",
     "iopub.status.idle": "2021-09-23T19:55:06.284904Z",
     "shell.execute_reply": "2021-09-23T19:55:06.285380Z",
     "shell.execute_reply.started": "2021-09-23T19:51:59.828670Z"
    },
    "papermill": {
     "duration": 0.134547,
     "end_time": "2021-09-23T19:55:06.285551",
     "exception": false,
     "start_time": "2021-09-23T19:55:06.151004",
     "status": "completed"
    },
    "tags": []
   },
   "outputs": [
    {
     "data": {
      "text/html": [
       "<div>\n",
       "<style scoped>\n",
       "    .dataframe tbody tr th:only-of-type {\n",
       "        vertical-align: middle;\n",
       "    }\n",
       "\n",
       "    .dataframe tbody tr th {\n",
       "        vertical-align: top;\n",
       "    }\n",
       "\n",
       "    .dataframe thead th {\n",
       "        text-align: right;\n",
       "    }\n",
       "</style>\n",
       "<table border=\"1\" class=\"dataframe\">\n",
       "  <thead>\n",
       "    <tr style=\"text-align: right;\">\n",
       "      <th></th>\n",
       "      <th>price</th>\n",
       "      <th>address</th>\n",
       "      <th>area</th>\n",
       "      <th>bedroom</th>\n",
       "      <th>bathroom</th>\n",
       "      <th>parking</th>\n",
       "      <th>characteristic</th>\n",
       "      <th>condominium</th>\n",
       "    </tr>\n",
       "  </thead>\n",
       "  <tbody>\n",
       "    <tr>\n",
       "      <th>48</th>\n",
       "      <td>270500.0</td>\n",
       "      <td>Rua T 37, 3449 - Setor Bueno, Goiânia - GO</td>\n",
       "      <td>39 a 88m²</td>\n",
       "      <td>1 a 3 quartos</td>\n",
       "      <td>1 a 3 banheiros    até 3 suítes)</td>\n",
       "      <td>Não informado Solicitar</td>\n",
       "      <td>NaN</td>\n",
       "      <td>NaN</td>\n",
       "    </tr>\n",
       "    <tr>\n",
       "      <th>49</th>\n",
       "      <td>274500.0</td>\n",
       "      <td>Avenida Armando de Godoy - Setor Negrão de Lim...</td>\n",
       "      <td>64 a 90m²</td>\n",
       "      <td>2 a 3 quartos</td>\n",
       "      <td>2 a 3 banheiros    até 3 suítes)</td>\n",
       "      <td>1 até 2 vagas</td>\n",
       "      <td>NaN</td>\n",
       "      <td>NaN</td>\n",
       "    </tr>\n",
       "    <tr>\n",
       "      <th>69</th>\n",
       "      <td>1028256.0</td>\n",
       "      <td>Rua 135, 442 - Setor Marista, Goiânia - GO</td>\n",
       "      <td>170 a 199m²</td>\n",
       "      <td>3 a 4 quartos</td>\n",
       "      <td>1 banheiro    até 4 suítes)</td>\n",
       "      <td>1 vaga</td>\n",
       "      <td>NaN</td>\n",
       "      <td>NaN</td>\n",
       "    </tr>\n",
       "    <tr>\n",
       "      <th>101</th>\n",
       "      <td>513000.0</td>\n",
       "      <td>Rua C228, Quadra 535 - Jardim América, Goiânia...</td>\n",
       "      <td>66 a 90m²</td>\n",
       "      <td>3 quartos</td>\n",
       "      <td>1 banheiro     1 suíte</td>\n",
       "      <td>1 vaga</td>\n",
       "      <td>NaN</td>\n",
       "      <td>NaN</td>\n",
       "    </tr>\n",
       "    <tr>\n",
       "      <th>475</th>\n",
       "      <td>159490.0</td>\n",
       "      <td>Avenida Maria de Melo, lote 01 - Zona Industri...</td>\n",
       "      <td>39 a 42m²</td>\n",
       "      <td>2 quartos</td>\n",
       "      <td>1 banheiro</td>\n",
       "      <td>1 vaga</td>\n",
       "      <td>NaN</td>\n",
       "      <td>NaN</td>\n",
       "    </tr>\n",
       "    <tr>\n",
       "      <th>591</th>\n",
       "      <td>2000000.0</td>\n",
       "      <td>Rua 146, 500 - Setor Marista, Goiânia - GO</td>\n",
       "      <td>267 a 504m²</td>\n",
       "      <td>4 a 5 quartos</td>\n",
       "      <td>1 a 2 banheiros    até 4 suítes)</td>\n",
       "      <td>1 vaga</td>\n",
       "      <td>NaN</td>\n",
       "      <td>NaN</td>\n",
       "    </tr>\n",
       "    <tr>\n",
       "      <th>695</th>\n",
       "      <td>2470259.0</td>\n",
       "      <td>Rua 38, 0 - Setor Marista, Goiânia - GO</td>\n",
       "      <td>326 a 367m²</td>\n",
       "      <td>3 a 4 quartos</td>\n",
       "      <td>3 a 5 banheiros    até 5 suítes)</td>\n",
       "      <td>4 até 5 vagas</td>\n",
       "      <td>NaN</td>\n",
       "      <td>NaN</td>\n",
       "    </tr>\n",
       "    <tr>\n",
       "      <th>728</th>\n",
       "      <td>430000.0</td>\n",
       "      <td>Rua R 7, Qd. E3, Lote 44-46 - Setor Oeste, Goi...</td>\n",
       "      <td>66 a 68m²</td>\n",
       "      <td>2 quartos</td>\n",
       "      <td>2 a 3 banheiros     2 suítes</td>\n",
       "      <td>2 vagas</td>\n",
       "      <td>NaN</td>\n",
       "      <td>NaN</td>\n",
       "    </tr>\n",
       "    <tr>\n",
       "      <th>926</th>\n",
       "      <td>146490.0</td>\n",
       "      <td>Avenida São Domingos, 0 - Vila Mutirão I, Goiâ...</td>\n",
       "      <td>39 a 42m²</td>\n",
       "      <td>2 quartos</td>\n",
       "      <td>1 banheiro</td>\n",
       "      <td>1 vaga</td>\n",
       "      <td>NaN</td>\n",
       "      <td>NaN</td>\n",
       "    </tr>\n",
       "    <tr>\n",
       "      <th>1098</th>\n",
       "      <td>570472.0</td>\n",
       "      <td>Rua 137, - - Setor Marista, Goiânia - GO</td>\n",
       "      <td>83 a 89m²</td>\n",
       "      <td>1 a 3 quartos</td>\n",
       "      <td>2 a 3 banheiros    até 2 suítes)</td>\n",
       "      <td>1 até 2 vagas</td>\n",
       "      <td>NaN</td>\n",
       "      <td>NaN</td>\n",
       "    </tr>\n",
       "    <tr>\n",
       "      <th>1110</th>\n",
       "      <td>330000.0</td>\n",
       "      <td>Rua S 5, Quadra S21 - Setor Bela Vista, Goiâni...</td>\n",
       "      <td>59 a 76m²</td>\n",
       "      <td>2 a 3 quartos</td>\n",
       "      <td>2 banheiros     1 suíte</td>\n",
       "      <td>1 até 2 vagas</td>\n",
       "      <td>NaN</td>\n",
       "      <td>NaN</td>\n",
       "    </tr>\n",
       "    <tr>\n",
       "      <th>1150</th>\n",
       "      <td>1289000.0</td>\n",
       "      <td>Rua 70, Qd c14 - Jardim Goiás, Goiânia - GO</td>\n",
       "      <td>180 a 360m²</td>\n",
       "      <td>3 a 4 quartos</td>\n",
       "      <td>5 a 7 banheiros    até 4 suítes)</td>\n",
       "      <td>3 vagas</td>\n",
       "      <td>NaN</td>\n",
       "      <td>NaN</td>\n",
       "    </tr>\n",
       "    <tr>\n",
       "      <th>1568</th>\n",
       "      <td>1746997.0</td>\n",
       "      <td>Rua 1126, 0 - Setor Marista, Goiânia - GO</td>\n",
       "      <td>245 a 287m²</td>\n",
       "      <td>4 quartos</td>\n",
       "      <td>4 banheiros     4 suítes</td>\n",
       "      <td>3 vagas</td>\n",
       "      <td>NaN</td>\n",
       "      <td>NaN</td>\n",
       "    </tr>\n",
       "    <tr>\n",
       "      <th>1782</th>\n",
       "      <td>519000.0</td>\n",
       "      <td>Avenida Perimetral, 231 - Setor Oeste, Goiânia...</td>\n",
       "      <td>88 a 165m²</td>\n",
       "      <td>3 quartos</td>\n",
       "      <td>3 a 4 banheiros    até 3 suítes)</td>\n",
       "      <td>Não informado Solicitar</td>\n",
       "      <td>Piscina   Elevador   Condomínio fechado   Va...</td>\n",
       "      <td>NaN</td>\n",
       "    </tr>\n",
       "    <tr>\n",
       "      <th>1922</th>\n",
       "      <td>1115000.0</td>\n",
       "      <td>Rua 146, Quadra 59 - Setor Marista, Goiânia - GO</td>\n",
       "      <td>160 a 175m²</td>\n",
       "      <td>3 a 4 quartos</td>\n",
       "      <td>6 banheiros    até 4 suítes)</td>\n",
       "      <td>2 até 3 vagas</td>\n",
       "      <td>NaN</td>\n",
       "      <td>NaN</td>\n",
       "    </tr>\n",
       "    <tr>\n",
       "      <th>2039</th>\n",
       "      <td>910000.0</td>\n",
       "      <td>Rua T 71, 0 - Setor Bueno, Goiânia - GO</td>\n",
       "      <td>141 a 165m²</td>\n",
       "      <td>3 quartos</td>\n",
       "      <td>2 a 5 banheiros     3 suítes</td>\n",
       "      <td>2 até 3 vagas</td>\n",
       "      <td>NaN</td>\n",
       "      <td>NaN</td>\n",
       "    </tr>\n",
       "    <tr>\n",
       "      <th>2051</th>\n",
       "      <td>188990.0</td>\n",
       "      <td>Rua L 10, QD 01 LT 01 - Papillon Park Compleme...</td>\n",
       "      <td>41 a 43m²</td>\n",
       "      <td>2 quartos</td>\n",
       "      <td>1 banheiro</td>\n",
       "      <td>1 vaga</td>\n",
       "      <td>Minha Casa Minha Vida</td>\n",
       "      <td>NaN</td>\n",
       "    </tr>\n",
       "    <tr>\n",
       "      <th>2318</th>\n",
       "      <td>567810.0</td>\n",
       "      <td>Rua T 30, 0 - Vila Americano do Brasil, Goiâni...</td>\n",
       "      <td>103 a 136m²</td>\n",
       "      <td>3 quartos</td>\n",
       "      <td>3 banheiros     3 suítes</td>\n",
       "      <td>2 vagas</td>\n",
       "      <td>NaN</td>\n",
       "      <td>NaN</td>\n",
       "    </tr>\n",
       "    <tr>\n",
       "      <th>2577</th>\n",
       "      <td>149900.0</td>\n",
       "      <td>Rua Augusta, 62 - Parque das Nações, Aparecida...</td>\n",
       "      <td>52 a 54m²</td>\n",
       "      <td>2 quartos</td>\n",
       "      <td>1 a 2 banheiros    até 1 suíte)</td>\n",
       "      <td>1 vaga</td>\n",
       "      <td>Minha Casa Minha Vida</td>\n",
       "      <td>NaN</td>\n",
       "    </tr>\n",
       "    <tr>\n",
       "      <th>2723</th>\n",
       "      <td>935000.0</td>\n",
       "      <td>Rua 1121, 27 - Setor Marista, Goiânia - GO</td>\n",
       "      <td>150 a 170m²</td>\n",
       "      <td>3 a 4 quartos</td>\n",
       "      <td>2 a 3 banheiros     3 suítes</td>\n",
       "      <td>1 até 3 vagas</td>\n",
       "      <td>NaN</td>\n",
       "      <td>NaN</td>\n",
       "    </tr>\n",
       "    <tr>\n",
       "      <th>2884</th>\n",
       "      <td>1100000.0</td>\n",
       "      <td>Rua João de Abreu - Setor Oeste, Goiânia - GO</td>\n",
       "      <td>179 a 355m²</td>\n",
       "      <td>3 a 4 quartos</td>\n",
       "      <td>4 a 5 banheiros    até 4 suítes)</td>\n",
       "      <td>Não informado Solicitar</td>\n",
       "      <td>NaN</td>\n",
       "      <td>NaN</td>\n",
       "    </tr>\n",
       "    <tr>\n",
       "      <th>3061</th>\n",
       "      <td>693221.0</td>\n",
       "      <td>Rua 1128, 470 - Setor Marista, Goiânia - GO</td>\n",
       "      <td>116 a 149m²</td>\n",
       "      <td>3 quartos</td>\n",
       "      <td>1 banheiro    até 4 suítes)</td>\n",
       "      <td>1 vaga</td>\n",
       "      <td>NaN</td>\n",
       "      <td>NaN</td>\n",
       "    </tr>\n",
       "    <tr>\n",
       "      <th>3165</th>\n",
       "      <td>174300.0</td>\n",
       "      <td>Avenida Abel Soares de Castro, 0 - Setor Faiça...</td>\n",
       "      <td>35 a 44m²</td>\n",
       "      <td>1 a 2 quartos</td>\n",
       "      <td>1 banheiro</td>\n",
       "      <td>1 vaga</td>\n",
       "      <td>Minha Casa Minha Vida</td>\n",
       "      <td>NaN</td>\n",
       "    </tr>\n",
       "    <tr>\n",
       "      <th>3343</th>\n",
       "      <td>158990.0</td>\n",
       "      <td>Rua X 5 - Cardoso Continuação , Aparecida de G...</td>\n",
       "      <td>41 a 43m²</td>\n",
       "      <td>2 quartos</td>\n",
       "      <td>1 banheiro</td>\n",
       "      <td>1 vaga</td>\n",
       "      <td>NaN</td>\n",
       "      <td>NaN</td>\n",
       "    </tr>\n",
       "    <tr>\n",
       "      <th>3429</th>\n",
       "      <td>381200.0</td>\n",
       "      <td>Rua T 53, 1151 - Setor Bueno, Goiânia - GO</td>\n",
       "      <td>65 a 81m²</td>\n",
       "      <td>2 a 3 quartos</td>\n",
       "      <td>2 banheiros    até 2 suítes)</td>\n",
       "      <td>1 até 2 vagas</td>\n",
       "      <td>NaN</td>\n",
       "      <td>NaN</td>\n",
       "    </tr>\n",
       "    <tr>\n",
       "      <th>3456</th>\n",
       "      <td>307500.0</td>\n",
       "      <td>Rua 12 A, 122 - Setor Aeroporto, Goiânia - GO</td>\n",
       "      <td>60 a 80m²</td>\n",
       "      <td>2 a 3 quartos</td>\n",
       "      <td>1 a 2 banheiros     1 suíte</td>\n",
       "      <td>1 vaga</td>\n",
       "      <td>NaN</td>\n",
       "      <td>NaN</td>\n",
       "    </tr>\n",
       "    <tr>\n",
       "      <th>3485</th>\n",
       "      <td>1205000.0</td>\n",
       "      <td>Rua 70 - Jardim Goiás, Goiânia - GO</td>\n",
       "      <td>174 a 250m²</td>\n",
       "      <td>3 a 4 quartos</td>\n",
       "      <td>4 a 5 banheiros    até 4 suítes)</td>\n",
       "      <td>Não informado Solicitar</td>\n",
       "      <td>NaN</td>\n",
       "      <td>NaN</td>\n",
       "    </tr>\n",
       "    <tr>\n",
       "      <th>3521</th>\n",
       "      <td>370000.0</td>\n",
       "      <td>Rua T 27, 54 - Setor Bueno, Goiânia - GO</td>\n",
       "      <td>71 a 98m²</td>\n",
       "      <td>2 a 3 quartos</td>\n",
       "      <td>1 banheiro    até 3 suítes)</td>\n",
       "      <td>1 até 2 vagas</td>\n",
       "      <td>NaN</td>\n",
       "      <td>NaN</td>\n",
       "    </tr>\n",
       "    <tr>\n",
       "      <th>3573</th>\n",
       "      <td>345000.0</td>\n",
       "      <td>Rua 7, . - Setor Oeste, Goiânia - GO</td>\n",
       "      <td>34 a 76m²</td>\n",
       "      <td>1 a 2 quartos</td>\n",
       "      <td>1 banheiro    até 2 suítes)</td>\n",
       "      <td>1 vaga</td>\n",
       "      <td>NaN</td>\n",
       "      <td>NaN</td>\n",
       "    </tr>\n",
       "    <tr>\n",
       "      <th>3615</th>\n",
       "      <td>411420.0</td>\n",
       "      <td>Rua 1033 - Setor Pedro Ludovico, Goiânia - GO</td>\n",
       "      <td>65 a 99m²</td>\n",
       "      <td>2 a 3 quartos</td>\n",
       "      <td>2 a 3 banheiros    até 3 suítes)</td>\n",
       "      <td>1 até 2 vagas</td>\n",
       "      <td>NaN</td>\n",
       "      <td>NaN</td>\n",
       "    </tr>\n",
       "    <tr>\n",
       "      <th>3768</th>\n",
       "      <td>1160000.0</td>\n",
       "      <td>Rua 12, N/D - Setor Oeste, Goiânia - GO</td>\n",
       "      <td>185 a 221m²</td>\n",
       "      <td>3 quartos</td>\n",
       "      <td>1 a 4 banheiros     3 suítes</td>\n",
       "      <td>1 vaga</td>\n",
       "      <td>NaN</td>\n",
       "      <td>NaN</td>\n",
       "    </tr>\n",
       "  </tbody>\n",
       "</table>\n",
       "</div>"
      ],
      "text/plain": [
       "          price                                            address  \\\n",
       "48     270500.0         Rua T 37, 3449 - Setor Bueno, Goiânia - GO   \n",
       "49     274500.0  Avenida Armando de Godoy - Setor Negrão de Lim...   \n",
       "69    1028256.0         Rua 135, 442 - Setor Marista, Goiânia - GO   \n",
       "101    513000.0  Rua C228, Quadra 535 - Jardim América, Goiânia...   \n",
       "475    159490.0  Avenida Maria de Melo, lote 01 - Zona Industri...   \n",
       "591   2000000.0         Rua 146, 500 - Setor Marista, Goiânia - GO   \n",
       "695   2470259.0            Rua 38, 0 - Setor Marista, Goiânia - GO   \n",
       "728    430000.0  Rua R 7, Qd. E3, Lote 44-46 - Setor Oeste, Goi...   \n",
       "926    146490.0  Avenida São Domingos, 0 - Vila Mutirão I, Goiâ...   \n",
       "1098   570472.0           Rua 137, - - Setor Marista, Goiânia - GO   \n",
       "1110   330000.0  Rua S 5, Quadra S21 - Setor Bela Vista, Goiâni...   \n",
       "1150  1289000.0        Rua 70, Qd c14 - Jardim Goiás, Goiânia - GO   \n",
       "1568  1746997.0          Rua 1126, 0 - Setor Marista, Goiânia - GO   \n",
       "1782   519000.0  Avenida Perimetral, 231 - Setor Oeste, Goiânia...   \n",
       "1922  1115000.0   Rua 146, Quadra 59 - Setor Marista, Goiânia - GO   \n",
       "2039   910000.0            Rua T 71, 0 - Setor Bueno, Goiânia - GO   \n",
       "2051   188990.0  Rua L 10, QD 01 LT 01 - Papillon Park Compleme...   \n",
       "2318   567810.0  Rua T 30, 0 - Vila Americano do Brasil, Goiâni...   \n",
       "2577   149900.0  Rua Augusta, 62 - Parque das Nações, Aparecida...   \n",
       "2723   935000.0         Rua 1121, 27 - Setor Marista, Goiânia - GO   \n",
       "2884  1100000.0      Rua João de Abreu - Setor Oeste, Goiânia - GO   \n",
       "3061   693221.0        Rua 1128, 470 - Setor Marista, Goiânia - GO   \n",
       "3165   174300.0  Avenida Abel Soares de Castro, 0 - Setor Faiça...   \n",
       "3343   158990.0  Rua X 5 - Cardoso Continuação , Aparecida de G...   \n",
       "3429   381200.0         Rua T 53, 1151 - Setor Bueno, Goiânia - GO   \n",
       "3456   307500.0      Rua 12 A, 122 - Setor Aeroporto, Goiânia - GO   \n",
       "3485  1205000.0                Rua 70 - Jardim Goiás, Goiânia - GO   \n",
       "3521   370000.0           Rua T 27, 54 - Setor Bueno, Goiânia - GO   \n",
       "3573   345000.0               Rua 7, . - Setor Oeste, Goiânia - GO   \n",
       "3615   411420.0      Rua 1033 - Setor Pedro Ludovico, Goiânia - GO   \n",
       "3768  1160000.0            Rua 12, N/D - Setor Oeste, Goiânia - GO   \n",
       "\n",
       "                 area            bedroom  \\\n",
       "48        39 a 88m²      1 a 3 quartos     \n",
       "49        64 a 90m²      2 a 3 quartos     \n",
       "69      170 a 199m²      3 a 4 quartos     \n",
       "101       66 a 90m²          3 quartos     \n",
       "475       39 a 42m²          2 quartos     \n",
       "591     267 a 504m²      4 a 5 quartos     \n",
       "695     326 a 367m²      3 a 4 quartos     \n",
       "728       66 a 68m²          2 quartos     \n",
       "926       39 a 42m²          2 quartos     \n",
       "1098      83 a 89m²      1 a 3 quartos     \n",
       "1110      59 a 76m²      2 a 3 quartos     \n",
       "1150    180 a 360m²      3 a 4 quartos     \n",
       "1568    245 a 287m²          4 quartos     \n",
       "1782     88 a 165m²          3 quartos     \n",
       "1922    160 a 175m²      3 a 4 quartos     \n",
       "2039    141 a 165m²          3 quartos     \n",
       "2051      41 a 43m²          2 quartos     \n",
       "2318    103 a 136m²          3 quartos     \n",
       "2577      52 a 54m²          2 quartos     \n",
       "2723    150 a 170m²      3 a 4 quartos     \n",
       "2884    179 a 355m²      3 a 4 quartos     \n",
       "3061    116 a 149m²          3 quartos     \n",
       "3165      35 a 44m²      1 a 2 quartos     \n",
       "3343      41 a 43m²          2 quartos     \n",
       "3429      65 a 81m²      2 a 3 quartos     \n",
       "3456      60 a 80m²      2 a 3 quartos     \n",
       "3485    174 a 250m²      3 a 4 quartos     \n",
       "3521      71 a 98m²      2 a 3 quartos     \n",
       "3573      34 a 76m²      1 a 2 quartos     \n",
       "3615      65 a 99m²      2 a 3 quartos     \n",
       "3768    185 a 221m²          3 quartos     \n",
       "\n",
       "                                  bathroom                     parking  \\\n",
       "48      1 a 3 banheiros    até 3 suítes)      Não informado Solicitar    \n",
       "49      2 a 3 banheiros    até 3 suítes)               1 até 2 vagas     \n",
       "69           1 banheiro    até 4 suítes)                      1 vaga     \n",
       "101               1 banheiro     1 suíte                      1 vaga     \n",
       "475                      1 banheiro                           1 vaga     \n",
       "591     1 a 2 banheiros    até 4 suítes)                      1 vaga     \n",
       "695     3 a 5 banheiros    até 5 suítes)               4 até 5 vagas     \n",
       "728         2 a 3 banheiros     2 suítes                     2 vagas     \n",
       "926                      1 banheiro                           1 vaga     \n",
       "1098    2 a 3 banheiros    até 2 suítes)               1 até 2 vagas     \n",
       "1110             2 banheiros     1 suíte               1 até 2 vagas     \n",
       "1150    5 a 7 banheiros    até 4 suítes)                     3 vagas     \n",
       "1568            4 banheiros     4 suítes                     3 vagas     \n",
       "1782    3 a 4 banheiros    até 3 suítes)      Não informado Solicitar    \n",
       "1922        6 banheiros    até 4 suítes)               2 até 3 vagas     \n",
       "2039        2 a 5 banheiros     3 suítes               2 até 3 vagas     \n",
       "2051                     1 banheiro                           1 vaga     \n",
       "2318            3 banheiros     3 suítes                     2 vagas     \n",
       "2577     1 a 2 banheiros    até 1 suíte)                      1 vaga     \n",
       "2723        2 a 3 banheiros     3 suítes               1 até 3 vagas     \n",
       "2884    4 a 5 banheiros    até 4 suítes)      Não informado Solicitar    \n",
       "3061         1 banheiro    até 4 suítes)                      1 vaga     \n",
       "3165                     1 banheiro                           1 vaga     \n",
       "3343                     1 banheiro                           1 vaga     \n",
       "3429        2 banheiros    até 2 suítes)               1 até 2 vagas     \n",
       "3456         1 a 2 banheiros     1 suíte                      1 vaga     \n",
       "3485    4 a 5 banheiros    até 4 suítes)      Não informado Solicitar    \n",
       "3521         1 banheiro    até 3 suítes)               1 até 2 vagas     \n",
       "3573         1 banheiro    até 2 suítes)                      1 vaga     \n",
       "3615    2 a 3 banheiros    até 3 suítes)               1 até 2 vagas     \n",
       "3768        1 a 4 banheiros     3 suítes                      1 vaga     \n",
       "\n",
       "                                         characteristic condominium  \n",
       "48                                                  NaN         NaN  \n",
       "49                                                  NaN         NaN  \n",
       "69                                                  NaN         NaN  \n",
       "101                                                 NaN         NaN  \n",
       "475                                                 NaN         NaN  \n",
       "591                                                 NaN         NaN  \n",
       "695                                                 NaN         NaN  \n",
       "728                                                 NaN         NaN  \n",
       "926                                                 NaN         NaN  \n",
       "1098                                                NaN         NaN  \n",
       "1110                                                NaN         NaN  \n",
       "1150                                                NaN         NaN  \n",
       "1568                                                NaN         NaN  \n",
       "1782    Piscina   Elevador   Condomínio fechado   Va...         NaN  \n",
       "1922                                                NaN         NaN  \n",
       "2039                                                NaN         NaN  \n",
       "2051                            Minha Casa Minha Vida           NaN  \n",
       "2318                                                NaN         NaN  \n",
       "2577                            Minha Casa Minha Vida           NaN  \n",
       "2723                                                NaN         NaN  \n",
       "2884                                                NaN         NaN  \n",
       "3061                                                NaN         NaN  \n",
       "3165                            Minha Casa Minha Vida           NaN  \n",
       "3343                                                NaN         NaN  \n",
       "3429                                                NaN         NaN  \n",
       "3456                                                NaN         NaN  \n",
       "3485                                                NaN         NaN  \n",
       "3521                                                NaN         NaN  \n",
       "3573                                                NaN         NaN  \n",
       "3615                                                NaN         NaN  \n",
       "3768                                                NaN         NaN  "
      ]
     },
     "execution_count": 11,
     "metadata": {},
     "output_type": "execute_result"
    }
   ],
   "source": [
    "data[data.area.apply(lambda area: True if \"a\" in area else False)]"
   ]
  },
  {
   "cell_type": "markdown",
   "id": "2d648115",
   "metadata": {
    "papermill": {
     "duration": 0.100267,
     "end_time": "2021-09-23T19:55:06.485973",
     "exception": false,
     "start_time": "2021-09-23T19:55:06.385706",
     "status": "completed"
    },
    "tags": []
   },
   "source": [
    "In the vivareal website, some apartments weren't launched yet, and the price collected by my script took the \"minimal value\", so to speak.\n",
    "\n",
    "Apartments that weren't launched also had a range for the other columns. So I must take the minimal value for all of them, and of course to guarantee that the values are numeric.\n",
    "\n",
    "Correcting the \"area\" column:"
   ]
  },
  {
   "cell_type": "code",
   "execution_count": 12,
   "id": "78009c51",
   "metadata": {
    "execution": {
     "iopub.execute_input": "2021-09-23T19:55:06.691207Z",
     "iopub.status.busy": "2021-09-23T19:55:06.690268Z",
     "iopub.status.idle": "2021-09-23T19:55:06.712523Z",
     "shell.execute_reply": "2021-09-23T19:55:06.713039Z",
     "shell.execute_reply.started": "2021-09-23T19:51:59.866544Z"
    },
    "papermill": {
     "duration": 0.126291,
     "end_time": "2021-09-23T19:55:06.713205",
     "exception": false,
     "start_time": "2021-09-23T19:55:06.586914",
     "status": "completed"
    },
    "tags": []
   },
   "outputs": [
    {
     "data": {
      "text/html": [
       "<div>\n",
       "<style scoped>\n",
       "    .dataframe tbody tr th:only-of-type {\n",
       "        vertical-align: middle;\n",
       "    }\n",
       "\n",
       "    .dataframe tbody tr th {\n",
       "        vertical-align: top;\n",
       "    }\n",
       "\n",
       "    .dataframe thead th {\n",
       "        text-align: right;\n",
       "    }\n",
       "</style>\n",
       "<table border=\"1\" class=\"dataframe\">\n",
       "  <thead>\n",
       "    <tr style=\"text-align: right;\">\n",
       "      <th></th>\n",
       "      <th>price</th>\n",
       "      <th>address</th>\n",
       "      <th>area</th>\n",
       "      <th>bedroom</th>\n",
       "      <th>bathroom</th>\n",
       "      <th>parking</th>\n",
       "      <th>characteristic</th>\n",
       "      <th>condominium</th>\n",
       "    </tr>\n",
       "  </thead>\n",
       "  <tbody>\n",
       "    <tr>\n",
       "      <th>0</th>\n",
       "      <td>1580000.0</td>\n",
       "      <td>Setor Bueno, Goiânia - GO</td>\n",
       "      <td>230.0</td>\n",
       "      <td>3 quartos</td>\n",
       "      <td>6 banheiros     3 suítes</td>\n",
       "      <td>3 vagas</td>\n",
       "      <td>Piscina   Varanda   Área de serviço   Quadra...</td>\n",
       "      <td>NaN</td>\n",
       "    </tr>\n",
       "    <tr>\n",
       "      <th>1</th>\n",
       "      <td>450000.0</td>\n",
       "      <td>Rua Natal, 59 - Alto da Glória, Goiânia - GO</td>\n",
       "      <td>94.0</td>\n",
       "      <td>3 quartos</td>\n",
       "      <td>2 banheiros     1 suíte</td>\n",
       "      <td>1 vaga</td>\n",
       "      <td>Espaço gourmet   Churrasqueira   Playground ...</td>\n",
       "      <td>R$ 380</td>\n",
       "    </tr>\n",
       "    <tr>\n",
       "      <th>2</th>\n",
       "      <td>330000.0</td>\n",
       "      <td>Rua Dom Orione, 57 - Setor Oeste, Goiânia - GO</td>\n",
       "      <td>111.0</td>\n",
       "      <td>3 quartos</td>\n",
       "      <td>3 banheiros     1 suíte</td>\n",
       "      <td>1 vaga</td>\n",
       "      <td>Varanda   Aceita animais   Área de serviço  ...</td>\n",
       "      <td>R$ 450</td>\n",
       "    </tr>\n",
       "    <tr>\n",
       "      <th>3</th>\n",
       "      <td>320000.0</td>\n",
       "      <td>Avenida Nápoli, 201 - Residencial Eldorado, Go...</td>\n",
       "      <td>79.0</td>\n",
       "      <td>3 quartos</td>\n",
       "      <td>3 banheiros     3 suítes</td>\n",
       "      <td>1 vaga</td>\n",
       "      <td>Piscina   Churrasqueira   Elevador   Condomí...</td>\n",
       "      <td>R$ 400</td>\n",
       "    </tr>\n",
       "    <tr>\n",
       "      <th>4</th>\n",
       "      <td>915525.0</td>\n",
       "      <td>Rua T 36, 1 - Setor Bueno, Goiânia - GO</td>\n",
       "      <td>137.0</td>\n",
       "      <td>3 quartos</td>\n",
       "      <td>5 banheiros     3 suítes</td>\n",
       "      <td>2 vagas</td>\n",
       "      <td>Piscina   Churrasqueira   Elevador   Condomí...</td>\n",
       "      <td>NaN</td>\n",
       "    </tr>\n",
       "  </tbody>\n",
       "</table>\n",
       "</div>"
      ],
      "text/plain": [
       "       price                                            address   area  \\\n",
       "0  1580000.0                          Setor Bueno, Goiânia - GO  230.0   \n",
       "1   450000.0       Rua Natal, 59 - Alto da Glória, Goiânia - GO   94.0   \n",
       "2   330000.0     Rua Dom Orione, 57 - Setor Oeste, Goiânia - GO  111.0   \n",
       "3   320000.0  Avenida Nápoli, 201 - Residencial Eldorado, Go...   79.0   \n",
       "4   915525.0            Rua T 36, 1 - Setor Bueno, Goiânia - GO  137.0   \n",
       "\n",
       "         bedroom                      bathroom      parking  \\\n",
       "0    3 quartos      6 banheiros     3 suítes      3 vagas     \n",
       "1    3 quartos       2 banheiros     1 suíte       1 vaga     \n",
       "2    3 quartos       3 banheiros     1 suíte       1 vaga     \n",
       "3    3 quartos      3 banheiros     3 suítes       1 vaga     \n",
       "4    3 quartos      5 banheiros     3 suítes      2 vagas     \n",
       "\n",
       "                                      characteristic condominium  \n",
       "0    Piscina   Varanda   Área de serviço   Quadra...         NaN  \n",
       "1    Espaço gourmet   Churrasqueira   Playground ...     R$ 380   \n",
       "2    Varanda   Aceita animais   Área de serviço  ...     R$ 450   \n",
       "3    Piscina   Churrasqueira   Elevador   Condomí...     R$ 400   \n",
       "4    Piscina   Churrasqueira   Elevador   Condomí...         NaN  "
      ]
     },
     "execution_count": 12,
     "metadata": {},
     "output_type": "execute_result"
    }
   ],
   "source": [
    "area_corrected = data.area.apply(lambda area: area.split(\" a \")[0] if \"a\" in area else area.replace(\"m²\", \"\"))\n",
    "data.area = pd.to_numeric(area_corrected).astype(\"float\")\n",
    "data.head()"
   ]
  },
  {
   "cell_type": "markdown",
   "id": "cea75d23",
   "metadata": {
    "papermill": {
     "duration": 0.100636,
     "end_time": "2021-09-23T19:55:06.913787",
     "exception": false,
     "start_time": "2021-09-23T19:55:06.813151",
     "status": "completed"
    },
    "tags": []
   },
   "source": [
    "Now see that there is one row in the \"bedroom\" column that don't have information about the number of bedrooms in the apartment:"
   ]
  },
  {
   "cell_type": "code",
   "execution_count": 13,
   "id": "d9a77211",
   "metadata": {
    "execution": {
     "iopub.execute_input": "2021-09-23T19:55:07.122030Z",
     "iopub.status.busy": "2021-09-23T19:55:07.119703Z",
     "iopub.status.idle": "2021-09-23T19:55:07.134992Z",
     "shell.execute_reply": "2021-09-23T19:55:07.135478Z",
     "shell.execute_reply.started": "2021-09-23T19:51:59.901748Z"
    },
    "papermill": {
     "duration": 0.12051,
     "end_time": "2021-09-23T19:55:07.135641",
     "exception": false,
     "start_time": "2021-09-23T19:55:07.015131",
     "status": "completed"
    },
    "tags": []
   },
   "outputs": [
    {
     "data": {
      "text/html": [
       "<div>\n",
       "<style scoped>\n",
       "    .dataframe tbody tr th:only-of-type {\n",
       "        vertical-align: middle;\n",
       "    }\n",
       "\n",
       "    .dataframe tbody tr th {\n",
       "        vertical-align: top;\n",
       "    }\n",
       "\n",
       "    .dataframe thead th {\n",
       "        text-align: right;\n",
       "    }\n",
       "</style>\n",
       "<table border=\"1\" class=\"dataframe\">\n",
       "  <thead>\n",
       "    <tr style=\"text-align: right;\">\n",
       "      <th></th>\n",
       "      <th>price</th>\n",
       "      <th>address</th>\n",
       "      <th>area</th>\n",
       "      <th>bedroom</th>\n",
       "      <th>bathroom</th>\n",
       "      <th>parking</th>\n",
       "      <th>characteristic</th>\n",
       "      <th>condominium</th>\n",
       "    </tr>\n",
       "  </thead>\n",
       "  <tbody>\n",
       "    <tr>\n",
       "      <th>846</th>\n",
       "      <td>200000.0</td>\n",
       "      <td>Avenida E - Jardim Goiás, Goiânia - GO</td>\n",
       "      <td>5000.0</td>\n",
       "      <td>Não informado Solicitar</td>\n",
       "      <td>Não informado Solicitar</td>\n",
       "      <td>2 vagas</td>\n",
       "      <td>NaN</td>\n",
       "      <td>R$ 1</td>\n",
       "    </tr>\n",
       "  </tbody>\n",
       "</table>\n",
       "</div>"
      ],
      "text/plain": [
       "        price                                 address    area  \\\n",
       "846  200000.0  Avenida E - Jardim Goiás, Goiânia - GO  5000.0   \n",
       "\n",
       "                        bedroom                    bathroom      parking  \\\n",
       "846    Não informado Solicitar     Não informado Solicitar     2 vagas     \n",
       "\n",
       "    characteristic condominium  \n",
       "846            NaN       R$ 1   "
      ]
     },
     "execution_count": 13,
     "metadata": {},
     "output_type": "execute_result"
    }
   ],
   "source": [
    "data[data.bedroom.apply(lambda bedroom: True if \"Solicitar\" in bedroom else False)]"
   ]
  },
  {
   "cell_type": "markdown",
   "id": "2c376ec1",
   "metadata": {
    "papermill": {
     "duration": 0.101689,
     "end_time": "2021-09-23T19:55:07.340810",
     "exception": false,
     "start_time": "2021-09-23T19:55:07.239121",
     "status": "completed"
    },
    "tags": []
   },
   "source": [
    "Also note that the informations to that \"apartment\" are very weird. What apartment have 5000m²? That's simply surreal.\n",
    "\n",
    "I will not think much about it and just drop the row:"
   ]
  },
  {
   "cell_type": "code",
   "execution_count": 14,
   "id": "1a11bb05",
   "metadata": {
    "execution": {
     "iopub.execute_input": "2021-09-23T19:55:07.550714Z",
     "iopub.status.busy": "2021-09-23T19:55:07.549645Z",
     "iopub.status.idle": "2021-09-23T19:55:07.560891Z",
     "shell.execute_reply": "2021-09-23T19:55:07.561378Z",
     "shell.execute_reply.started": "2021-09-23T19:51:59.926572Z"
    },
    "papermill": {
     "duration": 0.119032,
     "end_time": "2021-09-23T19:55:07.561548",
     "exception": false,
     "start_time": "2021-09-23T19:55:07.442516",
     "status": "completed"
    },
    "tags": []
   },
   "outputs": [
    {
     "data": {
      "text/html": [
       "<div>\n",
       "<style scoped>\n",
       "    .dataframe tbody tr th:only-of-type {\n",
       "        vertical-align: middle;\n",
       "    }\n",
       "\n",
       "    .dataframe tbody tr th {\n",
       "        vertical-align: top;\n",
       "    }\n",
       "\n",
       "    .dataframe thead th {\n",
       "        text-align: right;\n",
       "    }\n",
       "</style>\n",
       "<table border=\"1\" class=\"dataframe\">\n",
       "  <thead>\n",
       "    <tr style=\"text-align: right;\">\n",
       "      <th></th>\n",
       "      <th>price</th>\n",
       "      <th>address</th>\n",
       "      <th>area</th>\n",
       "      <th>bedroom</th>\n",
       "      <th>bathroom</th>\n",
       "      <th>parking</th>\n",
       "      <th>characteristic</th>\n",
       "      <th>condominium</th>\n",
       "    </tr>\n",
       "  </thead>\n",
       "  <tbody>\n",
       "  </tbody>\n",
       "</table>\n",
       "</div>"
      ],
      "text/plain": [
       "Empty DataFrame\n",
       "Columns: [price, address, area, bedroom, bathroom, parking, characteristic, condominium]\n",
       "Index: []"
      ]
     },
     "execution_count": 14,
     "metadata": {},
     "output_type": "execute_result"
    }
   ],
   "source": [
    "data = data.drop(846).reset_index(drop = True)\n",
    "data[data.bedroom.apply(lambda bedroom: True if \"Solicitar\" in bedroom else False)]"
   ]
  },
  {
   "cell_type": "markdown",
   "id": "f44ebcdf",
   "metadata": {
    "papermill": {
     "duration": 0.101766,
     "end_time": "2021-09-23T19:55:07.764530",
     "exception": false,
     "start_time": "2021-09-23T19:55:07.662764",
     "status": "completed"
    },
    "tags": []
   },
   "source": [
    "Nice.\n",
    "\n",
    "Now I can take the minimal value for the rows that have a range, and then transform the rows to a numeric value:"
   ]
  },
  {
   "cell_type": "code",
   "execution_count": 15,
   "id": "0c8056e7",
   "metadata": {
    "execution": {
     "iopub.execute_input": "2021-09-23T19:55:07.973706Z",
     "iopub.status.busy": "2021-09-23T19:55:07.973065Z",
     "iopub.status.idle": "2021-09-23T19:55:07.994721Z",
     "shell.execute_reply": "2021-09-23T19:55:07.995182Z",
     "shell.execute_reply.started": "2021-09-23T19:51:59.945682Z"
    },
    "papermill": {
     "duration": 0.126524,
     "end_time": "2021-09-23T19:55:07.995354",
     "exception": false,
     "start_time": "2021-09-23T19:55:07.868830",
     "status": "completed"
    },
    "tags": []
   },
   "outputs": [
    {
     "data": {
      "text/html": [
       "<div>\n",
       "<style scoped>\n",
       "    .dataframe tbody tr th:only-of-type {\n",
       "        vertical-align: middle;\n",
       "    }\n",
       "\n",
       "    .dataframe tbody tr th {\n",
       "        vertical-align: top;\n",
       "    }\n",
       "\n",
       "    .dataframe thead th {\n",
       "        text-align: right;\n",
       "    }\n",
       "</style>\n",
       "<table border=\"1\" class=\"dataframe\">\n",
       "  <thead>\n",
       "    <tr style=\"text-align: right;\">\n",
       "      <th></th>\n",
       "      <th>price</th>\n",
       "      <th>address</th>\n",
       "      <th>area</th>\n",
       "      <th>bedroom</th>\n",
       "      <th>bathroom</th>\n",
       "      <th>parking</th>\n",
       "      <th>characteristic</th>\n",
       "      <th>condominium</th>\n",
       "    </tr>\n",
       "  </thead>\n",
       "  <tbody>\n",
       "    <tr>\n",
       "      <th>0</th>\n",
       "      <td>1580000.0</td>\n",
       "      <td>Setor Bueno, Goiânia - GO</td>\n",
       "      <td>230.0</td>\n",
       "      <td>3</td>\n",
       "      <td>6 banheiros     3 suítes</td>\n",
       "      <td>3 vagas</td>\n",
       "      <td>Piscina   Varanda   Área de serviço   Quadra...</td>\n",
       "      <td>NaN</td>\n",
       "    </tr>\n",
       "    <tr>\n",
       "      <th>1</th>\n",
       "      <td>450000.0</td>\n",
       "      <td>Rua Natal, 59 - Alto da Glória, Goiânia - GO</td>\n",
       "      <td>94.0</td>\n",
       "      <td>3</td>\n",
       "      <td>2 banheiros     1 suíte</td>\n",
       "      <td>1 vaga</td>\n",
       "      <td>Espaço gourmet   Churrasqueira   Playground ...</td>\n",
       "      <td>R$ 380</td>\n",
       "    </tr>\n",
       "    <tr>\n",
       "      <th>2</th>\n",
       "      <td>330000.0</td>\n",
       "      <td>Rua Dom Orione, 57 - Setor Oeste, Goiânia - GO</td>\n",
       "      <td>111.0</td>\n",
       "      <td>3</td>\n",
       "      <td>3 banheiros     1 suíte</td>\n",
       "      <td>1 vaga</td>\n",
       "      <td>Varanda   Aceita animais   Área de serviço  ...</td>\n",
       "      <td>R$ 450</td>\n",
       "    </tr>\n",
       "    <tr>\n",
       "      <th>3</th>\n",
       "      <td>320000.0</td>\n",
       "      <td>Avenida Nápoli, 201 - Residencial Eldorado, Go...</td>\n",
       "      <td>79.0</td>\n",
       "      <td>3</td>\n",
       "      <td>3 banheiros     3 suítes</td>\n",
       "      <td>1 vaga</td>\n",
       "      <td>Piscina   Churrasqueira   Elevador   Condomí...</td>\n",
       "      <td>R$ 400</td>\n",
       "    </tr>\n",
       "    <tr>\n",
       "      <th>4</th>\n",
       "      <td>915525.0</td>\n",
       "      <td>Rua T 36, 1 - Setor Bueno, Goiânia - GO</td>\n",
       "      <td>137.0</td>\n",
       "      <td>3</td>\n",
       "      <td>5 banheiros     3 suítes</td>\n",
       "      <td>2 vagas</td>\n",
       "      <td>Piscina   Churrasqueira   Elevador   Condomí...</td>\n",
       "      <td>NaN</td>\n",
       "    </tr>\n",
       "  </tbody>\n",
       "</table>\n",
       "</div>"
      ],
      "text/plain": [
       "       price                                            address   area  \\\n",
       "0  1580000.0                          Setor Bueno, Goiânia - GO  230.0   \n",
       "1   450000.0       Rua Natal, 59 - Alto da Glória, Goiânia - GO   94.0   \n",
       "2   330000.0     Rua Dom Orione, 57 - Setor Oeste, Goiânia - GO  111.0   \n",
       "3   320000.0  Avenida Nápoli, 201 - Residencial Eldorado, Go...   79.0   \n",
       "4   915525.0            Rua T 36, 1 - Setor Bueno, Goiânia - GO  137.0   \n",
       "\n",
       "   bedroom                      bathroom      parking  \\\n",
       "0        3    6 banheiros     3 suítes      3 vagas     \n",
       "1        3     2 banheiros     1 suíte       1 vaga     \n",
       "2        3     3 banheiros     1 suíte       1 vaga     \n",
       "3        3    3 banheiros     3 suítes       1 vaga     \n",
       "4        3    5 banheiros     3 suítes      2 vagas     \n",
       "\n",
       "                                      characteristic condominium  \n",
       "0    Piscina   Varanda   Área de serviço   Quadra...         NaN  \n",
       "1    Espaço gourmet   Churrasqueira   Playground ...     R$ 380   \n",
       "2    Varanda   Aceita animais   Área de serviço  ...     R$ 450   \n",
       "3    Piscina   Churrasqueira   Elevador   Condomí...     R$ 400   \n",
       "4    Piscina   Churrasqueira   Elevador   Condomí...         NaN  "
      ]
     },
     "execution_count": 15,
     "metadata": {},
     "output_type": "execute_result"
    }
   ],
   "source": [
    "data.bedroom = data.bedroom.apply(lambda bedroom: bedroom.split(\" a \")[0] if \" a \" in bedroom else bedroom.split(\"quarto\")[0])\n",
    "data.bedroom = pd.to_numeric(data.bedroom)\n",
    "data.head()"
   ]
  },
  {
   "cell_type": "markdown",
   "id": "0c488b6e",
   "metadata": {
    "papermill": {
     "duration": 0.10364,
     "end_time": "2021-09-23T19:55:08.203015",
     "exception": false,
     "start_time": "2021-09-23T19:55:08.099375",
     "status": "completed"
    },
    "tags": []
   },
   "source": [
    "The bathroom column will give some work to us...\n",
    "\n",
    "Note that there is two informations in this column: number of bathrooms and number of suites (if it exists). So I will try to separate these informations in two distinct columns.\n",
    "\n",
    "First I will get rid of some unnecessary white spaces and then replace some strings:"
   ]
  },
  {
   "cell_type": "code",
   "execution_count": 16,
   "id": "aea4bb67",
   "metadata": {
    "execution": {
     "iopub.execute_input": "2021-09-23T19:55:08.413174Z",
     "iopub.status.busy": "2021-09-23T19:55:08.412509Z",
     "iopub.status.idle": "2021-09-23T19:55:08.426121Z",
     "shell.execute_reply": "2021-09-23T19:55:08.425578Z",
     "shell.execute_reply.started": "2021-09-23T19:51:59.979087Z"
    },
    "papermill": {
     "duration": 0.119814,
     "end_time": "2021-09-23T19:55:08.426265",
     "exception": false,
     "start_time": "2021-09-23T19:55:08.306451",
     "status": "completed"
    },
    "tags": []
   },
   "outputs": [
    {
     "data": {
      "text/plain": [
       "array(['6 banheiro 3 suíte', '2 banheiro 1 suíte', '3 banheiro 1 suíte',\n",
       "       '3 banheiro 3 suíte', '5 banheiro 3 suíte', '5 banheiro 2 suíte',\n",
       "       '5 banheiro 4 suíte', '1 banheiro', '4 banheiro 4 suíte',\n",
       "       '6 banheiro 4 suíte', '1 banheiro 1 suíte', '4 banheiro 3 suíte',\n",
       "       '3 banheiro 2 suíte', '7 banheiro 4 suíte',\n",
       "       '1 a 3 banheiro até 3 suíte)', '2 a 3 banheiro até 3 suíte)',\n",
       "       '6 banheiro 6 suíte', '2 banheiro', '1 banheiro até 4 suíte)',\n",
       "       '4 banheiro 1 suíte', '2 banheiro 2 suíte', '4 banheiro 2 suíte',\n",
       "       '8 banheiro 5 suíte', '1 banheiro 3 suíte', '1 banheiro 2 suíte',\n",
       "       '1 banheiro 4 suíte', '7 banheiro 5 suíte', '6 banheiro 5 suíte',\n",
       "       '2 banheiro 6 suíte', '2 banheiro 3 suíte', '5 banheiro',\n",
       "       '11 banheiro 4 suíte', '5 banheiro 5 suíte', '4 banheiro',\n",
       "       '6 banheiro 2 suíte', '1 banheiro 5 suíte', '4 banheiro 30 suíte',\n",
       "       '7 banheiro 6 suíte', '1 a 2 banheiro até 4 suíte)',\n",
       "       '3 a 5 banheiro até 5 suíte)', '2 a 3 banheiro 2 suíte',\n",
       "       '7 banheiro 2 suíte', '2 a 3 banheiro até 2 suíte)', '3 banheiro',\n",
       "       '2 a 4 banheiro até 3 suíte)', '5 a 7 banheiro até 4 suíte)',\n",
       "       '9 banheiro 4 suíte', '7 banheiro 7 suíte',\n",
       "       '4 a 5 banheiro 4 suíte', '6 banheiro',\n",
       "       '3 a 4 banheiro até 3 suíte)', '3 banheiro 4 suíte',\n",
       "       '6 banheiro até 4 suíte)', '2 banheiro até 3 suíte)',\n",
       "       '2 banheiro 4 suíte', '2 a 5 banheiro 3 suíte',\n",
       "       '9 banheiro 5 suíte', '1 a 2 banheiro até 1 suíte)',\n",
       "       '2 a 3 banheiro 3 suíte', '4 a 5 banheiro até 4 suíte)',\n",
       "       '9 banheiro 7 suíte', '8 banheiro 4 suíte',\n",
       "       '2 banheiro até 4 suíte)', '7 banheiro', '5 a 6 banheiro 4 suíte',\n",
       "       '2 banheiro até 2 suíte)', '1 a 2 banheiro 1 suíte',\n",
       "       '1 banheiro até 3 suíte)', '5 a 6 banheiro até 4 suíte)',\n",
       "       '1 banheiro até 2 suíte)', '1 a 4 banheiro 3 suíte'], dtype=object)"
      ]
     },
     "execution_count": 16,
     "metadata": {},
     "output_type": "execute_result"
    }
   ],
   "source": [
    "data.bathroom = data.bathroom.apply(lambda string: ' '.join(string.split()).\n",
    "                    replace(\"banheiros\", \"banheiro\").replace(\"suítes\", \"suíte\"))\n",
    "data.bathroom.unique()"
   ]
  },
  {
   "cell_type": "markdown",
   "id": "e552e18e",
   "metadata": {
    "papermill": {
     "duration": 0.103048,
     "end_time": "2021-09-23T19:55:08.631994",
     "exception": false,
     "start_time": "2021-09-23T19:55:08.528946",
     "status": "completed"
    },
    "tags": []
   },
   "source": [
    "Note the pattern that I explained.\n",
    "\n",
    "Note also that not all apartments have suite:"
   ]
  },
  {
   "cell_type": "markdown",
   "id": "0b10321b",
   "metadata": {
    "papermill": {
     "duration": 0.102111,
     "end_time": "2021-09-23T19:55:08.836207",
     "exception": false,
     "start_time": "2021-09-23T19:55:08.734096",
     "status": "completed"
    },
    "tags": []
   },
   "source": [
    "It's easy to take just the number of bathrooms:"
   ]
  },
  {
   "cell_type": "code",
   "execution_count": 17,
   "id": "0c0e4c8d",
   "metadata": {
    "execution": {
     "iopub.execute_input": "2021-09-23T19:55:09.053117Z",
     "iopub.status.busy": "2021-09-23T19:55:09.052361Z",
     "iopub.status.idle": "2021-09-23T19:55:09.055490Z",
     "shell.execute_reply": "2021-09-23T19:55:09.055931Z",
     "shell.execute_reply.started": "2021-09-23T19:51:59.999245Z"
    },
    "papermill": {
     "duration": 0.11605,
     "end_time": "2021-09-23T19:55:09.056090",
     "exception": false,
     "start_time": "2021-09-23T19:55:08.940040",
     "status": "completed"
    },
    "tags": []
   },
   "outputs": [
    {
     "data": {
      "text/plain": [
       "array(['6', '2', '3', '5', '1', '4', '7', '8', '11', '9'], dtype=object)"
      ]
     },
     "execution_count": 17,
     "metadata": {},
     "output_type": "execute_result"
    }
   ],
   "source": [
    "bathroom = data.bathroom.apply(lambda string: string.split()[0])\n",
    "bathroom.unique()"
   ]
  },
  {
   "cell_type": "markdown",
   "id": "0d13c838",
   "metadata": {
    "papermill": {
     "duration": 0.104113,
     "end_time": "2021-09-23T19:55:09.264221",
     "exception": false,
     "start_time": "2021-09-23T19:55:09.160108",
     "status": "completed"
    },
    "tags": []
   },
   "source": [
    "Now I must try to catch only the number of suites. I will start by separating the informations:"
   ]
  },
  {
   "cell_type": "code",
   "execution_count": 18,
   "id": "5d1faf05",
   "metadata": {
    "execution": {
     "iopub.execute_input": "2021-09-23T19:55:09.479182Z",
     "iopub.status.busy": "2021-09-23T19:55:09.478124Z",
     "iopub.status.idle": "2021-09-23T19:55:09.482770Z",
     "shell.execute_reply": "2021-09-23T19:55:09.483205Z",
     "shell.execute_reply.started": "2021-09-23T19:52:00.019358Z"
    },
    "papermill": {
     "duration": 0.115818,
     "end_time": "2021-09-23T19:55:09.483364",
     "exception": false,
     "start_time": "2021-09-23T19:55:09.367546",
     "status": "completed"
    },
    "tags": []
   },
   "outputs": [
    {
     "data": {
      "text/plain": [
       "array(['3 suíte', '1 suíte', '2 suíte', '4 suíte', '1 banheiro',\n",
       "       'até 3 suíte)', '6 suíte', '2 banheiro', 'até 4 suíte)', '5 suíte',\n",
       "       '5 banheiro', '4 banheiro', '30 suíte', 'até 5 suíte)',\n",
       "       'até 2 suíte)', '3 banheiro', '7 suíte', '6 banheiro',\n",
       "       'até 1 suíte)', '7 banheiro'], dtype=object)"
      ]
     },
     "execution_count": 18,
     "metadata": {},
     "output_type": "execute_result"
    }
   ],
   "source": [
    "suite = data.bathroom.apply(lambda string: string.split(\"banheiro \")[-1])\n",
    "suite.unique()"
   ]
  },
  {
   "cell_type": "markdown",
   "id": "ffdac2d4",
   "metadata": {
    "papermill": {
     "duration": 0.10337,
     "end_time": "2021-09-23T19:55:09.690205",
     "exception": false,
     "start_time": "2021-09-23T19:55:09.586835",
     "status": "completed"
    },
    "tags": []
   },
   "source": [
    "Now it's useful to create a temporary function to take only the number of suites, if it exists:"
   ]
  },
  {
   "cell_type": "code",
   "execution_count": 19,
   "id": "857f4326",
   "metadata": {
    "execution": {
     "iopub.execute_input": "2021-09-23T19:55:09.903370Z",
     "iopub.status.busy": "2021-09-23T19:55:09.902717Z",
     "iopub.status.idle": "2021-09-23T19:55:09.905829Z",
     "shell.execute_reply": "2021-09-23T19:55:09.905324Z",
     "shell.execute_reply.started": "2021-09-23T19:52:00.039265Z"
    },
    "papermill": {
     "duration": 0.112107,
     "end_time": "2021-09-23T19:55:09.905976",
     "exception": false,
     "start_time": "2021-09-23T19:55:09.793869",
     "status": "completed"
    },
    "tags": []
   },
   "outputs": [],
   "source": [
    "def temp_func(string):\n",
    "    if \"banheiro\" in string:\n",
    "        return 0\n",
    "    elif \"até\" not in string:\n",
    "        return string.split()[0]\n",
    "    else:\n",
    "        return np.nan"
   ]
  },
  {
   "cell_type": "code",
   "execution_count": 20,
   "id": "a6b11617",
   "metadata": {
    "execution": {
     "iopub.execute_input": "2021-09-23T19:55:10.124895Z",
     "iopub.status.busy": "2021-09-23T19:55:10.124054Z",
     "iopub.status.idle": "2021-09-23T19:55:10.127740Z",
     "shell.execute_reply": "2021-09-23T19:55:10.127111Z",
     "shell.execute_reply.started": "2021-09-23T19:52:00.056345Z"
    },
    "papermill": {
     "duration": 0.117402,
     "end_time": "2021-09-23T19:55:10.127878",
     "exception": false,
     "start_time": "2021-09-23T19:55:10.010476",
     "status": "completed"
    },
    "tags": []
   },
   "outputs": [
    {
     "data": {
      "text/plain": [
       "array(['3', '1', '2', '4', 0, nan, '6', '5', '30', '7'], dtype=object)"
      ]
     },
     "execution_count": 20,
     "metadata": {},
     "output_type": "execute_result"
    }
   ],
   "source": [
    "suite = suite.apply(temp_func)\n",
    "suite.unique()"
   ]
  },
  {
   "cell_type": "markdown",
   "id": "f13b7370",
   "metadata": {
    "papermill": {
     "duration": 0.104634,
     "end_time": "2021-09-23T19:55:10.336782",
     "exception": false,
     "start_time": "2021-09-23T19:55:10.232148",
     "status": "completed"
    },
    "tags": []
   },
   "source": [
    "It seems okay (except for the 30 there, but let's forget about it for now).\n",
    "\n",
    "Now let's update the columns in data:"
   ]
  },
  {
   "cell_type": "code",
   "execution_count": 21,
   "id": "fff5b679",
   "metadata": {
    "execution": {
     "iopub.execute_input": "2021-09-23T19:55:10.572191Z",
     "iopub.status.busy": "2021-09-23T19:55:10.571233Z",
     "iopub.status.idle": "2021-09-23T19:55:10.575201Z",
     "shell.execute_reply": "2021-09-23T19:55:10.574743Z",
     "shell.execute_reply.started": "2021-09-23T19:52:00.082123Z"
    },
    "papermill": {
     "duration": 0.134307,
     "end_time": "2021-09-23T19:55:10.575332",
     "exception": false,
     "start_time": "2021-09-23T19:55:10.441025",
     "status": "completed"
    },
    "tags": []
   },
   "outputs": [
    {
     "data": {
      "text/html": [
       "<div>\n",
       "<style scoped>\n",
       "    .dataframe tbody tr th:only-of-type {\n",
       "        vertical-align: middle;\n",
       "    }\n",
       "\n",
       "    .dataframe tbody tr th {\n",
       "        vertical-align: top;\n",
       "    }\n",
       "\n",
       "    .dataframe thead th {\n",
       "        text-align: right;\n",
       "    }\n",
       "</style>\n",
       "<table border=\"1\" class=\"dataframe\">\n",
       "  <thead>\n",
       "    <tr style=\"text-align: right;\">\n",
       "      <th></th>\n",
       "      <th>price</th>\n",
       "      <th>address</th>\n",
       "      <th>area</th>\n",
       "      <th>bedroom</th>\n",
       "      <th>bathroom</th>\n",
       "      <th>parking</th>\n",
       "      <th>characteristic</th>\n",
       "      <th>condominium</th>\n",
       "      <th>suite</th>\n",
       "    </tr>\n",
       "  </thead>\n",
       "  <tbody>\n",
       "    <tr>\n",
       "      <th>0</th>\n",
       "      <td>1580000.0</td>\n",
       "      <td>Setor Bueno, Goiânia - GO</td>\n",
       "      <td>230.0</td>\n",
       "      <td>3</td>\n",
       "      <td>6 banheiro 3 suíte</td>\n",
       "      <td>3 vagas</td>\n",
       "      <td>Piscina   Varanda   Área de serviço   Quadra...</td>\n",
       "      <td>NaN</td>\n",
       "      <td>3.0</td>\n",
       "    </tr>\n",
       "    <tr>\n",
       "      <th>1</th>\n",
       "      <td>450000.0</td>\n",
       "      <td>Rua Natal, 59 - Alto da Glória, Goiânia - GO</td>\n",
       "      <td>94.0</td>\n",
       "      <td>3</td>\n",
       "      <td>2 banheiro 1 suíte</td>\n",
       "      <td>1 vaga</td>\n",
       "      <td>Espaço gourmet   Churrasqueira   Playground ...</td>\n",
       "      <td>R$ 380</td>\n",
       "      <td>1.0</td>\n",
       "    </tr>\n",
       "    <tr>\n",
       "      <th>2</th>\n",
       "      <td>330000.0</td>\n",
       "      <td>Rua Dom Orione, 57 - Setor Oeste, Goiânia - GO</td>\n",
       "      <td>111.0</td>\n",
       "      <td>3</td>\n",
       "      <td>3 banheiro 1 suíte</td>\n",
       "      <td>1 vaga</td>\n",
       "      <td>Varanda   Aceita animais   Área de serviço  ...</td>\n",
       "      <td>R$ 450</td>\n",
       "      <td>1.0</td>\n",
       "    </tr>\n",
       "    <tr>\n",
       "      <th>3</th>\n",
       "      <td>320000.0</td>\n",
       "      <td>Avenida Nápoli, 201 - Residencial Eldorado, Go...</td>\n",
       "      <td>79.0</td>\n",
       "      <td>3</td>\n",
       "      <td>3 banheiro 3 suíte</td>\n",
       "      <td>1 vaga</td>\n",
       "      <td>Piscina   Churrasqueira   Elevador   Condomí...</td>\n",
       "      <td>R$ 400</td>\n",
       "      <td>3.0</td>\n",
       "    </tr>\n",
       "    <tr>\n",
       "      <th>4</th>\n",
       "      <td>915525.0</td>\n",
       "      <td>Rua T 36, 1 - Setor Bueno, Goiânia - GO</td>\n",
       "      <td>137.0</td>\n",
       "      <td>3</td>\n",
       "      <td>5 banheiro 3 suíte</td>\n",
       "      <td>2 vagas</td>\n",
       "      <td>Piscina   Churrasqueira   Elevador   Condomí...</td>\n",
       "      <td>NaN</td>\n",
       "      <td>3.0</td>\n",
       "    </tr>\n",
       "    <tr>\n",
       "      <th>...</th>\n",
       "      <td>...</td>\n",
       "      <td>...</td>\n",
       "      <td>...</td>\n",
       "      <td>...</td>\n",
       "      <td>...</td>\n",
       "      <td>...</td>\n",
       "      <td>...</td>\n",
       "      <td>...</td>\n",
       "      <td>...</td>\n",
       "    </tr>\n",
       "    <tr>\n",
       "      <th>3775</th>\n",
       "      <td>539000.0</td>\n",
       "      <td>Avenida Olinda, 0 - Park Lozândes, Goiânia - GO</td>\n",
       "      <td>105.0</td>\n",
       "      <td>3</td>\n",
       "      <td>4 banheiro 3 suíte</td>\n",
       "      <td>2 vagas</td>\n",
       "      <td>Piscina   Churrasqueira   Elevador   Condomí...</td>\n",
       "      <td>R$ 420</td>\n",
       "      <td>3.0</td>\n",
       "    </tr>\n",
       "    <tr>\n",
       "      <th>3776</th>\n",
       "      <td>279900.0</td>\n",
       "      <td>Rua T 36, 3445 - Setor Bueno, Goiânia - GO</td>\n",
       "      <td>85.0</td>\n",
       "      <td>3</td>\n",
       "      <td>2 banheiro 1 suíte</td>\n",
       "      <td>1 vaga</td>\n",
       "      <td>Academia   Aceita animais   Salão de festas ...</td>\n",
       "      <td>R$ 400</td>\n",
       "      <td>1.0</td>\n",
       "    </tr>\n",
       "    <tr>\n",
       "      <th>3777</th>\n",
       "      <td>430000.0</td>\n",
       "      <td>Setor Marista, Goiânia - GO</td>\n",
       "      <td>64.0</td>\n",
       "      <td>2</td>\n",
       "      <td>2 banheiro 1 suíte</td>\n",
       "      <td>2 vagas</td>\n",
       "      <td>NaN</td>\n",
       "      <td>NaN</td>\n",
       "      <td>1.0</td>\n",
       "    </tr>\n",
       "    <tr>\n",
       "      <th>3778</th>\n",
       "      <td>445000.0</td>\n",
       "      <td>Rua 99, 26 - Setor Sul, Goiânia - GO</td>\n",
       "      <td>185.0</td>\n",
       "      <td>3</td>\n",
       "      <td>4 banheiro 2 suíte</td>\n",
       "      <td>2 vagas</td>\n",
       "      <td>Elevador   Condomínio fechado   Aceita anima...</td>\n",
       "      <td>R$ 1.000</td>\n",
       "      <td>2.0</td>\n",
       "    </tr>\n",
       "    <tr>\n",
       "      <th>3779</th>\n",
       "      <td>1640000.0</td>\n",
       "      <td>Rua 1141 - Setor Marista, Goiânia - GO</td>\n",
       "      <td>221.0</td>\n",
       "      <td>4</td>\n",
       "      <td>5 banheiro 4 suíte</td>\n",
       "      <td>3 vagas</td>\n",
       "      <td>Piscina   Churrasqueira   Varanda   Academia...</td>\n",
       "      <td>NaN</td>\n",
       "      <td>4.0</td>\n",
       "    </tr>\n",
       "  </tbody>\n",
       "</table>\n",
       "<p>3780 rows × 9 columns</p>\n",
       "</div>"
      ],
      "text/plain": [
       "          price                                            address   area  \\\n",
       "0     1580000.0                          Setor Bueno, Goiânia - GO  230.0   \n",
       "1      450000.0       Rua Natal, 59 - Alto da Glória, Goiânia - GO   94.0   \n",
       "2      330000.0     Rua Dom Orione, 57 - Setor Oeste, Goiânia - GO  111.0   \n",
       "3      320000.0  Avenida Nápoli, 201 - Residencial Eldorado, Go...   79.0   \n",
       "4      915525.0            Rua T 36, 1 - Setor Bueno, Goiânia - GO  137.0   \n",
       "...         ...                                                ...    ...   \n",
       "3775   539000.0    Avenida Olinda, 0 - Park Lozândes, Goiânia - GO  105.0   \n",
       "3776   279900.0         Rua T 36, 3445 - Setor Bueno, Goiânia - GO   85.0   \n",
       "3777   430000.0                        Setor Marista, Goiânia - GO   64.0   \n",
       "3778   445000.0               Rua 99, 26 - Setor Sul, Goiânia - GO  185.0   \n",
       "3779  1640000.0             Rua 1141 - Setor Marista, Goiânia - GO  221.0   \n",
       "\n",
       "      bedroom            bathroom      parking  \\\n",
       "0           3  6 banheiro 3 suíte    3 vagas     \n",
       "1           3  2 banheiro 1 suíte     1 vaga     \n",
       "2           3  3 banheiro 1 suíte     1 vaga     \n",
       "3           3  3 banheiro 3 suíte     1 vaga     \n",
       "4           3  5 banheiro 3 suíte    2 vagas     \n",
       "...       ...                 ...          ...   \n",
       "3775        3  4 banheiro 3 suíte    2 vagas     \n",
       "3776        3  2 banheiro 1 suíte     1 vaga     \n",
       "3777        2  2 banheiro 1 suíte    2 vagas     \n",
       "3778        3  4 banheiro 2 suíte    2 vagas     \n",
       "3779        4  5 banheiro 4 suíte    3 vagas     \n",
       "\n",
       "                                         characteristic condominium  suite  \n",
       "0       Piscina   Varanda   Área de serviço   Quadra...         NaN    3.0  \n",
       "1       Espaço gourmet   Churrasqueira   Playground ...     R$ 380     1.0  \n",
       "2       Varanda   Aceita animais   Área de serviço  ...     R$ 450     1.0  \n",
       "3       Piscina   Churrasqueira   Elevador   Condomí...     R$ 400     3.0  \n",
       "4       Piscina   Churrasqueira   Elevador   Condomí...         NaN    3.0  \n",
       "...                                                 ...         ...    ...  \n",
       "3775    Piscina   Churrasqueira   Elevador   Condomí...     R$ 420     3.0  \n",
       "3776    Academia   Aceita animais   Salão de festas ...     R$ 400     1.0  \n",
       "3777                                                NaN         NaN    1.0  \n",
       "3778    Elevador   Condomínio fechado   Aceita anima...   R$ 1.000     2.0  \n",
       "3779    Piscina   Churrasqueira   Varanda   Academia...         NaN    4.0  \n",
       "\n",
       "[3780 rows x 9 columns]"
      ]
     },
     "execution_count": 21,
     "metadata": {},
     "output_type": "execute_result"
    }
   ],
   "source": [
    "data[\"suite\"] = pd.to_numeric(suite)\n",
    "data"
   ]
  },
  {
   "cell_type": "code",
   "execution_count": 22,
   "id": "050fb04f",
   "metadata": {
    "execution": {
     "iopub.execute_input": "2021-09-23T19:55:10.793469Z",
     "iopub.status.busy": "2021-09-23T19:55:10.788101Z",
     "iopub.status.idle": "2021-09-23T19:55:10.813795Z",
     "shell.execute_reply": "2021-09-23T19:55:10.813182Z",
     "shell.execute_reply.started": "2021-09-23T19:52:00.112857Z"
    },
    "papermill": {
     "duration": 0.133537,
     "end_time": "2021-09-23T19:55:10.813926",
     "exception": false,
     "start_time": "2021-09-23T19:55:10.680389",
     "status": "completed"
    },
    "tags": []
   },
   "outputs": [
    {
     "data": {
      "text/html": [
       "<div>\n",
       "<style scoped>\n",
       "    .dataframe tbody tr th:only-of-type {\n",
       "        vertical-align: middle;\n",
       "    }\n",
       "\n",
       "    .dataframe tbody tr th {\n",
       "        vertical-align: top;\n",
       "    }\n",
       "\n",
       "    .dataframe thead th {\n",
       "        text-align: right;\n",
       "    }\n",
       "</style>\n",
       "<table border=\"1\" class=\"dataframe\">\n",
       "  <thead>\n",
       "    <tr style=\"text-align: right;\">\n",
       "      <th></th>\n",
       "      <th>price</th>\n",
       "      <th>address</th>\n",
       "      <th>area</th>\n",
       "      <th>bedroom</th>\n",
       "      <th>bathroom</th>\n",
       "      <th>parking</th>\n",
       "      <th>characteristic</th>\n",
       "      <th>condominium</th>\n",
       "      <th>suite</th>\n",
       "    </tr>\n",
       "  </thead>\n",
       "  <tbody>\n",
       "    <tr>\n",
       "      <th>0</th>\n",
       "      <td>1580000.0</td>\n",
       "      <td>Setor Bueno, Goiânia - GO</td>\n",
       "      <td>230.0</td>\n",
       "      <td>3</td>\n",
       "      <td>6</td>\n",
       "      <td>3 vagas</td>\n",
       "      <td>Piscina   Varanda   Área de serviço   Quadra...</td>\n",
       "      <td>NaN</td>\n",
       "      <td>3.0</td>\n",
       "    </tr>\n",
       "    <tr>\n",
       "      <th>1</th>\n",
       "      <td>450000.0</td>\n",
       "      <td>Rua Natal, 59 - Alto da Glória, Goiânia - GO</td>\n",
       "      <td>94.0</td>\n",
       "      <td>3</td>\n",
       "      <td>2</td>\n",
       "      <td>1 vaga</td>\n",
       "      <td>Espaço gourmet   Churrasqueira   Playground ...</td>\n",
       "      <td>R$ 380</td>\n",
       "      <td>1.0</td>\n",
       "    </tr>\n",
       "    <tr>\n",
       "      <th>2</th>\n",
       "      <td>330000.0</td>\n",
       "      <td>Rua Dom Orione, 57 - Setor Oeste, Goiânia - GO</td>\n",
       "      <td>111.0</td>\n",
       "      <td>3</td>\n",
       "      <td>3</td>\n",
       "      <td>1 vaga</td>\n",
       "      <td>Varanda   Aceita animais   Área de serviço  ...</td>\n",
       "      <td>R$ 450</td>\n",
       "      <td>1.0</td>\n",
       "    </tr>\n",
       "    <tr>\n",
       "      <th>3</th>\n",
       "      <td>320000.0</td>\n",
       "      <td>Avenida Nápoli, 201 - Residencial Eldorado, Go...</td>\n",
       "      <td>79.0</td>\n",
       "      <td>3</td>\n",
       "      <td>3</td>\n",
       "      <td>1 vaga</td>\n",
       "      <td>Piscina   Churrasqueira   Elevador   Condomí...</td>\n",
       "      <td>R$ 400</td>\n",
       "      <td>3.0</td>\n",
       "    </tr>\n",
       "    <tr>\n",
       "      <th>4</th>\n",
       "      <td>915525.0</td>\n",
       "      <td>Rua T 36, 1 - Setor Bueno, Goiânia - GO</td>\n",
       "      <td>137.0</td>\n",
       "      <td>3</td>\n",
       "      <td>5</td>\n",
       "      <td>2 vagas</td>\n",
       "      <td>Piscina   Churrasqueira   Elevador   Condomí...</td>\n",
       "      <td>NaN</td>\n",
       "      <td>3.0</td>\n",
       "    </tr>\n",
       "    <tr>\n",
       "      <th>...</th>\n",
       "      <td>...</td>\n",
       "      <td>...</td>\n",
       "      <td>...</td>\n",
       "      <td>...</td>\n",
       "      <td>...</td>\n",
       "      <td>...</td>\n",
       "      <td>...</td>\n",
       "      <td>...</td>\n",
       "      <td>...</td>\n",
       "    </tr>\n",
       "    <tr>\n",
       "      <th>3775</th>\n",
       "      <td>539000.0</td>\n",
       "      <td>Avenida Olinda, 0 - Park Lozândes, Goiânia - GO</td>\n",
       "      <td>105.0</td>\n",
       "      <td>3</td>\n",
       "      <td>4</td>\n",
       "      <td>2 vagas</td>\n",
       "      <td>Piscina   Churrasqueira   Elevador   Condomí...</td>\n",
       "      <td>R$ 420</td>\n",
       "      <td>3.0</td>\n",
       "    </tr>\n",
       "    <tr>\n",
       "      <th>3776</th>\n",
       "      <td>279900.0</td>\n",
       "      <td>Rua T 36, 3445 - Setor Bueno, Goiânia - GO</td>\n",
       "      <td>85.0</td>\n",
       "      <td>3</td>\n",
       "      <td>2</td>\n",
       "      <td>1 vaga</td>\n",
       "      <td>Academia   Aceita animais   Salão de festas ...</td>\n",
       "      <td>R$ 400</td>\n",
       "      <td>1.0</td>\n",
       "    </tr>\n",
       "    <tr>\n",
       "      <th>3777</th>\n",
       "      <td>430000.0</td>\n",
       "      <td>Setor Marista, Goiânia - GO</td>\n",
       "      <td>64.0</td>\n",
       "      <td>2</td>\n",
       "      <td>2</td>\n",
       "      <td>2 vagas</td>\n",
       "      <td>NaN</td>\n",
       "      <td>NaN</td>\n",
       "      <td>1.0</td>\n",
       "    </tr>\n",
       "    <tr>\n",
       "      <th>3778</th>\n",
       "      <td>445000.0</td>\n",
       "      <td>Rua 99, 26 - Setor Sul, Goiânia - GO</td>\n",
       "      <td>185.0</td>\n",
       "      <td>3</td>\n",
       "      <td>4</td>\n",
       "      <td>2 vagas</td>\n",
       "      <td>Elevador   Condomínio fechado   Aceita anima...</td>\n",
       "      <td>R$ 1.000</td>\n",
       "      <td>2.0</td>\n",
       "    </tr>\n",
       "    <tr>\n",
       "      <th>3779</th>\n",
       "      <td>1640000.0</td>\n",
       "      <td>Rua 1141 - Setor Marista, Goiânia - GO</td>\n",
       "      <td>221.0</td>\n",
       "      <td>4</td>\n",
       "      <td>5</td>\n",
       "      <td>3 vagas</td>\n",
       "      <td>Piscina   Churrasqueira   Varanda   Academia...</td>\n",
       "      <td>NaN</td>\n",
       "      <td>4.0</td>\n",
       "    </tr>\n",
       "  </tbody>\n",
       "</table>\n",
       "<p>3780 rows × 9 columns</p>\n",
       "</div>"
      ],
      "text/plain": [
       "          price                                            address   area  \\\n",
       "0     1580000.0                          Setor Bueno, Goiânia - GO  230.0   \n",
       "1      450000.0       Rua Natal, 59 - Alto da Glória, Goiânia - GO   94.0   \n",
       "2      330000.0     Rua Dom Orione, 57 - Setor Oeste, Goiânia - GO  111.0   \n",
       "3      320000.0  Avenida Nápoli, 201 - Residencial Eldorado, Go...   79.0   \n",
       "4      915525.0            Rua T 36, 1 - Setor Bueno, Goiânia - GO  137.0   \n",
       "...         ...                                                ...    ...   \n",
       "3775   539000.0    Avenida Olinda, 0 - Park Lozândes, Goiânia - GO  105.0   \n",
       "3776   279900.0         Rua T 36, 3445 - Setor Bueno, Goiânia - GO   85.0   \n",
       "3777   430000.0                        Setor Marista, Goiânia - GO   64.0   \n",
       "3778   445000.0               Rua 99, 26 - Setor Sul, Goiânia - GO  185.0   \n",
       "3779  1640000.0             Rua 1141 - Setor Marista, Goiânia - GO  221.0   \n",
       "\n",
       "      bedroom  bathroom      parking  \\\n",
       "0           3         6    3 vagas     \n",
       "1           3         2     1 vaga     \n",
       "2           3         3     1 vaga     \n",
       "3           3         3     1 vaga     \n",
       "4           3         5    2 vagas     \n",
       "...       ...       ...          ...   \n",
       "3775        3         4    2 vagas     \n",
       "3776        3         2     1 vaga     \n",
       "3777        2         2    2 vagas     \n",
       "3778        3         4    2 vagas     \n",
       "3779        4         5    3 vagas     \n",
       "\n",
       "                                         characteristic condominium  suite  \n",
       "0       Piscina   Varanda   Área de serviço   Quadra...         NaN    3.0  \n",
       "1       Espaço gourmet   Churrasqueira   Playground ...     R$ 380     1.0  \n",
       "2       Varanda   Aceita animais   Área de serviço  ...     R$ 450     1.0  \n",
       "3       Piscina   Churrasqueira   Elevador   Condomí...     R$ 400     3.0  \n",
       "4       Piscina   Churrasqueira   Elevador   Condomí...         NaN    3.0  \n",
       "...                                                 ...         ...    ...  \n",
       "3775    Piscina   Churrasqueira   Elevador   Condomí...     R$ 420     3.0  \n",
       "3776    Academia   Aceita animais   Salão de festas ...     R$ 400     1.0  \n",
       "3777                                                NaN         NaN    1.0  \n",
       "3778    Elevador   Condomínio fechado   Aceita anima...   R$ 1.000     2.0  \n",
       "3779    Piscina   Churrasqueira   Varanda   Academia...         NaN    4.0  \n",
       "\n",
       "[3780 rows x 9 columns]"
      ]
     },
     "execution_count": 22,
     "metadata": {},
     "output_type": "execute_result"
    }
   ],
   "source": [
    "data.bathroom = pd.to_numeric(bathroom)\n",
    "data"
   ]
  },
  {
   "cell_type": "markdown",
   "id": "a13a840e",
   "metadata": {
    "papermill": {
     "duration": 0.105283,
     "end_time": "2021-09-23T19:55:11.030352",
     "exception": false,
     "start_time": "2021-09-23T19:55:10.925069",
     "status": "completed"
    },
    "tags": []
   },
   "source": [
    "Focusing in the \"parking\" column, we can apply the same things that we've already discussed:"
   ]
  },
  {
   "cell_type": "code",
   "execution_count": 23,
   "id": "6eef8bc0",
   "metadata": {
    "execution": {
     "iopub.execute_input": "2021-09-23T19:55:11.249383Z",
     "iopub.status.busy": "2021-09-23T19:55:11.248641Z",
     "iopub.status.idle": "2021-09-23T19:55:11.251464Z",
     "shell.execute_reply": "2021-09-23T19:55:11.251942Z",
     "shell.execute_reply.started": "2021-09-23T19:52:00.140791Z"
    },
    "papermill": {
     "duration": 0.115331,
     "end_time": "2021-09-23T19:55:11.252098",
     "exception": false,
     "start_time": "2021-09-23T19:55:11.136767",
     "status": "completed"
    },
    "tags": []
   },
   "outputs": [
    {
     "data": {
      "text/plain": [
       "array(['  3 vagas  ', '  1 vaga  ', '  2 vagas  ',\n",
       "       '  Não informado Solicitar ', '  4 vagas  ', '  5 vagas  ',\n",
       "       '  1 até 2 vagas  ', '  10 vagas  ', '  6 vagas  ', '  27 vagas  ',\n",
       "       '  9 vagas  ', '  4 até 5 vagas  ', '  19 vagas  ', '  30 vagas  ',\n",
       "       '  12 vagas  ', '  7 vagas  ', '  20 vagas  ', '  16 vagas  ',\n",
       "       '  2 até 3 vagas  ', '  1 até 3 vagas  ', '  3 até 5 vagas  ',\n",
       "       '  3 até 4 vagas  '], dtype=object)"
      ]
     },
     "execution_count": 23,
     "metadata": {},
     "output_type": "execute_result"
    }
   ],
   "source": [
    "data.parking.unique()"
   ]
  },
  {
   "cell_type": "code",
   "execution_count": 24,
   "id": "ea75ea4f",
   "metadata": {
    "execution": {
     "iopub.execute_input": "2021-09-23T19:55:11.473441Z",
     "iopub.status.busy": "2021-09-23T19:55:11.472386Z",
     "iopub.status.idle": "2021-09-23T19:55:11.475215Z",
     "shell.execute_reply": "2021-09-23T19:55:11.474696Z",
     "shell.execute_reply.started": "2021-09-23T19:52:00.150867Z"
    },
    "papermill": {
     "duration": 0.117769,
     "end_time": "2021-09-23T19:55:11.475347",
     "exception": false,
     "start_time": "2021-09-23T19:55:11.357578",
     "status": "completed"
    },
    "tags": []
   },
   "outputs": [],
   "source": [
    "def temp_func(string):\n",
    "    if \"Solicitar\" in string:\n",
    "        return np.nan\n",
    "    elif \"até\" in string:\n",
    "        return string.split(\"até\")[0]\n",
    "    else:\n",
    "        return string.split()[0]"
   ]
  },
  {
   "cell_type": "code",
   "execution_count": 25,
   "id": "502a0138",
   "metadata": {
    "execution": {
     "iopub.execute_input": "2021-09-23T19:55:11.730074Z",
     "iopub.status.busy": "2021-09-23T19:55:11.729325Z",
     "iopub.status.idle": "2021-09-23T19:55:11.733037Z",
     "shell.execute_reply": "2021-09-23T19:55:11.733566Z",
     "shell.execute_reply.started": "2021-09-23T19:52:00.166097Z"
    },
    "papermill": {
     "duration": 0.143676,
     "end_time": "2021-09-23T19:55:11.733748",
     "exception": false,
     "start_time": "2021-09-23T19:55:11.590072",
     "status": "completed"
    },
    "tags": []
   },
   "outputs": [
    {
     "data": {
      "text/plain": [
       "array(['3', '1', '2', nan, '4', '5', '  1 ', '10', '6', '27', '9', '  4 ',\n",
       "       '19', '30', '12', '7', '20', '16', '  2 ', '  3 '], dtype=object)"
      ]
     },
     "execution_count": 25,
     "metadata": {},
     "output_type": "execute_result"
    }
   ],
   "source": [
    "parking = data.parking.apply(temp_func)\n",
    "parking.unique()"
   ]
  },
  {
   "cell_type": "code",
   "execution_count": 26,
   "id": "8c490082",
   "metadata": {
    "execution": {
     "iopub.execute_input": "2021-09-23T19:55:11.976652Z",
     "iopub.status.busy": "2021-09-23T19:55:11.975728Z",
     "iopub.status.idle": "2021-09-23T19:55:11.979791Z",
     "shell.execute_reply": "2021-09-23T19:55:11.979271Z",
     "shell.execute_reply.started": "2021-09-23T19:52:00.191625Z"
    },
    "papermill": {
     "duration": 0.138173,
     "end_time": "2021-09-23T19:55:11.979935",
     "exception": false,
     "start_time": "2021-09-23T19:55:11.841762",
     "status": "completed"
    },
    "tags": []
   },
   "outputs": [
    {
     "data": {
      "text/html": [
       "<div>\n",
       "<style scoped>\n",
       "    .dataframe tbody tr th:only-of-type {\n",
       "        vertical-align: middle;\n",
       "    }\n",
       "\n",
       "    .dataframe tbody tr th {\n",
       "        vertical-align: top;\n",
       "    }\n",
       "\n",
       "    .dataframe thead th {\n",
       "        text-align: right;\n",
       "    }\n",
       "</style>\n",
       "<table border=\"1\" class=\"dataframe\">\n",
       "  <thead>\n",
       "    <tr style=\"text-align: right;\">\n",
       "      <th></th>\n",
       "      <th>price</th>\n",
       "      <th>address</th>\n",
       "      <th>area</th>\n",
       "      <th>bedroom</th>\n",
       "      <th>bathroom</th>\n",
       "      <th>parking</th>\n",
       "      <th>characteristic</th>\n",
       "      <th>condominium</th>\n",
       "      <th>suite</th>\n",
       "    </tr>\n",
       "  </thead>\n",
       "  <tbody>\n",
       "    <tr>\n",
       "      <th>0</th>\n",
       "      <td>1580000.0</td>\n",
       "      <td>Setor Bueno, Goiânia - GO</td>\n",
       "      <td>230.0</td>\n",
       "      <td>3</td>\n",
       "      <td>6</td>\n",
       "      <td>3.0</td>\n",
       "      <td>Piscina   Varanda   Área de serviço   Quadra...</td>\n",
       "      <td>NaN</td>\n",
       "      <td>3.0</td>\n",
       "    </tr>\n",
       "    <tr>\n",
       "      <th>1</th>\n",
       "      <td>450000.0</td>\n",
       "      <td>Rua Natal, 59 - Alto da Glória, Goiânia - GO</td>\n",
       "      <td>94.0</td>\n",
       "      <td>3</td>\n",
       "      <td>2</td>\n",
       "      <td>1.0</td>\n",
       "      <td>Espaço gourmet   Churrasqueira   Playground ...</td>\n",
       "      <td>R$ 380</td>\n",
       "      <td>1.0</td>\n",
       "    </tr>\n",
       "    <tr>\n",
       "      <th>2</th>\n",
       "      <td>330000.0</td>\n",
       "      <td>Rua Dom Orione, 57 - Setor Oeste, Goiânia - GO</td>\n",
       "      <td>111.0</td>\n",
       "      <td>3</td>\n",
       "      <td>3</td>\n",
       "      <td>1.0</td>\n",
       "      <td>Varanda   Aceita animais   Área de serviço  ...</td>\n",
       "      <td>R$ 450</td>\n",
       "      <td>1.0</td>\n",
       "    </tr>\n",
       "    <tr>\n",
       "      <th>3</th>\n",
       "      <td>320000.0</td>\n",
       "      <td>Avenida Nápoli, 201 - Residencial Eldorado, Go...</td>\n",
       "      <td>79.0</td>\n",
       "      <td>3</td>\n",
       "      <td>3</td>\n",
       "      <td>1.0</td>\n",
       "      <td>Piscina   Churrasqueira   Elevador   Condomí...</td>\n",
       "      <td>R$ 400</td>\n",
       "      <td>3.0</td>\n",
       "    </tr>\n",
       "    <tr>\n",
       "      <th>4</th>\n",
       "      <td>915525.0</td>\n",
       "      <td>Rua T 36, 1 - Setor Bueno, Goiânia - GO</td>\n",
       "      <td>137.0</td>\n",
       "      <td>3</td>\n",
       "      <td>5</td>\n",
       "      <td>2.0</td>\n",
       "      <td>Piscina   Churrasqueira   Elevador   Condomí...</td>\n",
       "      <td>NaN</td>\n",
       "      <td>3.0</td>\n",
       "    </tr>\n",
       "    <tr>\n",
       "      <th>...</th>\n",
       "      <td>...</td>\n",
       "      <td>...</td>\n",
       "      <td>...</td>\n",
       "      <td>...</td>\n",
       "      <td>...</td>\n",
       "      <td>...</td>\n",
       "      <td>...</td>\n",
       "      <td>...</td>\n",
       "      <td>...</td>\n",
       "    </tr>\n",
       "    <tr>\n",
       "      <th>3775</th>\n",
       "      <td>539000.0</td>\n",
       "      <td>Avenida Olinda, 0 - Park Lozândes, Goiânia - GO</td>\n",
       "      <td>105.0</td>\n",
       "      <td>3</td>\n",
       "      <td>4</td>\n",
       "      <td>2.0</td>\n",
       "      <td>Piscina   Churrasqueira   Elevador   Condomí...</td>\n",
       "      <td>R$ 420</td>\n",
       "      <td>3.0</td>\n",
       "    </tr>\n",
       "    <tr>\n",
       "      <th>3776</th>\n",
       "      <td>279900.0</td>\n",
       "      <td>Rua T 36, 3445 - Setor Bueno, Goiânia - GO</td>\n",
       "      <td>85.0</td>\n",
       "      <td>3</td>\n",
       "      <td>2</td>\n",
       "      <td>1.0</td>\n",
       "      <td>Academia   Aceita animais   Salão de festas ...</td>\n",
       "      <td>R$ 400</td>\n",
       "      <td>1.0</td>\n",
       "    </tr>\n",
       "    <tr>\n",
       "      <th>3777</th>\n",
       "      <td>430000.0</td>\n",
       "      <td>Setor Marista, Goiânia - GO</td>\n",
       "      <td>64.0</td>\n",
       "      <td>2</td>\n",
       "      <td>2</td>\n",
       "      <td>2.0</td>\n",
       "      <td>NaN</td>\n",
       "      <td>NaN</td>\n",
       "      <td>1.0</td>\n",
       "    </tr>\n",
       "    <tr>\n",
       "      <th>3778</th>\n",
       "      <td>445000.0</td>\n",
       "      <td>Rua 99, 26 - Setor Sul, Goiânia - GO</td>\n",
       "      <td>185.0</td>\n",
       "      <td>3</td>\n",
       "      <td>4</td>\n",
       "      <td>2.0</td>\n",
       "      <td>Elevador   Condomínio fechado   Aceita anima...</td>\n",
       "      <td>R$ 1.000</td>\n",
       "      <td>2.0</td>\n",
       "    </tr>\n",
       "    <tr>\n",
       "      <th>3779</th>\n",
       "      <td>1640000.0</td>\n",
       "      <td>Rua 1141 - Setor Marista, Goiânia - GO</td>\n",
       "      <td>221.0</td>\n",
       "      <td>4</td>\n",
       "      <td>5</td>\n",
       "      <td>3.0</td>\n",
       "      <td>Piscina   Churrasqueira   Varanda   Academia...</td>\n",
       "      <td>NaN</td>\n",
       "      <td>4.0</td>\n",
       "    </tr>\n",
       "  </tbody>\n",
       "</table>\n",
       "<p>3780 rows × 9 columns</p>\n",
       "</div>"
      ],
      "text/plain": [
       "          price                                            address   area  \\\n",
       "0     1580000.0                          Setor Bueno, Goiânia - GO  230.0   \n",
       "1      450000.0       Rua Natal, 59 - Alto da Glória, Goiânia - GO   94.0   \n",
       "2      330000.0     Rua Dom Orione, 57 - Setor Oeste, Goiânia - GO  111.0   \n",
       "3      320000.0  Avenida Nápoli, 201 - Residencial Eldorado, Go...   79.0   \n",
       "4      915525.0            Rua T 36, 1 - Setor Bueno, Goiânia - GO  137.0   \n",
       "...         ...                                                ...    ...   \n",
       "3775   539000.0    Avenida Olinda, 0 - Park Lozândes, Goiânia - GO  105.0   \n",
       "3776   279900.0         Rua T 36, 3445 - Setor Bueno, Goiânia - GO   85.0   \n",
       "3777   430000.0                        Setor Marista, Goiânia - GO   64.0   \n",
       "3778   445000.0               Rua 99, 26 - Setor Sul, Goiânia - GO  185.0   \n",
       "3779  1640000.0             Rua 1141 - Setor Marista, Goiânia - GO  221.0   \n",
       "\n",
       "      bedroom  bathroom  parking  \\\n",
       "0           3         6      3.0   \n",
       "1           3         2      1.0   \n",
       "2           3         3      1.0   \n",
       "3           3         3      1.0   \n",
       "4           3         5      2.0   \n",
       "...       ...       ...      ...   \n",
       "3775        3         4      2.0   \n",
       "3776        3         2      1.0   \n",
       "3777        2         2      2.0   \n",
       "3778        3         4      2.0   \n",
       "3779        4         5      3.0   \n",
       "\n",
       "                                         characteristic condominium  suite  \n",
       "0       Piscina   Varanda   Área de serviço   Quadra...         NaN    3.0  \n",
       "1       Espaço gourmet   Churrasqueira   Playground ...     R$ 380     1.0  \n",
       "2       Varanda   Aceita animais   Área de serviço  ...     R$ 450     1.0  \n",
       "3       Piscina   Churrasqueira   Elevador   Condomí...     R$ 400     3.0  \n",
       "4       Piscina   Churrasqueira   Elevador   Condomí...         NaN    3.0  \n",
       "...                                                 ...         ...    ...  \n",
       "3775    Piscina   Churrasqueira   Elevador   Condomí...     R$ 420     3.0  \n",
       "3776    Academia   Aceita animais   Salão de festas ...     R$ 400     1.0  \n",
       "3777                                                NaN         NaN    1.0  \n",
       "3778    Elevador   Condomínio fechado   Aceita anima...   R$ 1.000     2.0  \n",
       "3779    Piscina   Churrasqueira   Varanda   Academia...         NaN    4.0  \n",
       "\n",
       "[3780 rows x 9 columns]"
      ]
     },
     "execution_count": 26,
     "metadata": {},
     "output_type": "execute_result"
    }
   ],
   "source": [
    "data.parking = pd.to_numeric(parking)\n",
    "data"
   ]
  },
  {
   "cell_type": "markdown",
   "id": "c48e21e8",
   "metadata": {
    "papermill": {
     "duration": 0.107901,
     "end_time": "2021-09-23T19:55:12.195472",
     "exception": false,
     "start_time": "2021-09-23T19:55:12.087571",
     "status": "completed"
    },
    "tags": []
   },
   "source": [
    "The way I will deal with the characteristic column is kind of different.\n",
    "\n",
    "I want to create one column for each characteristic, so we can use these informations for predicting. But before that, let's see how many na values we have in this column:"
   ]
  },
  {
   "cell_type": "code",
   "execution_count": 27,
   "id": "56dc74ad",
   "metadata": {
    "execution": {
     "iopub.execute_input": "2021-09-23T19:55:12.420071Z",
     "iopub.status.busy": "2021-09-23T19:55:12.419092Z",
     "iopub.status.idle": "2021-09-23T19:55:12.422962Z",
     "shell.execute_reply": "2021-09-23T19:55:12.422316Z",
     "shell.execute_reply.started": "2021-09-23T19:52:00.235208Z"
    },
    "papermill": {
     "duration": 0.118451,
     "end_time": "2021-09-23T19:55:12.423100",
     "exception": false,
     "start_time": "2021-09-23T19:55:12.304649",
     "status": "completed"
    },
    "tags": []
   },
   "outputs": [
    {
     "data": {
      "text/plain": [
       "675"
      ]
     },
     "execution_count": 27,
     "metadata": {},
     "output_type": "execute_result"
    }
   ],
   "source": [
    "pd.isna(data.characteristic).sum()"
   ]
  },
  {
   "cell_type": "markdown",
   "id": "8a148944",
   "metadata": {
    "papermill": {
     "duration": 0.107911,
     "end_time": "2021-09-23T19:55:12.639739",
     "exception": false,
     "start_time": "2021-09-23T19:55:12.531828",
     "status": "completed"
    },
    "tags": []
   },
   "source": [
    "The first thing I think seeing this number is: can I simply drop these rows?\n",
    "\n",
    "The answer is: maybe. Can I have a way to treat these na values? No, I don't. Note that \"I don't\", but maybe you can.\n",
    "\n",
    "Dropping these rows, I have:"
   ]
  },
  {
   "cell_type": "code",
   "execution_count": 28,
   "id": "ba079b11",
   "metadata": {
    "execution": {
     "iopub.execute_input": "2021-09-23T19:55:12.864608Z",
     "iopub.status.busy": "2021-09-23T19:55:12.863637Z",
     "iopub.status.idle": "2021-09-23T19:55:12.870089Z",
     "shell.execute_reply": "2021-09-23T19:55:12.869519Z",
     "shell.execute_reply.started": "2021-09-23T19:52:00.254105Z"
    },
    "papermill": {
     "duration": 0.120937,
     "end_time": "2021-09-23T19:55:12.870229",
     "exception": false,
     "start_time": "2021-09-23T19:55:12.749292",
     "status": "completed"
    },
    "tags": []
   },
   "outputs": [],
   "source": [
    "data = data.dropna(subset = [\"characteristic\"]).reset_index(drop = True)"
   ]
  },
  {
   "cell_type": "markdown",
   "id": "3d60d85a",
   "metadata": {
    "papermill": {
     "duration": 0.107842,
     "end_time": "2021-09-23T19:55:13.085452",
     "exception": false,
     "start_time": "2021-09-23T19:55:12.977610",
     "status": "completed"
    },
    "tags": []
   },
   "source": [
    "Now I will put some underlines to separate each characteristic:"
   ]
  },
  {
   "cell_type": "code",
   "execution_count": 29,
   "id": "c026840a",
   "metadata": {
    "execution": {
     "iopub.execute_input": "2021-09-23T19:55:13.339407Z",
     "iopub.status.busy": "2021-09-23T19:55:13.306076Z",
     "iopub.status.idle": "2021-09-23T19:55:13.343369Z",
     "shell.execute_reply": "2021-09-23T19:55:13.342872Z",
     "shell.execute_reply.started": "2021-09-23T19:52:00.272969Z"
    },
    "papermill": {
     "duration": 0.14903,
     "end_time": "2021-09-23T19:55:13.343522",
     "exception": false,
     "start_time": "2021-09-23T19:55:13.194492",
     "status": "completed"
    },
    "tags": []
   },
   "outputs": [
    {
     "data": {
      "text/html": [
       "<div>\n",
       "<style scoped>\n",
       "    .dataframe tbody tr th:only-of-type {\n",
       "        vertical-align: middle;\n",
       "    }\n",
       "\n",
       "    .dataframe tbody tr th {\n",
       "        vertical-align: top;\n",
       "    }\n",
       "\n",
       "    .dataframe thead th {\n",
       "        text-align: right;\n",
       "    }\n",
       "</style>\n",
       "<table border=\"1\" class=\"dataframe\">\n",
       "  <thead>\n",
       "    <tr style=\"text-align: right;\">\n",
       "      <th></th>\n",
       "      <th>price</th>\n",
       "      <th>address</th>\n",
       "      <th>area</th>\n",
       "      <th>bedroom</th>\n",
       "      <th>bathroom</th>\n",
       "      <th>parking</th>\n",
       "      <th>characteristic</th>\n",
       "      <th>condominium</th>\n",
       "      <th>suite</th>\n",
       "    </tr>\n",
       "  </thead>\n",
       "  <tbody>\n",
       "    <tr>\n",
       "      <th>0</th>\n",
       "      <td>1580000.0</td>\n",
       "      <td>Setor Bueno, Goiânia - GO</td>\n",
       "      <td>230.0</td>\n",
       "      <td>3</td>\n",
       "      <td>6</td>\n",
       "      <td>3.0</td>\n",
       "      <td>Piscina Varanda Área_de_serviço Quadra_poliesp...</td>\n",
       "      <td>NaN</td>\n",
       "      <td>3.0</td>\n",
       "    </tr>\n",
       "    <tr>\n",
       "      <th>1</th>\n",
       "      <td>450000.0</td>\n",
       "      <td>Rua Natal, 59 - Alto da Glória, Goiânia - GO</td>\n",
       "      <td>94.0</td>\n",
       "      <td>3</td>\n",
       "      <td>2</td>\n",
       "      <td>1.0</td>\n",
       "      <td>Espaço_gourmet Churrasqueira Playground Piscin...</td>\n",
       "      <td>R$ 380</td>\n",
       "      <td>1.0</td>\n",
       "    </tr>\n",
       "    <tr>\n",
       "      <th>2</th>\n",
       "      <td>330000.0</td>\n",
       "      <td>Rua Dom Orione, 57 - Setor Oeste, Goiânia - GO</td>\n",
       "      <td>111.0</td>\n",
       "      <td>3</td>\n",
       "      <td>3</td>\n",
       "      <td>1.0</td>\n",
       "      <td>Varanda Aceita_animais Área_de_serviço Salão_d...</td>\n",
       "      <td>R$ 450</td>\n",
       "      <td>1.0</td>\n",
       "    </tr>\n",
       "    <tr>\n",
       "      <th>3</th>\n",
       "      <td>320000.0</td>\n",
       "      <td>Avenida Nápoli, 201 - Residencial Eldorado, Go...</td>\n",
       "      <td>79.0</td>\n",
       "      <td>3</td>\n",
       "      <td>3</td>\n",
       "      <td>1.0</td>\n",
       "      <td>Piscina Churrasqueira Elevador Condomínio_fech...</td>\n",
       "      <td>R$ 400</td>\n",
       "      <td>3.0</td>\n",
       "    </tr>\n",
       "    <tr>\n",
       "      <th>4</th>\n",
       "      <td>915525.0</td>\n",
       "      <td>Rua T 36, 1 - Setor Bueno, Goiânia - GO</td>\n",
       "      <td>137.0</td>\n",
       "      <td>3</td>\n",
       "      <td>5</td>\n",
       "      <td>2.0</td>\n",
       "      <td>Piscina Churrasqueira Elevador Condomínio_fech...</td>\n",
       "      <td>NaN</td>\n",
       "      <td>3.0</td>\n",
       "    </tr>\n",
       "    <tr>\n",
       "      <th>...</th>\n",
       "      <td>...</td>\n",
       "      <td>...</td>\n",
       "      <td>...</td>\n",
       "      <td>...</td>\n",
       "      <td>...</td>\n",
       "      <td>...</td>\n",
       "      <td>...</td>\n",
       "      <td>...</td>\n",
       "      <td>...</td>\n",
       "    </tr>\n",
       "    <tr>\n",
       "      <th>3100</th>\n",
       "      <td>1100000.0</td>\n",
       "      <td>Avenida T 5, 901 - Setor Bueno, Goiânia - GO</td>\n",
       "      <td>240.0</td>\n",
       "      <td>4</td>\n",
       "      <td>6</td>\n",
       "      <td>4.0</td>\n",
       "      <td>Piscina Churrasqueira Elevador Condomínio_fech...</td>\n",
       "      <td>R$ 1.300</td>\n",
       "      <td>4.0</td>\n",
       "    </tr>\n",
       "    <tr>\n",
       "      <th>3101</th>\n",
       "      <td>539000.0</td>\n",
       "      <td>Avenida Olinda, 0 - Park Lozândes, Goiânia - GO</td>\n",
       "      <td>105.0</td>\n",
       "      <td>3</td>\n",
       "      <td>4</td>\n",
       "      <td>2.0</td>\n",
       "      <td>Piscina Churrasqueira Elevador Condomínio_fech...</td>\n",
       "      <td>R$ 420</td>\n",
       "      <td>3.0</td>\n",
       "    </tr>\n",
       "    <tr>\n",
       "      <th>3102</th>\n",
       "      <td>279900.0</td>\n",
       "      <td>Rua T 36, 3445 - Setor Bueno, Goiânia - GO</td>\n",
       "      <td>85.0</td>\n",
       "      <td>3</td>\n",
       "      <td>2</td>\n",
       "      <td>1.0</td>\n",
       "      <td>Academia Aceita_animais Salão_de_festas Condom...</td>\n",
       "      <td>R$ 400</td>\n",
       "      <td>1.0</td>\n",
       "    </tr>\n",
       "    <tr>\n",
       "      <th>3103</th>\n",
       "      <td>445000.0</td>\n",
       "      <td>Rua 99, 26 - Setor Sul, Goiânia - GO</td>\n",
       "      <td>185.0</td>\n",
       "      <td>3</td>\n",
       "      <td>4</td>\n",
       "      <td>2.0</td>\n",
       "      <td>Elevador Condomínio_fechado Aceita_animais Ar_...</td>\n",
       "      <td>R$ 1.000</td>\n",
       "      <td>2.0</td>\n",
       "    </tr>\n",
       "    <tr>\n",
       "      <th>3104</th>\n",
       "      <td>1640000.0</td>\n",
       "      <td>Rua 1141 - Setor Marista, Goiânia - GO</td>\n",
       "      <td>221.0</td>\n",
       "      <td>4</td>\n",
       "      <td>5</td>\n",
       "      <td>3.0</td>\n",
       "      <td>Piscina Churrasqueira Varanda Academia Espaço_...</td>\n",
       "      <td>NaN</td>\n",
       "      <td>4.0</td>\n",
       "    </tr>\n",
       "  </tbody>\n",
       "</table>\n",
       "<p>3105 rows × 9 columns</p>\n",
       "</div>"
      ],
      "text/plain": [
       "          price                                            address   area  \\\n",
       "0     1580000.0                          Setor Bueno, Goiânia - GO  230.0   \n",
       "1      450000.0       Rua Natal, 59 - Alto da Glória, Goiânia - GO   94.0   \n",
       "2      330000.0     Rua Dom Orione, 57 - Setor Oeste, Goiânia - GO  111.0   \n",
       "3      320000.0  Avenida Nápoli, 201 - Residencial Eldorado, Go...   79.0   \n",
       "4      915525.0            Rua T 36, 1 - Setor Bueno, Goiânia - GO  137.0   \n",
       "...         ...                                                ...    ...   \n",
       "3100  1100000.0       Avenida T 5, 901 - Setor Bueno, Goiânia - GO  240.0   \n",
       "3101   539000.0    Avenida Olinda, 0 - Park Lozândes, Goiânia - GO  105.0   \n",
       "3102   279900.0         Rua T 36, 3445 - Setor Bueno, Goiânia - GO   85.0   \n",
       "3103   445000.0               Rua 99, 26 - Setor Sul, Goiânia - GO  185.0   \n",
       "3104  1640000.0             Rua 1141 - Setor Marista, Goiânia - GO  221.0   \n",
       "\n",
       "      bedroom  bathroom  parking  \\\n",
       "0           3         6      3.0   \n",
       "1           3         2      1.0   \n",
       "2           3         3      1.0   \n",
       "3           3         3      1.0   \n",
       "4           3         5      2.0   \n",
       "...       ...       ...      ...   \n",
       "3100        4         6      4.0   \n",
       "3101        3         4      2.0   \n",
       "3102        3         2      1.0   \n",
       "3103        3         4      2.0   \n",
       "3104        4         5      3.0   \n",
       "\n",
       "                                         characteristic condominium  suite  \n",
       "0     Piscina Varanda Área_de_serviço Quadra_poliesp...         NaN    3.0  \n",
       "1     Espaço_gourmet Churrasqueira Playground Piscin...     R$ 380     1.0  \n",
       "2     Varanda Aceita_animais Área_de_serviço Salão_d...     R$ 450     1.0  \n",
       "3     Piscina Churrasqueira Elevador Condomínio_fech...     R$ 400     3.0  \n",
       "4     Piscina Churrasqueira Elevador Condomínio_fech...         NaN    3.0  \n",
       "...                                                 ...         ...    ...  \n",
       "3100  Piscina Churrasqueira Elevador Condomínio_fech...   R$ 1.300     4.0  \n",
       "3101  Piscina Churrasqueira Elevador Condomínio_fech...     R$ 420     3.0  \n",
       "3102  Academia Aceita_animais Salão_de_festas Condom...     R$ 400     1.0  \n",
       "3103  Elevador Condomínio_fechado Aceita_animais Ar_...   R$ 1.000     2.0  \n",
       "3104  Piscina Churrasqueira Varanda Academia Espaço_...         NaN    4.0  \n",
       "\n",
       "[3105 rows x 9 columns]"
      ]
     },
     "execution_count": 29,
     "metadata": {},
     "output_type": "execute_result"
    }
   ],
   "source": [
    "data.characteristic = data.characteristic.apply(lambda string: string.strip().\n",
    "                                                replace(\" \", \"_\").replace(\"___\", \" \").replace(\"-\", \"_\").\n",
    "                                               replace(\"_/_\", \"_\"))\n",
    "data"
   ]
  },
  {
   "cell_type": "code",
   "execution_count": 30,
   "id": "e92a594a",
   "metadata": {
    "execution": {
     "iopub.execute_input": "2021-09-23T19:55:13.567300Z",
     "iopub.status.busy": "2021-09-23T19:55:13.563548Z",
     "iopub.status.idle": "2021-09-23T19:55:13.573226Z",
     "shell.execute_reply": "2021-09-23T19:55:13.572613Z",
     "shell.execute_reply.started": "2021-09-23T19:52:00.318143Z"
    },
    "papermill": {
     "duration": 0.121129,
     "end_time": "2021-09-23T19:55:13.573381",
     "exception": false,
     "start_time": "2021-09-23T19:55:13.452252",
     "status": "completed"
    },
    "tags": []
   },
   "outputs": [
    {
     "data": {
      "text/plain": [
       "array(['Piscina Varanda Área_de_serviço Quadra_poliesportiva Escritório Armário_na_cozinha Interfone TV_a_cabo Mais_de_um_andar Sauna',\n",
       "       'Espaço_gourmet Churrasqueira Playground Piscina Portaria_24h',\n",
       "       'Varanda Aceita_animais Área_de_serviço Salão_de_festas Guarita Armário_embutido Armário_embutido_no_quarto Armário_na_cozinha Armário_no_banheiro Banheiro_de_serviço Closet Depósito Interfone Dependência_de_empregados',\n",
       "       ...,\n",
       "       'Piscina Churrasqueira Elevador Condomínio_fechado Academia Aceita_animais Espaço_gourmet Ar_condicionado Jardim Área_de_serviço Playground Varanda_gourmet Piscina_infantil Salão_de_festas Quadra_poliesportiva Portaria_24h Conexão_à_internet Interfone Sistema_de_alarme TV_a_cabo Circuito_de_segurança Piscina_para_adulto Sauna Portão_eletrônico',\n",
       "       'Academia Aceita_animais Salão_de_festas Condomínio_fechado Elevador',\n",
       "       'Piscina Churrasqueira Varanda Academia Espaço_gourmet Área_de_serviço Playground Salão_de_festas Portaria_24h Banheiro_de_serviço Cozinha_grande Sala_grande Salão_de_jogos Spa Sauna Ambientes_integrados Lavabo Meio_andar Porcelanato Ventilação_natural'],\n",
       "      dtype=object)"
      ]
     },
     "execution_count": 30,
     "metadata": {},
     "output_type": "execute_result"
    }
   ],
   "source": [
    "data.characteristic.unique()"
   ]
  },
  {
   "cell_type": "markdown",
   "id": "fdd11d91",
   "metadata": {
    "papermill": {
     "duration": 0.108649,
     "end_time": "2021-09-23T19:55:13.791601",
     "exception": false,
     "start_time": "2021-09-23T19:55:13.682952",
     "status": "completed"
    },
    "tags": []
   },
   "source": [
    "To create a column for each characteristic, I need to use the CountVectorizer function, from sklearn. As the name of the function suggests, it returns the number of times a specific word appears in a text. But instead a text, I will give an entire oolumn to the function, and it will return to me a matrix where each column is a word and each row is the number of times each word appeared for each apartment.\n",
    "\n",
    "I don't know if I was succesfull explaining this, but... Let's just continue:"
   ]
  },
  {
   "cell_type": "code",
   "execution_count": 31,
   "id": "b03403cd",
   "metadata": {
    "execution": {
     "iopub.execute_input": "2021-09-23T19:55:14.042524Z",
     "iopub.status.busy": "2021-09-23T19:55:14.041552Z",
     "iopub.status.idle": "2021-09-23T19:55:14.961575Z",
     "shell.execute_reply": "2021-09-23T19:55:14.962130Z",
     "shell.execute_reply.started": "2021-09-23T19:52:00.336385Z"
    },
    "papermill": {
     "duration": 1.039361,
     "end_time": "2021-09-23T19:55:14.962298",
     "exception": false,
     "start_time": "2021-09-23T19:55:13.922937",
     "status": "completed"
    },
    "tags": []
   },
   "outputs": [
    {
     "data": {
      "text/html": [
       "<div>\n",
       "<style scoped>\n",
       "    .dataframe tbody tr th:only-of-type {\n",
       "        vertical-align: middle;\n",
       "    }\n",
       "\n",
       "    .dataframe tbody tr th {\n",
       "        vertical-align: top;\n",
       "    }\n",
       "\n",
       "    .dataframe thead th {\n",
       "        text-align: right;\n",
       "    }\n",
       "</style>\n",
       "<table border=\"1\" class=\"dataframe\">\n",
       "  <thead>\n",
       "    <tr style=\"text-align: right;\">\n",
       "      <th></th>\n",
       "      <th>price</th>\n",
       "      <th>address</th>\n",
       "      <th>area</th>\n",
       "      <th>bedroom</th>\n",
       "      <th>bathroom</th>\n",
       "      <th>parking</th>\n",
       "      <th>characteristic</th>\n",
       "      <th>condominium</th>\n",
       "      <th>suite</th>\n",
       "      <th>academia</th>\n",
       "      <th>...</th>\n",
       "      <th>vestiário_para_diaristas</th>\n",
       "      <th>vigia</th>\n",
       "      <th>vigilância</th>\n",
       "      <th>vista_exterior</th>\n",
       "      <th>vista_panorâmica</th>\n",
       "      <th>vista_para_a_montanha</th>\n",
       "      <th>vista_para_lago</th>\n",
       "      <th>área_de_lazer</th>\n",
       "      <th>área_de_serviço</th>\n",
       "      <th>árvore_frutífera</th>\n",
       "    </tr>\n",
       "  </thead>\n",
       "  <tbody>\n",
       "    <tr>\n",
       "      <th>0</th>\n",
       "      <td>1580000.0</td>\n",
       "      <td>Setor Bueno, Goiânia - GO</td>\n",
       "      <td>230.0</td>\n",
       "      <td>3</td>\n",
       "      <td>6</td>\n",
       "      <td>3.0</td>\n",
       "      <td>Piscina Varanda Área_de_serviço Quadra_poliesp...</td>\n",
       "      <td>NaN</td>\n",
       "      <td>3.0</td>\n",
       "      <td>0</td>\n",
       "      <td>...</td>\n",
       "      <td>0</td>\n",
       "      <td>0</td>\n",
       "      <td>0</td>\n",
       "      <td>0</td>\n",
       "      <td>0</td>\n",
       "      <td>0</td>\n",
       "      <td>0</td>\n",
       "      <td>0</td>\n",
       "      <td>1</td>\n",
       "      <td>0</td>\n",
       "    </tr>\n",
       "    <tr>\n",
       "      <th>1</th>\n",
       "      <td>450000.0</td>\n",
       "      <td>Rua Natal, 59 - Alto da Glória, Goiânia - GO</td>\n",
       "      <td>94.0</td>\n",
       "      <td>3</td>\n",
       "      <td>2</td>\n",
       "      <td>1.0</td>\n",
       "      <td>Espaço_gourmet Churrasqueira Playground Piscin...</td>\n",
       "      <td>R$ 380</td>\n",
       "      <td>1.0</td>\n",
       "      <td>0</td>\n",
       "      <td>...</td>\n",
       "      <td>0</td>\n",
       "      <td>0</td>\n",
       "      <td>0</td>\n",
       "      <td>0</td>\n",
       "      <td>0</td>\n",
       "      <td>0</td>\n",
       "      <td>0</td>\n",
       "      <td>0</td>\n",
       "      <td>0</td>\n",
       "      <td>0</td>\n",
       "    </tr>\n",
       "    <tr>\n",
       "      <th>2</th>\n",
       "      <td>330000.0</td>\n",
       "      <td>Rua Dom Orione, 57 - Setor Oeste, Goiânia - GO</td>\n",
       "      <td>111.0</td>\n",
       "      <td>3</td>\n",
       "      <td>3</td>\n",
       "      <td>1.0</td>\n",
       "      <td>Varanda Aceita_animais Área_de_serviço Salão_d...</td>\n",
       "      <td>R$ 450</td>\n",
       "      <td>1.0</td>\n",
       "      <td>0</td>\n",
       "      <td>...</td>\n",
       "      <td>0</td>\n",
       "      <td>0</td>\n",
       "      <td>0</td>\n",
       "      <td>0</td>\n",
       "      <td>0</td>\n",
       "      <td>0</td>\n",
       "      <td>0</td>\n",
       "      <td>0</td>\n",
       "      <td>1</td>\n",
       "      <td>0</td>\n",
       "    </tr>\n",
       "    <tr>\n",
       "      <th>3</th>\n",
       "      <td>320000.0</td>\n",
       "      <td>Avenida Nápoli, 201 - Residencial Eldorado, Go...</td>\n",
       "      <td>79.0</td>\n",
       "      <td>3</td>\n",
       "      <td>3</td>\n",
       "      <td>1.0</td>\n",
       "      <td>Piscina Churrasqueira Elevador Condomínio_fech...</td>\n",
       "      <td>R$ 400</td>\n",
       "      <td>3.0</td>\n",
       "      <td>1</td>\n",
       "      <td>...</td>\n",
       "      <td>0</td>\n",
       "      <td>0</td>\n",
       "      <td>0</td>\n",
       "      <td>0</td>\n",
       "      <td>0</td>\n",
       "      <td>0</td>\n",
       "      <td>0</td>\n",
       "      <td>0</td>\n",
       "      <td>0</td>\n",
       "      <td>0</td>\n",
       "    </tr>\n",
       "    <tr>\n",
       "      <th>4</th>\n",
       "      <td>915525.0</td>\n",
       "      <td>Rua T 36, 1 - Setor Bueno, Goiânia - GO</td>\n",
       "      <td>137.0</td>\n",
       "      <td>3</td>\n",
       "      <td>5</td>\n",
       "      <td>2.0</td>\n",
       "      <td>Piscina Churrasqueira Elevador Condomínio_fech...</td>\n",
       "      <td>NaN</td>\n",
       "      <td>3.0</td>\n",
       "      <td>1</td>\n",
       "      <td>...</td>\n",
       "      <td>0</td>\n",
       "      <td>0</td>\n",
       "      <td>0</td>\n",
       "      <td>0</td>\n",
       "      <td>0</td>\n",
       "      <td>0</td>\n",
       "      <td>0</td>\n",
       "      <td>0</td>\n",
       "      <td>1</td>\n",
       "      <td>0</td>\n",
       "    </tr>\n",
       "  </tbody>\n",
       "</table>\n",
       "<p>5 rows × 172 columns</p>\n",
       "</div>"
      ],
      "text/plain": [
       "       price                                            address   area  \\\n",
       "0  1580000.0                          Setor Bueno, Goiânia - GO  230.0   \n",
       "1   450000.0       Rua Natal, 59 - Alto da Glória, Goiânia - GO   94.0   \n",
       "2   330000.0     Rua Dom Orione, 57 - Setor Oeste, Goiânia - GO  111.0   \n",
       "3   320000.0  Avenida Nápoli, 201 - Residencial Eldorado, Go...   79.0   \n",
       "4   915525.0            Rua T 36, 1 - Setor Bueno, Goiânia - GO  137.0   \n",
       "\n",
       "   bedroom  bathroom  parking  \\\n",
       "0        3         6      3.0   \n",
       "1        3         2      1.0   \n",
       "2        3         3      1.0   \n",
       "3        3         3      1.0   \n",
       "4        3         5      2.0   \n",
       "\n",
       "                                      characteristic condominium  suite  \\\n",
       "0  Piscina Varanda Área_de_serviço Quadra_poliesp...         NaN    3.0   \n",
       "1  Espaço_gourmet Churrasqueira Playground Piscin...     R$ 380     1.0   \n",
       "2  Varanda Aceita_animais Área_de_serviço Salão_d...     R$ 450     1.0   \n",
       "3  Piscina Churrasqueira Elevador Condomínio_fech...     R$ 400     3.0   \n",
       "4  Piscina Churrasqueira Elevador Condomínio_fech...         NaN    3.0   \n",
       "\n",
       "   academia  ...  vestiário_para_diaristas  vigia  vigilância  vista_exterior  \\\n",
       "0         0  ...                         0      0           0               0   \n",
       "1         0  ...                         0      0           0               0   \n",
       "2         0  ...                         0      0           0               0   \n",
       "3         1  ...                         0      0           0               0   \n",
       "4         1  ...                         0      0           0               0   \n",
       "\n",
       "   vista_panorâmica  vista_para_a_montanha  vista_para_lago  área_de_lazer  \\\n",
       "0                 0                      0                0              0   \n",
       "1                 0                      0                0              0   \n",
       "2                 0                      0                0              0   \n",
       "3                 0                      0                0              0   \n",
       "4                 0                      0                0              0   \n",
       "\n",
       "   área_de_serviço  árvore_frutífera  \n",
       "0                1                 0  \n",
       "1                0                 0  \n",
       "2                1                 0  \n",
       "3                0                 0  \n",
       "4                1                 0  \n",
       "\n",
       "[5 rows x 172 columns]"
      ]
     },
     "execution_count": 31,
     "metadata": {},
     "output_type": "execute_result"
    }
   ],
   "source": [
    "from sklearn.feature_extraction.text import CountVectorizer\n",
    "\n",
    "# Generates count_vectorizer object\n",
    "count_vectorizer = CountVectorizer()\n",
    "\n",
    "# Generates a sparse matrix with the count of each word\n",
    "characteristic_matrix = count_vectorizer.fit_transform(data.characteristic).toarray()\n",
    "characteristic_df = pd.DataFrame(characteristic_matrix)\n",
    "characteristic_df.columns = count_vectorizer.get_feature_names()\n",
    "\n",
    "# Appends the matrix to data\n",
    "data = pd.concat([data, characteristic_df], axis = 1)\n",
    "data.head()"
   ]
  },
  {
   "cell_type": "markdown",
   "id": "e7eaafb0",
   "metadata": {
    "papermill": {
     "duration": 0.112189,
     "end_time": "2021-09-23T19:55:15.182881",
     "exception": false,
     "start_time": "2021-09-23T19:55:15.070692",
     "status": "completed"
    },
    "tags": []
   },
   "source": [
    "Observe the result. It makes sense for you? In this way, we can effectively use the characteristic column for regression."
   ]
  },
  {
   "cell_type": "markdown",
   "id": "2b1029f7",
   "metadata": {
    "papermill": {
     "duration": 0.108026,
     "end_time": "2021-09-23T19:55:15.400831",
     "exception": false,
     "start_time": "2021-09-23T19:55:15.292805",
     "status": "completed"
    },
    "tags": []
   },
   "source": [
    "How can I use the address column? It's useful for predicting? Of course it is! But not as the way it is. I will collect the list of districts for each region in Goiânia and then apply a function to the address column that will return to us the region of each apartment.\n",
    "\n",
    "In this way we will have more useful information for predicting.\n",
    "\n",
    "First I will collect the data:"
   ]
  },
  {
   "cell_type": "code",
   "execution_count": 32,
   "id": "3e962ad0",
   "metadata": {
    "execution": {
     "iopub.execute_input": "2021-09-23T19:55:15.627119Z",
     "iopub.status.busy": "2021-09-23T19:55:15.626010Z",
     "iopub.status.idle": "2021-09-23T19:55:15.815611Z",
     "shell.execute_reply": "2021-09-23T19:55:15.816226Z",
     "shell.execute_reply.started": "2021-09-23T19:52:01.412231Z"
    },
    "papermill": {
     "duration": 0.307967,
     "end_time": "2021-09-23T19:55:15.816404",
     "exception": false,
     "start_time": "2021-09-23T19:55:15.508437",
     "status": "completed"
    },
    "tags": []
   },
   "outputs": [],
   "source": [
    "import requests\n",
    "from bs4 import BeautifulSoup\n",
    "\n",
    "def getRgnsDict():\n",
    "    \n",
    "    # getting html text from wikipedia\n",
    "    url = \"https://pt.wikipedia.org/wiki/Lista_de_bairros_de_Goi%C3%A2nia\"\n",
    "    html_text = requests.get(url).text\n",
    "    \n",
    "    # getting soup\n",
    "    soup = BeautifulSoup(html_text, \"lxml\")\n",
    "    \n",
    "    # focusing on the table\n",
    "    tb = soup.find(\"div\", class_ = \"mw-parser-output\")\n",
    "    \n",
    "    # preparing to loop over each region name\n",
    "    nms_rgns = []\n",
    "    tag_rgns = tb.find_all(\"h2\")\n",
    "    for tag in tag_rgns:\n",
    "        try:\n",
    "            nms_rgns.append(tag.find(\"span\", class_ = \"mw-headline\").text)\n",
    "        except:\n",
    "            continue\n",
    "    \n",
    "    # preparing to loop over each region districts\n",
    "    tag_dtc = tb.find_all(\"ol\")\n",
    "    rgns_dict = {}\n",
    "    for i, tag in enumerate(tag_dtc):\n",
    "        districts = tag.find_all(\"li\")\n",
    "        # preparing to append each district\n",
    "        temp = []\n",
    "        for district in districts:\n",
    "            temp.append(district.text.replace(\"  \", \" \"))\n",
    "        # saving district list to a dictionary with corresponding region key\n",
    "        rgns_dict[nms_rgns[i]] = temp\n",
    "    \n",
    "    # deleting 'reference' key\n",
    "    del rgns_dict[nms_rgns[-1]]\n",
    "    \n",
    "    return rgns_dict"
   ]
  },
  {
   "cell_type": "code",
   "execution_count": 33,
   "id": "c8cc2657",
   "metadata": {
    "execution": {
     "iopub.execute_input": "2021-09-23T19:55:16.059679Z",
     "iopub.status.busy": "2021-09-23T19:55:16.058733Z",
     "iopub.status.idle": "2021-09-23T19:55:16.516714Z",
     "shell.execute_reply": "2021-09-23T19:55:16.516134Z",
     "shell.execute_reply.started": "2021-09-23T19:52:01.577717Z"
    },
    "papermill": {
     "duration": 0.576609,
     "end_time": "2021-09-23T19:55:16.516884",
     "exception": false,
     "start_time": "2021-09-23T19:55:15.940275",
     "status": "completed"
    },
    "tags": []
   },
   "outputs": [],
   "source": [
    "rgns_dict = getRgnsDict()"
   ]
  },
  {
   "cell_type": "markdown",
   "id": "188eec3b",
   "metadata": {
    "papermill": {
     "duration": 0.110217,
     "end_time": "2021-09-23T19:55:16.737098",
     "exception": false,
     "start_time": "2021-09-23T19:55:16.626881",
     "status": "completed"
    },
    "tags": []
   },
   "source": [
    "Note the pattern in the address column..."
   ]
  },
  {
   "cell_type": "code",
   "execution_count": 34,
   "id": "1855499e",
   "metadata": {
    "execution": {
     "iopub.execute_input": "2021-09-23T19:55:16.965437Z",
     "iopub.status.busy": "2021-09-23T19:55:16.964802Z",
     "iopub.status.idle": "2021-09-23T19:55:16.969122Z",
     "shell.execute_reply": "2021-09-23T19:55:16.968609Z",
     "shell.execute_reply.started": "2021-09-23T19:52:01.786742Z"
    },
    "papermill": {
     "duration": 0.121022,
     "end_time": "2021-09-23T19:55:16.969258",
     "exception": false,
     "start_time": "2021-09-23T19:55:16.848236",
     "status": "completed"
    },
    "tags": []
   },
   "outputs": [
    {
     "data": {
      "text/plain": [
       "0                               Setor Bueno, Goiânia - GO\n",
       "1            Rua Natal, 59 - Alto da Glória, Goiânia - GO\n",
       "2          Rua Dom Orione, 57 - Setor Oeste, Goiânia - GO\n",
       "3       Avenida Nápoli, 201 - Residencial Eldorado, Go...\n",
       "4                 Rua T 36, 1 - Setor Bueno, Goiânia - GO\n",
       "                              ...                        \n",
       "3100         Avenida T 5, 901 - Setor Bueno, Goiânia - GO\n",
       "3101      Avenida Olinda, 0 - Park Lozândes, Goiânia - GO\n",
       "3102           Rua T 36, 3445 - Setor Bueno, Goiânia - GO\n",
       "3103                 Rua 99, 26 - Setor Sul, Goiânia - GO\n",
       "3104               Rua 1141 - Setor Marista, Goiânia - GO\n",
       "Name: address, Length: 3105, dtype: object"
      ]
     },
     "execution_count": 34,
     "metadata": {},
     "output_type": "execute_result"
    }
   ],
   "source": [
    "data.address"
   ]
  },
  {
   "cell_type": "markdown",
   "id": "f7b3f17d",
   "metadata": {
    "papermill": {
     "duration": 0.141629,
     "end_time": "2021-09-23T19:55:17.225453",
     "exception": false,
     "start_time": "2021-09-23T19:55:17.083824",
     "status": "completed"
    },
    "tags": []
   },
   "source": [
    "The district is in the middle. So I must create a function that takes this in consideration:"
   ]
  },
  {
   "cell_type": "code",
   "execution_count": 35,
   "id": "b8219976",
   "metadata": {
    "execution": {
     "iopub.execute_input": "2021-09-23T19:55:17.513137Z",
     "iopub.status.busy": "2021-09-23T19:55:17.512252Z",
     "iopub.status.idle": "2021-09-23T19:55:17.515375Z",
     "shell.execute_reply": "2021-09-23T19:55:17.514806Z",
     "shell.execute_reply.started": "2021-09-23T19:52:01.795763Z"
    },
    "papermill": {
     "duration": 0.150369,
     "end_time": "2021-09-23T19:55:17.515508",
     "exception": false,
     "start_time": "2021-09-23T19:55:17.365139",
     "status": "completed"
    },
    "tags": []
   },
   "outputs": [],
   "source": [
    "def getRgn(address):\n",
    "    \n",
    "    address_district = address.split(\"-\")[-2].split(\",\")[0].replace(\"Suica\", \"Suíça\")\\\n",
    "    .replace(\"Suiça\", \"Suíça\").replace(\"Goiania\", \"Goiânia\").replace(\"Lozândes\", \"Lozandes\")\\\n",
    "    .replace(\"Itaipu\", \"Itaipú\").replace(\"Vila dos Alpes\", \"Vila Alpes\")\\\n",
    "    .replace(\"Parque Joao Braz Cidade Industrial\", \"Parque Industrial João Braz\")\\\n",
    "    .replace(\"Chacaras Botafogo\", \"Chácara Botafogo\").replace(\"Areiao\", \"Areião\")\\\n",
    "    .replace(\"Itamaraca\", \"Itamaracá\")\n",
    "    \n",
    "    for region in rgns_dict.keys():\n",
    "        for district in rgns_dict[region]:\n",
    "            \n",
    "            district = district.replace(\"Esperanca\", \"Esperança\").replace(\"Faicalville\", \"Faiçalville\")\\\n",
    "            .replace(\"Vila Froes\", \"Vila Fróes\")\n",
    "            \n",
    "            if district in address_district or address_district in district:\n",
    "                return region\n",
    "    return np.nan"
   ]
  },
  {
   "cell_type": "code",
   "execution_count": 36,
   "id": "a42c96b2",
   "metadata": {
    "execution": {
     "iopub.execute_input": "2021-09-23T19:55:17.770044Z",
     "iopub.status.busy": "2021-09-23T19:55:17.759460Z",
     "iopub.status.idle": "2021-09-23T19:55:18.176989Z",
     "shell.execute_reply": "2021-09-23T19:55:18.177461Z",
     "shell.execute_reply.started": "2021-09-23T19:52:01.804821Z"
    },
    "papermill": {
     "duration": 0.547193,
     "end_time": "2021-09-23T19:55:18.177630",
     "exception": false,
     "start_time": "2021-09-23T19:55:17.630437",
     "status": "completed"
    },
    "tags": []
   },
   "outputs": [
    {
     "data": {
      "text/plain": [
       "17"
      ]
     },
     "execution_count": 36,
     "metadata": {},
     "output_type": "execute_result"
    }
   ],
   "source": [
    "pd.isna(data.address.apply(getRgn)).sum()"
   ]
  },
  {
   "cell_type": "markdown",
   "id": "976e873f",
   "metadata": {
    "papermill": {
     "duration": 0.112601,
     "end_time": "2021-09-23T19:55:18.404879",
     "exception": false,
     "start_time": "2021-09-23T19:55:18.292278",
     "status": "completed"
    },
    "tags": []
   },
   "source": [
    "All these \"replace\"s inside the function were created iteratively, trying to minimize the number of resultant na's. Of course it can't be perfect...\n",
    "\n",
    "Now I will create a column just for the region of each apartment and drop the rows with no region:"
   ]
  },
  {
   "cell_type": "code",
   "execution_count": 37,
   "id": "8cb6912a",
   "metadata": {
    "execution": {
     "iopub.execute_input": "2021-09-23T19:55:18.651014Z",
     "iopub.status.busy": "2021-09-23T19:55:18.650015Z",
     "iopub.status.idle": "2021-09-23T19:55:19.098025Z",
     "shell.execute_reply": "2021-09-23T19:55:19.098577Z",
     "shell.execute_reply.started": "2021-09-23T19:52:02.154329Z"
    },
    "papermill": {
     "duration": 0.581718,
     "end_time": "2021-09-23T19:55:19.098809",
     "exception": false,
     "start_time": "2021-09-23T19:55:18.517091",
     "status": "completed"
    },
    "tags": []
   },
   "outputs": [
    {
     "data": {
      "text/html": [
       "<div>\n",
       "<style scoped>\n",
       "    .dataframe tbody tr th:only-of-type {\n",
       "        vertical-align: middle;\n",
       "    }\n",
       "\n",
       "    .dataframe tbody tr th {\n",
       "        vertical-align: top;\n",
       "    }\n",
       "\n",
       "    .dataframe thead th {\n",
       "        text-align: right;\n",
       "    }\n",
       "</style>\n",
       "<table border=\"1\" class=\"dataframe\">\n",
       "  <thead>\n",
       "    <tr style=\"text-align: right;\">\n",
       "      <th></th>\n",
       "      <th>price</th>\n",
       "      <th>address</th>\n",
       "      <th>area</th>\n",
       "      <th>bedroom</th>\n",
       "      <th>bathroom</th>\n",
       "      <th>parking</th>\n",
       "      <th>characteristic</th>\n",
       "      <th>condominium</th>\n",
       "      <th>suite</th>\n",
       "      <th>academia</th>\n",
       "      <th>...</th>\n",
       "      <th>vigia</th>\n",
       "      <th>vigilância</th>\n",
       "      <th>vista_exterior</th>\n",
       "      <th>vista_panorâmica</th>\n",
       "      <th>vista_para_a_montanha</th>\n",
       "      <th>vista_para_lago</th>\n",
       "      <th>área_de_lazer</th>\n",
       "      <th>área_de_serviço</th>\n",
       "      <th>árvore_frutífera</th>\n",
       "      <th>region</th>\n",
       "    </tr>\n",
       "  </thead>\n",
       "  <tbody>\n",
       "    <tr>\n",
       "      <th>0</th>\n",
       "      <td>1580000.0</td>\n",
       "      <td>Setor Bueno, Goiânia - GO</td>\n",
       "      <td>230.0</td>\n",
       "      <td>3</td>\n",
       "      <td>6</td>\n",
       "      <td>3.0</td>\n",
       "      <td>Piscina Varanda Área_de_serviço Quadra_poliesp...</td>\n",
       "      <td>NaN</td>\n",
       "      <td>3.0</td>\n",
       "      <td>0</td>\n",
       "      <td>...</td>\n",
       "      <td>0</td>\n",
       "      <td>0</td>\n",
       "      <td>0</td>\n",
       "      <td>0</td>\n",
       "      <td>0</td>\n",
       "      <td>0</td>\n",
       "      <td>0</td>\n",
       "      <td>1</td>\n",
       "      <td>0</td>\n",
       "      <td>Sul</td>\n",
       "    </tr>\n",
       "    <tr>\n",
       "      <th>1</th>\n",
       "      <td>450000.0</td>\n",
       "      <td>Rua Natal, 59 - Alto da Glória, Goiânia - GO</td>\n",
       "      <td>94.0</td>\n",
       "      <td>3</td>\n",
       "      <td>2</td>\n",
       "      <td>1.0</td>\n",
       "      <td>Espaço_gourmet Churrasqueira Playground Piscin...</td>\n",
       "      <td>R$ 380</td>\n",
       "      <td>1.0</td>\n",
       "      <td>0</td>\n",
       "      <td>...</td>\n",
       "      <td>0</td>\n",
       "      <td>0</td>\n",
       "      <td>0</td>\n",
       "      <td>0</td>\n",
       "      <td>0</td>\n",
       "      <td>0</td>\n",
       "      <td>0</td>\n",
       "      <td>0</td>\n",
       "      <td>0</td>\n",
       "      <td>Sul</td>\n",
       "    </tr>\n",
       "    <tr>\n",
       "      <th>2</th>\n",
       "      <td>330000.0</td>\n",
       "      <td>Rua Dom Orione, 57 - Setor Oeste, Goiânia - GO</td>\n",
       "      <td>111.0</td>\n",
       "      <td>3</td>\n",
       "      <td>3</td>\n",
       "      <td>1.0</td>\n",
       "      <td>Varanda Aceita_animais Área_de_serviço Salão_d...</td>\n",
       "      <td>R$ 450</td>\n",
       "      <td>1.0</td>\n",
       "      <td>0</td>\n",
       "      <td>...</td>\n",
       "      <td>0</td>\n",
       "      <td>0</td>\n",
       "      <td>0</td>\n",
       "      <td>0</td>\n",
       "      <td>0</td>\n",
       "      <td>0</td>\n",
       "      <td>0</td>\n",
       "      <td>1</td>\n",
       "      <td>0</td>\n",
       "      <td>Sul</td>\n",
       "    </tr>\n",
       "    <tr>\n",
       "      <th>3</th>\n",
       "      <td>320000.0</td>\n",
       "      <td>Avenida Nápoli, 201 - Residencial Eldorado, Go...</td>\n",
       "      <td>79.0</td>\n",
       "      <td>3</td>\n",
       "      <td>3</td>\n",
       "      <td>1.0</td>\n",
       "      <td>Piscina Churrasqueira Elevador Condomínio_fech...</td>\n",
       "      <td>R$ 400</td>\n",
       "      <td>3.0</td>\n",
       "      <td>1</td>\n",
       "      <td>...</td>\n",
       "      <td>0</td>\n",
       "      <td>0</td>\n",
       "      <td>0</td>\n",
       "      <td>0</td>\n",
       "      <td>0</td>\n",
       "      <td>0</td>\n",
       "      <td>0</td>\n",
       "      <td>0</td>\n",
       "      <td>0</td>\n",
       "      <td>Sudoeste</td>\n",
       "    </tr>\n",
       "    <tr>\n",
       "      <th>4</th>\n",
       "      <td>915525.0</td>\n",
       "      <td>Rua T 36, 1 - Setor Bueno, Goiânia - GO</td>\n",
       "      <td>137.0</td>\n",
       "      <td>3</td>\n",
       "      <td>5</td>\n",
       "      <td>2.0</td>\n",
       "      <td>Piscina Churrasqueira Elevador Condomínio_fech...</td>\n",
       "      <td>NaN</td>\n",
       "      <td>3.0</td>\n",
       "      <td>1</td>\n",
       "      <td>...</td>\n",
       "      <td>0</td>\n",
       "      <td>0</td>\n",
       "      <td>0</td>\n",
       "      <td>0</td>\n",
       "      <td>0</td>\n",
       "      <td>0</td>\n",
       "      <td>0</td>\n",
       "      <td>1</td>\n",
       "      <td>0</td>\n",
       "      <td>Sul</td>\n",
       "    </tr>\n",
       "    <tr>\n",
       "      <th>...</th>\n",
       "      <td>...</td>\n",
       "      <td>...</td>\n",
       "      <td>...</td>\n",
       "      <td>...</td>\n",
       "      <td>...</td>\n",
       "      <td>...</td>\n",
       "      <td>...</td>\n",
       "      <td>...</td>\n",
       "      <td>...</td>\n",
       "      <td>...</td>\n",
       "      <td>...</td>\n",
       "      <td>...</td>\n",
       "      <td>...</td>\n",
       "      <td>...</td>\n",
       "      <td>...</td>\n",
       "      <td>...</td>\n",
       "      <td>...</td>\n",
       "      <td>...</td>\n",
       "      <td>...</td>\n",
       "      <td>...</td>\n",
       "      <td>...</td>\n",
       "    </tr>\n",
       "    <tr>\n",
       "      <th>3083</th>\n",
       "      <td>1100000.0</td>\n",
       "      <td>Avenida T 5, 901 - Setor Bueno, Goiânia - GO</td>\n",
       "      <td>240.0</td>\n",
       "      <td>4</td>\n",
       "      <td>6</td>\n",
       "      <td>4.0</td>\n",
       "      <td>Piscina Churrasqueira Elevador Condomínio_fech...</td>\n",
       "      <td>R$ 1.300</td>\n",
       "      <td>4.0</td>\n",
       "      <td>0</td>\n",
       "      <td>...</td>\n",
       "      <td>1</td>\n",
       "      <td>0</td>\n",
       "      <td>0</td>\n",
       "      <td>0</td>\n",
       "      <td>0</td>\n",
       "      <td>0</td>\n",
       "      <td>1</td>\n",
       "      <td>1</td>\n",
       "      <td>0</td>\n",
       "      <td>Sul</td>\n",
       "    </tr>\n",
       "    <tr>\n",
       "      <th>3084</th>\n",
       "      <td>539000.0</td>\n",
       "      <td>Avenida Olinda, 0 - Park Lozândes, Goiânia - GO</td>\n",
       "      <td>105.0</td>\n",
       "      <td>3</td>\n",
       "      <td>4</td>\n",
       "      <td>2.0</td>\n",
       "      <td>Piscina Churrasqueira Elevador Condomínio_fech...</td>\n",
       "      <td>R$ 420</td>\n",
       "      <td>3.0</td>\n",
       "      <td>1</td>\n",
       "      <td>...</td>\n",
       "      <td>0</td>\n",
       "      <td>0</td>\n",
       "      <td>0</td>\n",
       "      <td>0</td>\n",
       "      <td>0</td>\n",
       "      <td>0</td>\n",
       "      <td>0</td>\n",
       "      <td>1</td>\n",
       "      <td>0</td>\n",
       "      <td>Leste</td>\n",
       "    </tr>\n",
       "    <tr>\n",
       "      <th>3085</th>\n",
       "      <td>279900.0</td>\n",
       "      <td>Rua T 36, 3445 - Setor Bueno, Goiânia - GO</td>\n",
       "      <td>85.0</td>\n",
       "      <td>3</td>\n",
       "      <td>2</td>\n",
       "      <td>1.0</td>\n",
       "      <td>Academia Aceita_animais Salão_de_festas Condom...</td>\n",
       "      <td>R$ 400</td>\n",
       "      <td>1.0</td>\n",
       "      <td>1</td>\n",
       "      <td>...</td>\n",
       "      <td>0</td>\n",
       "      <td>0</td>\n",
       "      <td>0</td>\n",
       "      <td>0</td>\n",
       "      <td>0</td>\n",
       "      <td>0</td>\n",
       "      <td>0</td>\n",
       "      <td>0</td>\n",
       "      <td>0</td>\n",
       "      <td>Sul</td>\n",
       "    </tr>\n",
       "    <tr>\n",
       "      <th>3086</th>\n",
       "      <td>445000.0</td>\n",
       "      <td>Rua 99, 26 - Setor Sul, Goiânia - GO</td>\n",
       "      <td>185.0</td>\n",
       "      <td>3</td>\n",
       "      <td>4</td>\n",
       "      <td>2.0</td>\n",
       "      <td>Elevador Condomínio_fechado Aceita_animais Ar_...</td>\n",
       "      <td>R$ 1.000</td>\n",
       "      <td>2.0</td>\n",
       "      <td>0</td>\n",
       "      <td>...</td>\n",
       "      <td>0</td>\n",
       "      <td>0</td>\n",
       "      <td>0</td>\n",
       "      <td>0</td>\n",
       "      <td>0</td>\n",
       "      <td>0</td>\n",
       "      <td>0</td>\n",
       "      <td>0</td>\n",
       "      <td>0</td>\n",
       "      <td>Centro Oeste</td>\n",
       "    </tr>\n",
       "    <tr>\n",
       "      <th>3087</th>\n",
       "      <td>1640000.0</td>\n",
       "      <td>Rua 1141 - Setor Marista, Goiânia - GO</td>\n",
       "      <td>221.0</td>\n",
       "      <td>4</td>\n",
       "      <td>5</td>\n",
       "      <td>3.0</td>\n",
       "      <td>Piscina Churrasqueira Varanda Academia Espaço_...</td>\n",
       "      <td>NaN</td>\n",
       "      <td>4.0</td>\n",
       "      <td>1</td>\n",
       "      <td>...</td>\n",
       "      <td>0</td>\n",
       "      <td>0</td>\n",
       "      <td>0</td>\n",
       "      <td>0</td>\n",
       "      <td>0</td>\n",
       "      <td>0</td>\n",
       "      <td>0</td>\n",
       "      <td>1</td>\n",
       "      <td>0</td>\n",
       "      <td>Sul</td>\n",
       "    </tr>\n",
       "  </tbody>\n",
       "</table>\n",
       "<p>3088 rows × 173 columns</p>\n",
       "</div>"
      ],
      "text/plain": [
       "          price                                            address   area  \\\n",
       "0     1580000.0                          Setor Bueno, Goiânia - GO  230.0   \n",
       "1      450000.0       Rua Natal, 59 - Alto da Glória, Goiânia - GO   94.0   \n",
       "2      330000.0     Rua Dom Orione, 57 - Setor Oeste, Goiânia - GO  111.0   \n",
       "3      320000.0  Avenida Nápoli, 201 - Residencial Eldorado, Go...   79.0   \n",
       "4      915525.0            Rua T 36, 1 - Setor Bueno, Goiânia - GO  137.0   \n",
       "...         ...                                                ...    ...   \n",
       "3083  1100000.0       Avenida T 5, 901 - Setor Bueno, Goiânia - GO  240.0   \n",
       "3084   539000.0    Avenida Olinda, 0 - Park Lozândes, Goiânia - GO  105.0   \n",
       "3085   279900.0         Rua T 36, 3445 - Setor Bueno, Goiânia - GO   85.0   \n",
       "3086   445000.0               Rua 99, 26 - Setor Sul, Goiânia - GO  185.0   \n",
       "3087  1640000.0             Rua 1141 - Setor Marista, Goiânia - GO  221.0   \n",
       "\n",
       "      bedroom  bathroom  parking  \\\n",
       "0           3         6      3.0   \n",
       "1           3         2      1.0   \n",
       "2           3         3      1.0   \n",
       "3           3         3      1.0   \n",
       "4           3         5      2.0   \n",
       "...       ...       ...      ...   \n",
       "3083        4         6      4.0   \n",
       "3084        3         4      2.0   \n",
       "3085        3         2      1.0   \n",
       "3086        3         4      2.0   \n",
       "3087        4         5      3.0   \n",
       "\n",
       "                                         characteristic condominium  suite  \\\n",
       "0     Piscina Varanda Área_de_serviço Quadra_poliesp...         NaN    3.0   \n",
       "1     Espaço_gourmet Churrasqueira Playground Piscin...     R$ 380     1.0   \n",
       "2     Varanda Aceita_animais Área_de_serviço Salão_d...     R$ 450     1.0   \n",
       "3     Piscina Churrasqueira Elevador Condomínio_fech...     R$ 400     3.0   \n",
       "4     Piscina Churrasqueira Elevador Condomínio_fech...         NaN    3.0   \n",
       "...                                                 ...         ...    ...   \n",
       "3083  Piscina Churrasqueira Elevador Condomínio_fech...   R$ 1.300     4.0   \n",
       "3084  Piscina Churrasqueira Elevador Condomínio_fech...     R$ 420     3.0   \n",
       "3085  Academia Aceita_animais Salão_de_festas Condom...     R$ 400     1.0   \n",
       "3086  Elevador Condomínio_fechado Aceita_animais Ar_...   R$ 1.000     2.0   \n",
       "3087  Piscina Churrasqueira Varanda Academia Espaço_...         NaN    4.0   \n",
       "\n",
       "      academia  ...  vigia  vigilância  vista_exterior  vista_panorâmica  \\\n",
       "0            0  ...      0           0               0                 0   \n",
       "1            0  ...      0           0               0                 0   \n",
       "2            0  ...      0           0               0                 0   \n",
       "3            1  ...      0           0               0                 0   \n",
       "4            1  ...      0           0               0                 0   \n",
       "...        ...  ...    ...         ...             ...               ...   \n",
       "3083         0  ...      1           0               0                 0   \n",
       "3084         1  ...      0           0               0                 0   \n",
       "3085         1  ...      0           0               0                 0   \n",
       "3086         0  ...      0           0               0                 0   \n",
       "3087         1  ...      0           0               0                 0   \n",
       "\n",
       "      vista_para_a_montanha  vista_para_lago  área_de_lazer  área_de_serviço  \\\n",
       "0                         0                0              0                1   \n",
       "1                         0                0              0                0   \n",
       "2                         0                0              0                1   \n",
       "3                         0                0              0                0   \n",
       "4                         0                0              0                1   \n",
       "...                     ...              ...            ...              ...   \n",
       "3083                      0                0              1                1   \n",
       "3084                      0                0              0                1   \n",
       "3085                      0                0              0                0   \n",
       "3086                      0                0              0                0   \n",
       "3087                      0                0              0                1   \n",
       "\n",
       "      árvore_frutífera        region  \n",
       "0                    0           Sul  \n",
       "1                    0           Sul  \n",
       "2                    0           Sul  \n",
       "3                    0      Sudoeste  \n",
       "4                    0           Sul  \n",
       "...                ...           ...  \n",
       "3083                 0           Sul  \n",
       "3084                 0         Leste  \n",
       "3085                 0           Sul  \n",
       "3086                 0  Centro Oeste  \n",
       "3087                 0           Sul  \n",
       "\n",
       "[3088 rows x 173 columns]"
      ]
     },
     "execution_count": 37,
     "metadata": {},
     "output_type": "execute_result"
    }
   ],
   "source": [
    "data[\"region\"] = data.address.apply(getRgn)\n",
    "data = data.dropna(subset = [\"region\"]).reset_index(drop = True)\n",
    "data"
   ]
  },
  {
   "cell_type": "markdown",
   "id": "365be4e3",
   "metadata": {
    "papermill": {
     "duration": 0.126358,
     "end_time": "2021-09-23T19:55:19.359881",
     "exception": false,
     "start_time": "2021-09-23T19:55:19.233523",
     "status": "completed"
    },
    "tags": []
   },
   "source": [
    "Lastly, let's correct the \"condominium\" column, as we corrected the \"price\" column:"
   ]
  },
  {
   "cell_type": "code",
   "execution_count": 38,
   "id": "f90cd647",
   "metadata": {
    "execution": {
     "iopub.execute_input": "2021-09-23T19:55:19.599941Z",
     "iopub.status.busy": "2021-09-23T19:55:19.598952Z",
     "iopub.status.idle": "2021-09-23T19:55:19.601851Z",
     "shell.execute_reply": "2021-09-23T19:55:19.601232Z",
     "shell.execute_reply.started": "2021-09-23T19:52:02.528076Z"
    },
    "papermill": {
     "duration": 0.123796,
     "end_time": "2021-09-23T19:55:19.601988",
     "exception": false,
     "start_time": "2021-09-23T19:55:19.478192",
     "status": "completed"
    },
    "tags": []
   },
   "outputs": [],
   "source": [
    "def temp_func(string):\n",
    "    try:\n",
    "        return string.replace(\"R$\", \"\").replace(\".\", \"\")\n",
    "    except:\n",
    "        return np.nan"
   ]
  },
  {
   "cell_type": "code",
   "execution_count": 39,
   "id": "a97f1483",
   "metadata": {
    "execution": {
     "iopub.execute_input": "2021-09-23T19:55:19.841123Z",
     "iopub.status.busy": "2021-09-23T19:55:19.835963Z",
     "iopub.status.idle": "2021-09-23T19:55:19.845388Z",
     "shell.execute_reply": "2021-09-23T19:55:19.844772Z",
     "shell.execute_reply.started": "2021-09-23T19:52:02.534632Z"
    },
    "papermill": {
     "duration": 0.129201,
     "end_time": "2021-09-23T19:55:19.845537",
     "exception": false,
     "start_time": "2021-09-23T19:55:19.716336",
     "status": "completed"
    },
    "tags": []
   },
   "outputs": [
    {
     "data": {
      "text/plain": [
       "0           NaN\n",
       "1          380 \n",
       "2          450 \n",
       "3          400 \n",
       "4           NaN\n",
       "         ...   \n",
       "3083      1300 \n",
       "3084       420 \n",
       "3085       400 \n",
       "3086      1000 \n",
       "3087        NaN\n",
       "Name: condominium, Length: 3088, dtype: object"
      ]
     },
     "execution_count": 39,
     "metadata": {},
     "output_type": "execute_result"
    }
   ],
   "source": [
    "condominium = data.condominium.apply(temp_func)\n",
    "condominium"
   ]
  },
  {
   "cell_type": "code",
   "execution_count": 40,
   "id": "dc45f0d7",
   "metadata": {
    "execution": {
     "iopub.execute_input": "2021-09-23T19:55:20.077658Z",
     "iopub.status.busy": "2021-09-23T19:55:20.076761Z",
     "iopub.status.idle": "2021-09-23T19:55:20.107632Z",
     "shell.execute_reply": "2021-09-23T19:55:20.108180Z",
     "shell.execute_reply.started": "2021-09-23T19:52:02.553870Z"
    },
    "papermill": {
     "duration": 0.147892,
     "end_time": "2021-09-23T19:55:20.108341",
     "exception": false,
     "start_time": "2021-09-23T19:55:19.960449",
     "status": "completed"
    },
    "tags": []
   },
   "outputs": [
    {
     "data": {
      "text/html": [
       "<div>\n",
       "<style scoped>\n",
       "    .dataframe tbody tr th:only-of-type {\n",
       "        vertical-align: middle;\n",
       "    }\n",
       "\n",
       "    .dataframe tbody tr th {\n",
       "        vertical-align: top;\n",
       "    }\n",
       "\n",
       "    .dataframe thead th {\n",
       "        text-align: right;\n",
       "    }\n",
       "</style>\n",
       "<table border=\"1\" class=\"dataframe\">\n",
       "  <thead>\n",
       "    <tr style=\"text-align: right;\">\n",
       "      <th></th>\n",
       "      <th>price</th>\n",
       "      <th>address</th>\n",
       "      <th>area</th>\n",
       "      <th>bedroom</th>\n",
       "      <th>bathroom</th>\n",
       "      <th>parking</th>\n",
       "      <th>characteristic</th>\n",
       "      <th>condominium</th>\n",
       "      <th>suite</th>\n",
       "      <th>academia</th>\n",
       "      <th>...</th>\n",
       "      <th>vigia</th>\n",
       "      <th>vigilância</th>\n",
       "      <th>vista_exterior</th>\n",
       "      <th>vista_panorâmica</th>\n",
       "      <th>vista_para_a_montanha</th>\n",
       "      <th>vista_para_lago</th>\n",
       "      <th>área_de_lazer</th>\n",
       "      <th>área_de_serviço</th>\n",
       "      <th>árvore_frutífera</th>\n",
       "      <th>region</th>\n",
       "    </tr>\n",
       "  </thead>\n",
       "  <tbody>\n",
       "    <tr>\n",
       "      <th>0</th>\n",
       "      <td>1580000.0</td>\n",
       "      <td>Setor Bueno, Goiânia - GO</td>\n",
       "      <td>230.0</td>\n",
       "      <td>3</td>\n",
       "      <td>6</td>\n",
       "      <td>3.0</td>\n",
       "      <td>Piscina Varanda Área_de_serviço Quadra_poliesp...</td>\n",
       "      <td>NaN</td>\n",
       "      <td>3.0</td>\n",
       "      <td>0</td>\n",
       "      <td>...</td>\n",
       "      <td>0</td>\n",
       "      <td>0</td>\n",
       "      <td>0</td>\n",
       "      <td>0</td>\n",
       "      <td>0</td>\n",
       "      <td>0</td>\n",
       "      <td>0</td>\n",
       "      <td>1</td>\n",
       "      <td>0</td>\n",
       "      <td>Sul</td>\n",
       "    </tr>\n",
       "    <tr>\n",
       "      <th>1</th>\n",
       "      <td>450000.0</td>\n",
       "      <td>Rua Natal, 59 - Alto da Glória, Goiânia - GO</td>\n",
       "      <td>94.0</td>\n",
       "      <td>3</td>\n",
       "      <td>2</td>\n",
       "      <td>1.0</td>\n",
       "      <td>Espaço_gourmet Churrasqueira Playground Piscin...</td>\n",
       "      <td>380.0</td>\n",
       "      <td>1.0</td>\n",
       "      <td>0</td>\n",
       "      <td>...</td>\n",
       "      <td>0</td>\n",
       "      <td>0</td>\n",
       "      <td>0</td>\n",
       "      <td>0</td>\n",
       "      <td>0</td>\n",
       "      <td>0</td>\n",
       "      <td>0</td>\n",
       "      <td>0</td>\n",
       "      <td>0</td>\n",
       "      <td>Sul</td>\n",
       "    </tr>\n",
       "    <tr>\n",
       "      <th>2</th>\n",
       "      <td>330000.0</td>\n",
       "      <td>Rua Dom Orione, 57 - Setor Oeste, Goiânia - GO</td>\n",
       "      <td>111.0</td>\n",
       "      <td>3</td>\n",
       "      <td>3</td>\n",
       "      <td>1.0</td>\n",
       "      <td>Varanda Aceita_animais Área_de_serviço Salão_d...</td>\n",
       "      <td>450.0</td>\n",
       "      <td>1.0</td>\n",
       "      <td>0</td>\n",
       "      <td>...</td>\n",
       "      <td>0</td>\n",
       "      <td>0</td>\n",
       "      <td>0</td>\n",
       "      <td>0</td>\n",
       "      <td>0</td>\n",
       "      <td>0</td>\n",
       "      <td>0</td>\n",
       "      <td>1</td>\n",
       "      <td>0</td>\n",
       "      <td>Sul</td>\n",
       "    </tr>\n",
       "    <tr>\n",
       "      <th>3</th>\n",
       "      <td>320000.0</td>\n",
       "      <td>Avenida Nápoli, 201 - Residencial Eldorado, Go...</td>\n",
       "      <td>79.0</td>\n",
       "      <td>3</td>\n",
       "      <td>3</td>\n",
       "      <td>1.0</td>\n",
       "      <td>Piscina Churrasqueira Elevador Condomínio_fech...</td>\n",
       "      <td>400.0</td>\n",
       "      <td>3.0</td>\n",
       "      <td>1</td>\n",
       "      <td>...</td>\n",
       "      <td>0</td>\n",
       "      <td>0</td>\n",
       "      <td>0</td>\n",
       "      <td>0</td>\n",
       "      <td>0</td>\n",
       "      <td>0</td>\n",
       "      <td>0</td>\n",
       "      <td>0</td>\n",
       "      <td>0</td>\n",
       "      <td>Sudoeste</td>\n",
       "    </tr>\n",
       "    <tr>\n",
       "      <th>4</th>\n",
       "      <td>915525.0</td>\n",
       "      <td>Rua T 36, 1 - Setor Bueno, Goiânia - GO</td>\n",
       "      <td>137.0</td>\n",
       "      <td>3</td>\n",
       "      <td>5</td>\n",
       "      <td>2.0</td>\n",
       "      <td>Piscina Churrasqueira Elevador Condomínio_fech...</td>\n",
       "      <td>NaN</td>\n",
       "      <td>3.0</td>\n",
       "      <td>1</td>\n",
       "      <td>...</td>\n",
       "      <td>0</td>\n",
       "      <td>0</td>\n",
       "      <td>0</td>\n",
       "      <td>0</td>\n",
       "      <td>0</td>\n",
       "      <td>0</td>\n",
       "      <td>0</td>\n",
       "      <td>1</td>\n",
       "      <td>0</td>\n",
       "      <td>Sul</td>\n",
       "    </tr>\n",
       "  </tbody>\n",
       "</table>\n",
       "<p>5 rows × 173 columns</p>\n",
       "</div>"
      ],
      "text/plain": [
       "       price                                            address   area  \\\n",
       "0  1580000.0                          Setor Bueno, Goiânia - GO  230.0   \n",
       "1   450000.0       Rua Natal, 59 - Alto da Glória, Goiânia - GO   94.0   \n",
       "2   330000.0     Rua Dom Orione, 57 - Setor Oeste, Goiânia - GO  111.0   \n",
       "3   320000.0  Avenida Nápoli, 201 - Residencial Eldorado, Go...   79.0   \n",
       "4   915525.0            Rua T 36, 1 - Setor Bueno, Goiânia - GO  137.0   \n",
       "\n",
       "   bedroom  bathroom  parking  \\\n",
       "0        3         6      3.0   \n",
       "1        3         2      1.0   \n",
       "2        3         3      1.0   \n",
       "3        3         3      1.0   \n",
       "4        3         5      2.0   \n",
       "\n",
       "                                      characteristic  condominium  suite  \\\n",
       "0  Piscina Varanda Área_de_serviço Quadra_poliesp...          NaN    3.0   \n",
       "1  Espaço_gourmet Churrasqueira Playground Piscin...        380.0    1.0   \n",
       "2  Varanda Aceita_animais Área_de_serviço Salão_d...        450.0    1.0   \n",
       "3  Piscina Churrasqueira Elevador Condomínio_fech...        400.0    3.0   \n",
       "4  Piscina Churrasqueira Elevador Condomínio_fech...          NaN    3.0   \n",
       "\n",
       "   academia  ...  vigia  vigilância  vista_exterior  vista_panorâmica  \\\n",
       "0         0  ...      0           0               0                 0   \n",
       "1         0  ...      0           0               0                 0   \n",
       "2         0  ...      0           0               0                 0   \n",
       "3         1  ...      0           0               0                 0   \n",
       "4         1  ...      0           0               0                 0   \n",
       "\n",
       "   vista_para_a_montanha  vista_para_lago  área_de_lazer  área_de_serviço  \\\n",
       "0                      0                0              0                1   \n",
       "1                      0                0              0                0   \n",
       "2                      0                0              0                1   \n",
       "3                      0                0              0                0   \n",
       "4                      0                0              0                1   \n",
       "\n",
       "   árvore_frutífera    region  \n",
       "0                 0       Sul  \n",
       "1                 0       Sul  \n",
       "2                 0       Sul  \n",
       "3                 0  Sudoeste  \n",
       "4                 0       Sul  \n",
       "\n",
       "[5 rows x 173 columns]"
      ]
     },
     "execution_count": 40,
     "metadata": {},
     "output_type": "execute_result"
    }
   ],
   "source": [
    "data.condominium = pd.to_numeric(data.condominium.apply(temp_func))\n",
    "data.head()"
   ]
  },
  {
   "cell_type": "markdown",
   "id": "e18f6221",
   "metadata": {
    "papermill": {
     "duration": 0.112935,
     "end_time": "2021-09-23T19:55:20.332399",
     "exception": false,
     "start_time": "2021-09-23T19:55:20.219464",
     "status": "completed"
    },
    "tags": []
   },
   "source": [
    "Now we are ready for exploration!! :)"
   ]
  },
  {
   "cell_type": "markdown",
   "id": "761f6ddc",
   "metadata": {
    "papermill": {
     "duration": 0.111295,
     "end_time": "2021-09-23T19:55:20.555588",
     "exception": false,
     "start_time": "2021-09-23T19:55:20.444293",
     "status": "completed"
    },
    "tags": []
   },
   "source": [
    "***\n",
    "\n",
    "# Data Exploration"
   ]
  },
  {
   "cell_type": "markdown",
   "id": "ca3b482c",
   "metadata": {
    "papermill": {
     "duration": 0.110713,
     "end_time": "2021-09-23T19:55:20.777597",
     "exception": false,
     "start_time": "2021-09-23T19:55:20.666884",
     "status": "completed"
    },
    "tags": []
   },
   "source": [
    "First I will run some cells that will facilitate my life.\n",
    "\n",
    "These cells contain functions that give me control over some useful plots:"
   ]
  },
  {
   "cell_type": "code",
   "execution_count": 41,
   "id": "e5bea34b",
   "metadata": {
    "execution": {
     "iopub.execute_input": "2021-09-23T19:55:21.012312Z",
     "iopub.status.busy": "2021-09-23T19:55:21.011684Z",
     "iopub.status.idle": "2021-09-23T19:55:21.146969Z",
     "shell.execute_reply": "2021-09-23T19:55:21.146277Z",
     "shell.execute_reply.started": "2021-09-23T19:52:02.593686Z"
    },
    "papermill": {
     "duration": 0.253064,
     "end_time": "2021-09-23T19:55:21.147118",
     "exception": false,
     "start_time": "2021-09-23T19:55:20.894054",
     "status": "completed"
    },
    "tags": []
   },
   "outputs": [],
   "source": [
    "import matplotlib.pyplot as plt\n",
    "import seaborn as sns\n",
    "\n",
    "sns.set_style(\"whitegrid\")"
   ]
  },
  {
   "cell_type": "code",
   "execution_count": 42,
   "id": "e1082bd5",
   "metadata": {
    "execution": {
     "iopub.execute_input": "2021-09-23T19:55:21.379606Z",
     "iopub.status.busy": "2021-09-23T19:55:21.378962Z",
     "iopub.status.idle": "2021-09-23T19:55:21.381720Z",
     "shell.execute_reply": "2021-09-23T19:55:21.381189Z",
     "shell.execute_reply.started": "2021-09-23T19:52:02.851372Z"
    },
    "papermill": {
     "duration": 0.122026,
     "end_time": "2021-09-23T19:55:21.381866",
     "exception": false,
     "start_time": "2021-09-23T19:55:21.259840",
     "status": "completed"
    },
    "tags": []
   },
   "outputs": [],
   "source": [
    "# boxplot\n",
    "def boxplot(data, x, y, ylim = None, figsize = None, rotation = None):\n",
    "    if figsize != None:\n",
    "        fig = plt.figure(figsize = figsize)\n",
    "    sns.boxplot(data = data, x = x, y = y)\n",
    "    if ylim != None:\n",
    "        plt.ylim(ylim)\n",
    "    if rotation != None:\n",
    "        plt.xticks(rotation = rotation)\n",
    "    plt.show()"
   ]
  },
  {
   "cell_type": "code",
   "execution_count": 43,
   "id": "c6691cc6",
   "metadata": {
    "execution": {
     "iopub.execute_input": "2021-09-23T19:55:21.616073Z",
     "iopub.status.busy": "2021-09-23T19:55:21.615383Z",
     "iopub.status.idle": "2021-09-23T19:55:21.617676Z",
     "shell.execute_reply": "2021-09-23T19:55:21.618097Z",
     "shell.execute_reply.started": "2021-09-23T19:52:02.859049Z"
    },
    "papermill": {
     "duration": 0.122134,
     "end_time": "2021-09-23T19:55:21.618267",
     "exception": false,
     "start_time": "2021-09-23T19:55:21.496133",
     "status": "completed"
    },
    "tags": []
   },
   "outputs": [],
   "source": [
    "# scatter plot\n",
    "def scatterplot(data, x, y, figsize = None, xlim = None, ylim = None):\n",
    "    if figsize != None:\n",
    "        fig = plt.figure(figsize = figsize)\n",
    "    sns.scatterplot(data = data, x = x, y = y)\n",
    "    if xlim != None:\n",
    "        plt.xlim(xlim)\n",
    "    if ylim != None:\n",
    "        plt.ylim(ylim)\n",
    "    plt.show()"
   ]
  },
  {
   "cell_type": "markdown",
   "id": "489721ce",
   "metadata": {
    "papermill": {
     "duration": 0.112755,
     "end_time": "2021-09-23T19:55:21.844432",
     "exception": false,
     "start_time": "2021-09-23T19:55:21.731677",
     "status": "completed"
    },
    "tags": []
   },
   "source": [
    "What's my intention? To create a linear model capable of predict the price of apartments in Goiânia based on some features.\n",
    "\n",
    "So I need to explore which features are important and how they relate to the price of the apartments (because maybe it's non-linear and it needs some transformation, for example).\n",
    "\n",
    "Let's begin by relating area and price:\n",
    "\n",
    "### Price x area"
   ]
  },
  {
   "cell_type": "code",
   "execution_count": 44,
   "id": "1634570d",
   "metadata": {
    "execution": {
     "iopub.execute_input": "2021-09-23T19:55:22.073090Z",
     "iopub.status.busy": "2021-09-23T19:55:22.072389Z",
     "iopub.status.idle": "2021-09-23T19:55:22.435811Z",
     "shell.execute_reply": "2021-09-23T19:55:22.435284Z",
     "shell.execute_reply.started": "2021-09-23T19:52:02.872114Z"
    },
    "papermill": {
     "duration": 0.479071,
     "end_time": "2021-09-23T19:55:22.435949",
     "exception": false,
     "start_time": "2021-09-23T19:55:21.956878",
     "status": "completed"
    },
    "tags": []
   },
   "outputs": [
    {
     "data": {
      "image/png": "[encoded data removed]",
      "text/plain": [
       "<Figure size 864x576 with 1 Axes>"
      ]
     },
     "metadata": {},
     "output_type": "display_data"
    }
   ],
   "source": [
    "scatterplot(data, \"area\", \"price\", (12, 8))"
   ]
  },
  {
   "cell_type": "markdown",
   "id": "6f1af268",
   "metadata": {
    "papermill": {
     "duration": 0.112975,
     "end_time": "2021-09-23T19:55:22.662760",
     "exception": false,
     "start_time": "2021-09-23T19:55:22.549785",
     "status": "completed"
    },
    "tags": []
   },
   "source": [
    "Well... There is some weird apartments here... It is possible to an apartment to have more than 1000m²? Okay, it can be. But how can I have certainty about that just with the data that I have?\n",
    "\n",
    "I will not think twice and just delete these apartments and then plot the scatter plot again. They don't make sense for me:"
   ]
  },
  {
   "cell_type": "code",
   "execution_count": 45,
   "id": "fc162f53",
   "metadata": {
    "execution": {
     "iopub.execute_input": "2021-09-23T19:55:22.894387Z",
     "iopub.status.busy": "2021-09-23T19:55:22.893749Z",
     "iopub.status.idle": "2021-09-23T19:55:23.120795Z",
     "shell.execute_reply": "2021-09-23T19:55:23.121347Z",
     "shell.execute_reply.started": "2021-09-23T19:52:03.176722Z"
    },
    "papermill": {
     "duration": 0.346231,
     "end_time": "2021-09-23T19:55:23.121520",
     "exception": false,
     "start_time": "2021-09-23T19:55:22.775289",
     "status": "completed"
    },
    "tags": []
   },
   "outputs": [
    {
     "data": {
      "image/png": "[encoded data removed]",
      "text/plain": [
       "<Figure size 864x576 with 1 Axes>"
      ]
     },
     "metadata": {},
     "output_type": "display_data"
    }
   ],
   "source": [
    "data = data[data.area < 1000].reset_index(drop = True)\n",
    "scatterplot(data, \"area\", \"price\", (12, 8))"
   ]
  },
  {
   "cell_type": "markdown",
   "id": "dab18bf0",
   "metadata": {
    "execution": {
     "iopub.execute_input": "2021-09-21T14:33:24.566473Z",
     "iopub.status.busy": "2021-09-21T14:33:24.566033Z",
     "iopub.status.idle": "2021-09-21T14:33:24.875616Z",
     "shell.execute_reply": "2021-09-21T14:33:24.874636Z",
     "shell.execute_reply.started": "2021-09-21T14:33:24.566431Z"
    },
    "papermill": {
     "duration": 0.116041,
     "end_time": "2021-09-23T19:55:23.353295",
     "exception": false,
     "start_time": "2021-09-23T19:55:23.237254",
     "status": "completed"
    },
    "tags": []
   },
   "source": [
    "Note that the behaviour of the points is not linear... It seems to me like a quadratic curve. So if I do a square root transformation over price, maybe we could have a more linear curve. Let's try:"
   ]
  },
  {
   "cell_type": "code",
   "execution_count": 46,
   "id": "5d4d2866",
   "metadata": {
    "execution": {
     "iopub.execute_input": "2021-09-23T19:55:23.586622Z",
     "iopub.status.busy": "2021-09-23T19:55:23.585618Z",
     "iopub.status.idle": "2021-09-23T19:55:23.813812Z",
     "shell.execute_reply": "2021-09-23T19:55:23.813298Z",
     "shell.execute_reply.started": "2021-09-23T19:52:03.441438Z"
    },
    "papermill": {
     "duration": 0.345583,
     "end_time": "2021-09-23T19:55:23.813962",
     "exception": false,
     "start_time": "2021-09-23T19:55:23.468379",
     "status": "completed"
    },
    "tags": []
   },
   "outputs": [
    {
     "data": {
      "image/png": "[encoded data removed]",
      "text/plain": [
       "<Figure size 864x576 with 1 Axes>"
      ]
     },
     "metadata": {},
     "output_type": "display_data"
    }
   ],
   "source": [
    "temp_data = data.copy()\n",
    "temp_data.price = np.sqrt(temp_data.price)\n",
    "scatterplot(temp_data, \"area\", \"price\", (12, 8))"
   ]
  },
  {
   "cell_type": "markdown",
   "id": "7d0d3fba",
   "metadata": {
    "papermill": {
     "duration": 0.118321,
     "end_time": "2021-09-23T19:55:24.051009",
     "exception": false,
     "start_time": "2021-09-23T19:55:23.932688",
     "status": "completed"
    },
    "tags": []
   },
   "source": [
    "There it is... It is more linear. So price probably is related to the area squared (price ~ area²).\n",
    "\n",
    "### Price x bedroom"
   ]
  },
  {
   "cell_type": "markdown",
   "id": "720c2e7a",
   "metadata": {
    "papermill": {
     "duration": 0.121812,
     "end_time": "2021-09-23T19:55:24.300611",
     "exception": false,
     "start_time": "2021-09-23T19:55:24.178799",
     "status": "completed"
    },
    "tags": []
   },
   "source": [
    "For Price x Bedroom, I think that a boxplot will be useful:"
   ]
  },
  {
   "cell_type": "code",
   "execution_count": 47,
   "id": "cccf68cd",
   "metadata": {
    "execution": {
     "iopub.execute_input": "2021-09-23T19:55:24.542080Z",
     "iopub.status.busy": "2021-09-23T19:55:24.541009Z",
     "iopub.status.idle": "2021-09-23T19:55:24.816991Z",
     "shell.execute_reply": "2021-09-23T19:55:24.816399Z",
     "shell.execute_reply.started": "2021-09-23T19:52:03.710939Z"
    },
    "papermill": {
     "duration": 0.399479,
     "end_time": "2021-09-23T19:55:24.817134",
     "exception": false,
     "start_time": "2021-09-23T19:55:24.417655",
     "status": "completed"
    },
    "tags": []
   },
   "outputs": [
    {
     "data": {
      "image/png": "[encoded data removed]",
      "text/plain": [
       "<Figure size 864x576 with 1 Axes>"
      ]
     },
     "metadata": {},
     "output_type": "display_data"
    }
   ],
   "source": [
    "boxplot(data, \"bedroom\", \"price\", figsize = (12, 8))"
   ]
  },
  {
   "cell_type": "markdown",
   "id": "7abab5e9",
   "metadata": {
    "papermill": {
     "duration": 0.117713,
     "end_time": "2021-09-23T19:55:25.081067",
     "exception": false,
     "start_time": "2021-09-23T19:55:24.963354",
     "status": "completed"
    },
    "tags": []
   },
   "source": [
    "Note the exponential behaviour. If I do a log transformation over price, probably the we will have a linear trend. Let's try:"
   ]
  },
  {
   "cell_type": "code",
   "execution_count": 48,
   "id": "fa863f60",
   "metadata": {
    "execution": {
     "iopub.execute_input": "2021-09-23T19:55:25.323557Z",
     "iopub.status.busy": "2021-09-23T19:55:25.322483Z",
     "iopub.status.idle": "2021-09-23T19:55:25.589978Z",
     "shell.execute_reply": "2021-09-23T19:55:25.589326Z",
     "shell.execute_reply.started": "2021-09-23T19:52:04.018035Z"
    },
    "papermill": {
     "duration": 0.39128,
     "end_time": "2021-09-23T19:55:25.590123",
     "exception": false,
     "start_time": "2021-09-23T19:55:25.198843",
     "status": "completed"
    },
    "tags": []
   },
   "outputs": [
    {
     "data": {
      "image/png": "[encoded data removed]",
      "text/plain": [
       "<Figure size 864x576 with 1 Axes>"
      ]
     },
     "metadata": {},
     "output_type": "display_data"
    }
   ],
   "source": [
    "temp_data = data.copy()\n",
    "temp_data.price = np.log(temp_data.price)\n",
    "boxplot(temp_data, \"bedroom\", \"price\", figsize = (12, 8))"
   ]
  },
  {
   "cell_type": "markdown",
   "id": "5eba4cfc",
   "metadata": {
    "papermill": {
     "duration": 0.118015,
     "end_time": "2021-09-23T19:55:25.827007",
     "exception": false,
     "start_time": "2021-09-23T19:55:25.708992",
     "status": "completed"
    },
    "tags": []
   },
   "source": [
    "It's not linear at all, mainly because of the prices of the apartments with number of bedrooms greater than 5. Let's see how many apartments have 6 or more bedrooms:"
   ]
  },
  {
   "cell_type": "code",
   "execution_count": 49,
   "id": "9883c9a4",
   "metadata": {
    "execution": {
     "iopub.execute_input": "2021-09-23T19:55:26.109082Z",
     "iopub.status.busy": "2021-09-23T19:55:26.108365Z",
     "iopub.status.idle": "2021-09-23T19:55:26.110891Z",
     "shell.execute_reply": "2021-09-23T19:55:26.111358Z",
     "shell.execute_reply.started": "2021-09-23T19:52:04.329691Z"
    },
    "papermill": {
     "duration": 0.142095,
     "end_time": "2021-09-23T19:55:26.111521",
     "exception": false,
     "start_time": "2021-09-23T19:55:25.969426",
     "status": "completed"
    },
    "tags": []
   },
   "outputs": [
    {
     "data": {
      "text/plain": [
       "5"
      ]
     },
     "execution_count": 49,
     "metadata": {},
     "output_type": "execute_result"
    }
   ],
   "source": [
    "(data.bedroom >= 6).sum()"
   ]
  },
  {
   "cell_type": "markdown",
   "id": "fcf119d4",
   "metadata": {
    "papermill": {
     "duration": 0.117568,
     "end_time": "2021-09-23T19:55:26.346721",
     "exception": false,
     "start_time": "2021-09-23T19:55:26.229153",
     "status": "completed"
    },
    "tags": []
   },
   "source": [
    "We can see that's not a lot of points... So I will drop these rows, because they are escaping the general trend and can influence our regression model. Then let's plot the boxplot again:"
   ]
  },
  {
   "cell_type": "code",
   "execution_count": 50,
   "id": "9377e69d",
   "metadata": {
    "execution": {
     "iopub.execute_input": "2021-09-23T19:55:26.585024Z",
     "iopub.status.busy": "2021-09-23T19:55:26.584389Z",
     "iopub.status.idle": "2021-09-23T19:55:26.819572Z",
     "shell.execute_reply": "2021-09-23T19:55:26.820040Z",
     "shell.execute_reply.started": "2021-09-23T19:52:04.339490Z"
    },
    "papermill": {
     "duration": 0.356686,
     "end_time": "2021-09-23T19:55:26.820209",
     "exception": false,
     "start_time": "2021-09-23T19:55:26.463523",
     "status": "completed"
    },
    "tags": []
   },
   "outputs": [
    {
     "data": {
      "image/png": "[encoded data removed]",
      "text/plain": [
       "<Figure size 864x576 with 1 Axes>"
      ]
     },
     "metadata": {},
     "output_type": "display_data"
    }
   ],
   "source": [
    "data = data[data.bedroom < 6].reset_index(drop = True)\n",
    "\n",
    "temp_data = data.copy()\n",
    "temp_data.price = np.log(temp_data.price)\n",
    "boxplot(temp_data, \"bedroom\", \"price\", figsize = (12, 8))"
   ]
  },
  {
   "cell_type": "markdown",
   "id": "b484b2ea",
   "metadata": {
    "papermill": {
     "duration": 0.123118,
     "end_time": "2021-09-23T19:55:27.065764",
     "exception": false,
     "start_time": "2021-09-23T19:55:26.942646",
     "status": "completed"
    },
    "tags": []
   },
   "source": [
    "It's a little better now, except for the beginning of the trend. But I don't think that I can do something about it."
   ]
  },
  {
   "cell_type": "markdown",
   "id": "805b1c2c",
   "metadata": {
    "papermill": {
     "duration": 0.118408,
     "end_time": "2021-09-23T19:55:27.302962",
     "exception": false,
     "start_time": "2021-09-23T19:55:27.184554",
     "status": "completed"
    },
    "tags": []
   },
   "source": [
    "### Price x Bathroom"
   ]
  },
  {
   "cell_type": "markdown",
   "id": "18a50ace",
   "metadata": {
    "papermill": {
     "duration": 0.119411,
     "end_time": "2021-09-23T19:55:27.542784",
     "exception": false,
     "start_time": "2021-09-23T19:55:27.423373",
     "status": "completed"
    },
    "tags": []
   },
   "source": [
    "Again I will use a boxplot:"
   ]
  },
  {
   "cell_type": "code",
   "execution_count": 51,
   "id": "5e906a0d",
   "metadata": {
    "execution": {
     "iopub.execute_input": "2021-09-23T19:55:27.788442Z",
     "iopub.status.busy": "2021-09-23T19:55:27.787392Z",
     "iopub.status.idle": "2021-09-23T19:55:28.077260Z",
     "shell.execute_reply": "2021-09-23T19:55:28.076795Z",
     "shell.execute_reply.started": "2021-09-23T19:52:04.627358Z"
    },
    "papermill": {
     "duration": 0.414699,
     "end_time": "2021-09-23T19:55:28.077389",
     "exception": false,
     "start_time": "2021-09-23T19:55:27.662690",
     "status": "completed"
    },
    "tags": []
   },
   "outputs": [
    {
     "data": {
      "image/png": "[encoded data removed]",
      "text/plain": [
       "<Figure size 864x576 with 1 Axes>"
      ]
     },
     "metadata": {},
     "output_type": "display_data"
    }
   ],
   "source": [
    "boxplot(data, \"bathroom\", \"price\", figsize = (12, 8))"
   ]
  },
  {
   "cell_type": "markdown",
   "id": "7280c378",
   "metadata": {
    "papermill": {
     "duration": 0.119446,
     "end_time": "2021-09-23T19:55:28.316598",
     "exception": false,
     "start_time": "2021-09-23T19:55:28.197152",
     "status": "completed"
    },
    "tags": []
   },
   "source": [
    "That's a beautiful exponential curve! Once again, a log transformation over price will do the work:"
   ]
  },
  {
   "cell_type": "code",
   "execution_count": 52,
   "id": "bd0eb8da",
   "metadata": {
    "execution": {
     "iopub.execute_input": "2021-09-23T19:55:28.564400Z",
     "iopub.status.busy": "2021-09-23T19:55:28.563443Z",
     "iopub.status.idle": "2021-09-23T19:55:28.851763Z",
     "shell.execute_reply": "2021-09-23T19:55:28.852268Z",
     "shell.execute_reply.started": "2021-09-23T19:52:04.962576Z"
    },
    "papermill": {
     "duration": 0.414466,
     "end_time": "2021-09-23T19:55:28.852431",
     "exception": false,
     "start_time": "2021-09-23T19:55:28.437965",
     "status": "completed"
    },
    "tags": []
   },
   "outputs": [
    {
     "data": {
      "image/png": "[encoded data removed]",
      "text/plain": [
       "<Figure size 864x576 with 1 Axes>"
      ]
     },
     "metadata": {},
     "output_type": "display_data"
    }
   ],
   "source": [
    "temp_data = data.copy()\n",
    "temp_data.price = np.log(temp_data.price)\n",
    "boxplot(temp_data, \"bathroom\", \"price\", figsize = (12, 8))"
   ]
  },
  {
   "cell_type": "markdown",
   "id": "93311b5c",
   "metadata": {
    "papermill": {
     "duration": 0.120999,
     "end_time": "2021-09-23T19:55:29.093288",
     "exception": false,
     "start_time": "2021-09-23T19:55:28.972289",
     "status": "completed"
    },
    "tags": []
   },
   "source": [
    "Beautiful!"
   ]
  },
  {
   "cell_type": "markdown",
   "id": "0e32f017",
   "metadata": {
    "papermill": {
     "duration": 0.120286,
     "end_time": "2021-09-23T19:55:29.334234",
     "exception": false,
     "start_time": "2021-09-23T19:55:29.213948",
     "status": "completed"
    },
    "tags": []
   },
   "source": [
    "### Price x Suite"
   ]
  },
  {
   "cell_type": "markdown",
   "id": "cbf3442a",
   "metadata": {
    "papermill": {
     "duration": 0.120015,
     "end_time": "2021-09-23T19:55:29.575695",
     "exception": false,
     "start_time": "2021-09-23T19:55:29.455680",
     "status": "completed"
    },
    "tags": []
   },
   "source": [
    "A boxplot is useful here:"
   ]
  },
  {
   "cell_type": "code",
   "execution_count": 53,
   "id": "77334639",
   "metadata": {
    "execution": {
     "iopub.execute_input": "2021-09-23T19:55:29.822162Z",
     "iopub.status.busy": "2021-09-23T19:55:29.821103Z",
     "iopub.status.idle": "2021-09-23T19:55:30.070779Z",
     "shell.execute_reply": "2021-09-23T19:55:30.070161Z",
     "shell.execute_reply.started": "2021-09-23T19:52:05.293634Z"
    },
    "papermill": {
     "duration": 0.376359,
     "end_time": "2021-09-23T19:55:30.070925",
     "exception": false,
     "start_time": "2021-09-23T19:55:29.694566",
     "status": "completed"
    },
    "tags": []
   },
   "outputs": [
    {
     "data": {
      "image/png": "[encoded data removed]",
      "text/plain": [
       "<Figure size 864x576 with 1 Axes>"
      ]
     },
     "metadata": {},
     "output_type": "display_data"
    }
   ],
   "source": [
    "boxplot(data, \"suite\", \"price\", figsize = (12, 8))"
   ]
  },
  {
   "cell_type": "markdown",
   "id": "a257a11e",
   "metadata": {
    "papermill": {
     "duration": 0.120109,
     "end_time": "2021-09-23T19:55:30.312163",
     "exception": false,
     "start_time": "2021-09-23T19:55:30.192054",
     "status": "completed"
    },
    "tags": []
   },
   "source": [
    "One more exponential curve... A log transform will do the work again:"
   ]
  },
  {
   "cell_type": "code",
   "execution_count": 54,
   "id": "af07678b",
   "metadata": {
    "execution": {
     "iopub.execute_input": "2021-09-23T19:55:30.559695Z",
     "iopub.status.busy": "2021-09-23T19:55:30.559044Z",
     "iopub.status.idle": "2021-09-23T19:55:30.858065Z",
     "shell.execute_reply": "2021-09-23T19:55:30.857553Z",
     "shell.execute_reply.started": "2021-09-23T19:52:05.595846Z"
    },
    "papermill": {
     "duration": 0.424878,
     "end_time": "2021-09-23T19:55:30.858209",
     "exception": false,
     "start_time": "2021-09-23T19:55:30.433331",
     "status": "completed"
    },
    "tags": []
   },
   "outputs": [
    {
     "data": {
      "image/png": "[encoded data removed]",
      "text/plain": [
       "<Figure size 864x576 with 1 Axes>"
      ]
     },
     "metadata": {},
     "output_type": "display_data"
    }
   ],
   "source": [
    "temp_data = data.copy()\n",
    "temp_data.price = np.log(temp_data.price)\n",
    "boxplot(temp_data, \"suite\", \"price\", figsize = (12, 8))"
   ]
  },
  {
   "cell_type": "markdown",
   "id": "efd66c03",
   "metadata": {
    "papermill": {
     "duration": 0.122523,
     "end_time": "2021-09-23T19:55:31.104575",
     "exception": false,
     "start_time": "2021-09-23T19:55:30.982052",
     "status": "completed"
    },
    "tags": []
   },
   "source": [
    "### Price x Parking"
   ]
  },
  {
   "cell_type": "code",
   "execution_count": 55,
   "id": "5b108de9",
   "metadata": {
    "execution": {
     "iopub.execute_input": "2021-09-23T19:55:31.353860Z",
     "iopub.status.busy": "2021-09-23T19:55:31.353194Z",
     "iopub.status.idle": "2021-09-23T19:55:31.949737Z",
     "shell.execute_reply": "2021-09-23T19:55:31.950216Z",
     "shell.execute_reply.started": "2021-09-23T19:52:05.892505Z"
    },
    "papermill": {
     "duration": 0.724339,
     "end_time": "2021-09-23T19:55:31.950400",
     "exception": false,
     "start_time": "2021-09-23T19:55:31.226061",
     "status": "completed"
    },
    "tags": []
   },
   "outputs": [
    {
     "data": {
      "image/png": "[encoded data removed]",
      "text/plain": [
       "<Figure size 864x576 with 1 Axes>"
      ]
     },
     "metadata": {},
     "output_type": "display_data"
    }
   ],
   "source": [
    "boxplot(data, \"parking\", \"price\", figsize = (12, 8))"
   ]
  },
  {
   "cell_type": "markdown",
   "id": "edbbd05a",
   "metadata": {
    "papermill": {
     "duration": 0.126375,
     "end_time": "2021-09-23T19:55:32.199788",
     "exception": false,
     "start_time": "2021-09-23T19:55:32.073413",
     "status": "completed"
    },
    "tags": []
   },
   "source": [
    "Wow... Clearly we have an exponential curve in the beginning. Then the pattern is destroyed totally. I will do a log transform and then plot again:"
   ]
  },
  {
   "cell_type": "code",
   "execution_count": 56,
   "id": "17ccc3f3",
   "metadata": {
    "execution": {
     "iopub.execute_input": "2021-09-23T19:55:32.451387Z",
     "iopub.status.busy": "2021-09-23T19:55:32.450777Z",
     "iopub.status.idle": "2021-09-23T19:55:32.905743Z",
     "shell.execute_reply": "2021-09-23T19:55:32.906224Z",
     "shell.execute_reply.started": "2021-09-23T19:52:06.477388Z"
    },
    "papermill": {
     "duration": 0.583296,
     "end_time": "2021-09-23T19:55:32.906407",
     "exception": false,
     "start_time": "2021-09-23T19:55:32.323111",
     "status": "completed"
    },
    "tags": []
   },
   "outputs": [
    {
     "data": {
      "image/png": "[encoded data removed]",
      "text/plain": [
       "<Figure size 864x576 with 1 Axes>"
      ]
     },
     "metadata": {},
     "output_type": "display_data"
    }
   ],
   "source": [
    "temp_data = data.copy()\n",
    "temp_data.price = np.log(temp_data.price)\n",
    "boxplot(temp_data, \"parking\", \"price\", figsize = (12, 8))"
   ]
  },
  {
   "cell_type": "markdown",
   "id": "9753fe86",
   "metadata": {
    "papermill": {
     "duration": 0.124813,
     "end_time": "2021-09-23T19:55:33.153782",
     "exception": false,
     "start_time": "2021-09-23T19:55:33.028969",
     "status": "completed"
    },
    "tags": []
   },
   "source": [
    "We have a linear trend, but then for \"parking\" > 6 the pattern is destroyed. How many apartments have \"parking\" >= 6?"
   ]
  },
  {
   "cell_type": "code",
   "execution_count": 57,
   "id": "8b07a9be",
   "metadata": {
    "execution": {
     "iopub.execute_input": "2021-09-23T19:55:33.405379Z",
     "iopub.status.busy": "2021-09-23T19:55:33.404770Z",
     "iopub.status.idle": "2021-09-23T19:55:33.409844Z",
     "shell.execute_reply": "2021-09-23T19:55:33.410289Z",
     "shell.execute_reply.started": "2021-09-23T19:52:06.907182Z"
    },
    "papermill": {
     "duration": 0.132649,
     "end_time": "2021-09-23T19:55:33.410455",
     "exception": false,
     "start_time": "2021-09-23T19:55:33.277806",
     "status": "completed"
    },
    "tags": []
   },
   "outputs": [
    {
     "data": {
      "text/plain": [
       "11"
      ]
     },
     "execution_count": 57,
     "metadata": {},
     "output_type": "execute_result"
    }
   ],
   "source": [
    "(data.parking >= 7).sum()"
   ]
  },
  {
   "cell_type": "markdown",
   "id": "88e6d889",
   "metadata": {
    "papermill": {
     "duration": 0.124776,
     "end_time": "2021-09-23T19:55:33.659349",
     "exception": false,
     "start_time": "2021-09-23T19:55:33.534573",
     "status": "completed"
    },
    "tags": []
   },
   "source": [
    "11 apartments. I will drop these rows so the pattern isn't destroyed:"
   ]
  },
  {
   "cell_type": "code",
   "execution_count": 58,
   "id": "09b00981",
   "metadata": {
    "execution": {
     "iopub.execute_input": "2021-09-23T19:55:33.913980Z",
     "iopub.status.busy": "2021-09-23T19:55:33.913310Z",
     "iopub.status.idle": "2021-09-23T19:55:34.213727Z",
     "shell.execute_reply": "2021-09-23T19:55:34.214165Z",
     "shell.execute_reply.started": "2021-09-23T19:52:06.916326Z"
    },
    "papermill": {
     "duration": 0.430016,
     "end_time": "2021-09-23T19:55:34.214328",
     "exception": false,
     "start_time": "2021-09-23T19:55:33.784312",
     "status": "completed"
    },
    "tags": []
   },
   "outputs": [
    {
     "data": {
      "image/png": "[encoded data removed]",
      "text/plain": [
       "<Figure size 864x576 with 1 Axes>"
      ]
     },
     "metadata": {},
     "output_type": "display_data"
    }
   ],
   "source": [
    "data = data[data.parking < 7].reset_index(drop = True)\n",
    "\n",
    "temp_data = data.copy()\n",
    "temp_data.price = np.log(temp_data.price)\n",
    "boxplot(temp_data, \"parking\", \"price\", figsize = (12, 8))"
   ]
  },
  {
   "cell_type": "markdown",
   "id": "4297aeb2",
   "metadata": {
    "papermill": {
     "duration": 0.131691,
     "end_time": "2021-09-23T19:55:34.515099",
     "exception": false,
     "start_time": "2021-09-23T19:55:34.383408",
     "status": "completed"
    },
    "tags": []
   },
   "source": [
    "Much better now. It is sufficiently linear."
   ]
  },
  {
   "cell_type": "markdown",
   "id": "5d43e900",
   "metadata": {
    "papermill": {
     "duration": 0.126752,
     "end_time": "2021-09-23T19:55:34.768591",
     "exception": false,
     "start_time": "2021-09-23T19:55:34.641839",
     "status": "completed"
    },
    "tags": []
   },
   "source": [
    "### Price x Region"
   ]
  },
  {
   "cell_type": "markdown",
   "id": "98144916",
   "metadata": {
    "papermill": {
     "duration": 0.125406,
     "end_time": "2021-09-23T19:55:35.021705",
     "exception": false,
     "start_time": "2021-09-23T19:55:34.896299",
     "status": "completed"
    },
    "tags": []
   },
   "source": [
    "A boxplot here will do the work:"
   ]
  },
  {
   "cell_type": "code",
   "execution_count": 59,
   "id": "55ab9743",
   "metadata": {
    "execution": {
     "iopub.execute_input": "2021-09-23T19:55:35.280318Z",
     "iopub.status.busy": "2021-09-23T19:55:35.276136Z",
     "iopub.status.idle": "2021-09-23T19:55:35.603175Z",
     "shell.execute_reply": "2021-09-23T19:55:35.602535Z",
     "shell.execute_reply.started": "2021-09-23T19:52:07.222677Z"
    },
    "papermill": {
     "duration": 0.455499,
     "end_time": "2021-09-23T19:55:35.603302",
     "exception": false,
     "start_time": "2021-09-23T19:55:35.147803",
     "status": "completed"
    },
    "tags": []
   },
   "outputs": [
    {
     "data": {
      "image/png": "[encoded data removed]",
      "text/plain": [
       "<Figure size 864x576 with 1 Axes>"
      ]
     },
     "metadata": {},
     "output_type": "display_data"
    }
   ],
   "source": [
    "boxplot(data, \"region\", \"price\", figsize = (12, 8), ylim = (0, 0.4*10**7))"
   ]
  },
  {
   "cell_type": "markdown",
   "id": "6b04bad7",
   "metadata": {
    "papermill": {
     "duration": 0.13253,
     "end_time": "2021-09-23T19:55:35.861886",
     "exception": false,
     "start_time": "2021-09-23T19:55:35.729356",
     "status": "completed"
    },
    "tags": []
   },
   "source": [
    "We have a lot of outlier for region == \"Sul\". Let's try a log transformation over price:"
   ]
  },
  {
   "cell_type": "code",
   "execution_count": 60,
   "id": "46da4840",
   "metadata": {
    "execution": {
     "iopub.execute_input": "2021-09-23T19:55:36.145936Z",
     "iopub.status.busy": "2021-09-23T19:55:36.145088Z",
     "iopub.status.idle": "2021-09-23T19:55:36.457195Z",
     "shell.execute_reply": "2021-09-23T19:55:36.457647Z",
     "shell.execute_reply.started": "2021-09-23T19:52:07.554007Z"
    },
    "papermill": {
     "duration": 0.452841,
     "end_time": "2021-09-23T19:55:36.457819",
     "exception": false,
     "start_time": "2021-09-23T19:55:36.004978",
     "status": "completed"
    },
    "tags": []
   },
   "outputs": [
    {
     "data": {
      "image/png": "[encoded data removed]",
      "text/plain": [
       "<Figure size 864x576 with 1 Axes>"
      ]
     },
     "metadata": {},
     "output_type": "display_data"
    }
   ],
   "source": [
    "temp_data = data.copy()\n",
    "temp_data.price = np.log(temp_data.price)\n",
    "boxplot(temp_data, \"region\", \"price\", figsize = (12, 8))"
   ]
  },
  {
   "cell_type": "markdown",
   "id": "f98e6832",
   "metadata": {
    "papermill": {
     "duration": 0.125982,
     "end_time": "2021-09-23T19:55:36.709954",
     "exception": false,
     "start_time": "2021-09-23T19:55:36.583972",
     "status": "completed"
    },
    "tags": []
   },
   "source": [
    "It's better. Note that the boxplots seem to be more symmetric also."
   ]
  },
  {
   "cell_type": "markdown",
   "id": "e02dab73",
   "metadata": {
    "papermill": {
     "duration": 0.126685,
     "end_time": "2021-09-23T19:55:36.963208",
     "exception": false,
     "start_time": "2021-09-23T19:55:36.836523",
     "status": "completed"
    },
    "tags": []
   },
   "source": [
    "***\n",
    "\n",
    "# Modelling"
   ]
  },
  {
   "cell_type": "markdown",
   "id": "6233c94b",
   "metadata": {
    "papermill": {
     "duration": 0.134055,
     "end_time": "2021-09-23T19:55:37.224492",
     "exception": false,
     "start_time": "2021-09-23T19:55:37.090437",
     "status": "completed"
    },
    "tags": []
   },
   "source": [
    "In this section, we must have in mind three main steps:\n",
    "\n",
    "(1) We must prepare the data for modelling (it is, generate dummy variables for categorical variables, for example, and apply all the necessary transformations that we've already discussed);\n",
    "\n",
    "(2) An optimal number of features must be selected for predicting;\n",
    "\n",
    "(3) Then a model must be constructed and then evaluated over a test set;\n",
    "\n",
    "\n",
    "### (1) Preparing data for modelling\n",
    "\n",
    "I will begin in the first step, obviously. But do you remember that we applied an sqrt transformation over price when we evaluated the behaviour of the price with area? And with all the other features, the transformation used was log. I can't use the two at the same time (at least I don't know how to do it).\n",
    "\n",
    "So my plan is to go back to the scatter plot involving price and area and choose a transformation with log over price:"
   ]
  },
  {
   "cell_type": "code",
   "execution_count": 61,
   "id": "fbbf5685",
   "metadata": {
    "execution": {
     "iopub.execute_input": "2021-09-23T19:55:37.483045Z",
     "iopub.status.busy": "2021-09-23T19:55:37.482407Z",
     "iopub.status.idle": "2021-09-23T19:55:37.781505Z",
     "shell.execute_reply": "2021-09-23T19:55:37.782004Z",
     "shell.execute_reply.started": "2021-09-23T19:52:07.886177Z"
    },
    "papermill": {
     "duration": 0.429162,
     "end_time": "2021-09-23T19:55:37.782162",
     "exception": false,
     "start_time": "2021-09-23T19:55:37.353000",
     "status": "completed"
    },
    "tags": []
   },
   "outputs": [
    {
     "data": {
      "image/png": "[encoded data removed]",
      "text/plain": [
       "<Figure size 864x576 with 1 Axes>"
      ]
     },
     "metadata": {},
     "output_type": "display_data"
    }
   ],
   "source": [
    "temp_data = data.copy()\n",
    "temp_data.price = np.log(temp_data.price)\n",
    "temp_data.area = np.log(temp_data.area)**2\n",
    "scatterplot(temp_data, \"area\", \"price\", (12, 8))"
   ]
  },
  {
   "cell_type": "markdown",
   "id": "97ab9cdf",
   "metadata": {
    "papermill": {
     "duration": 0.128984,
     "end_time": "2021-09-23T19:55:38.040126",
     "exception": false,
     "start_time": "2021-09-23T19:55:37.911142",
     "status": "completed"
    },
    "tags": []
   },
   "source": [
    "I choose log(price) ~ log(area)², because it appears to have a good linear trend.\n",
    "\n",
    "Now I will generate dummy variables for the region column. Remember that we must drop one of the categories, so they are not correlated:"
   ]
  },
  {
   "cell_type": "code",
   "execution_count": 62,
   "id": "6660d807",
   "metadata": {
    "execution": {
     "iopub.execute_input": "2021-09-23T19:55:38.304572Z",
     "iopub.status.busy": "2021-09-23T19:55:38.303968Z",
     "iopub.status.idle": "2021-09-23T19:55:38.317792Z",
     "shell.execute_reply": "2021-09-23T19:55:38.318221Z",
     "shell.execute_reply.started": "2021-09-23T19:52:08.201454Z"
    },
    "papermill": {
     "duration": 0.147887,
     "end_time": "2021-09-23T19:55:38.318419",
     "exception": false,
     "start_time": "2021-09-23T19:55:38.170532",
     "status": "completed"
    },
    "tags": []
   },
   "outputs": [
    {
     "data": {
      "text/plain": [
       "Index(['price', 'address', 'area', 'bedroom', 'bathroom', 'parking',\n",
       "       'characteristic', 'condominium', 'suite', 'academia',\n",
       "       ...\n",
       "       'vista_para_lago', 'área_de_lazer', 'área_de_serviço',\n",
       "       'árvore_frutífera', 'region_Leste', 'region_Noroeste', 'region_Norte',\n",
       "       'region_Oeste', 'region_Sudoeste', 'region_Sul'],\n",
       "      dtype='object', length=178)"
      ]
     },
     "execution_count": 62,
     "metadata": {},
     "output_type": "execute_result"
    }
   ],
   "source": [
    "data = pd.get_dummies(data, columns = [\"region\"], drop_first = True)\n",
    "data.columns"
   ]
  },
  {
   "cell_type": "markdown",
   "id": "c01ce99d",
   "metadata": {
    "papermill": {
     "duration": 0.128527,
     "end_time": "2021-09-23T19:55:38.576687",
     "exception": false,
     "start_time": "2021-09-23T19:55:38.448160",
     "status": "completed"
    },
    "tags": []
   },
   "source": [
    "Nice. A single column for each region of Goiânia.\n",
    "\n",
    "There is missing data in some column? Let's check:"
   ]
  },
  {
   "cell_type": "code",
   "execution_count": 63,
   "id": "4eb3b398",
   "metadata": {
    "execution": {
     "iopub.execute_input": "2021-09-23T19:55:38.841480Z",
     "iopub.status.busy": "2021-09-23T19:55:38.839773Z",
     "iopub.status.idle": "2021-09-23T19:55:38.849178Z",
     "shell.execute_reply": "2021-09-23T19:55:38.848656Z",
     "shell.execute_reply.started": "2021-09-23T19:52:08.225293Z"
    },
    "papermill": {
     "duration": 0.144236,
     "end_time": "2021-09-23T19:55:38.849298",
     "exception": false,
     "start_time": "2021-09-23T19:55:38.705062",
     "status": "completed"
    },
    "tags": []
   },
   "outputs": [
    {
     "data": {
      "text/plain": [
       "condominium    697\n",
       "suite            1\n",
       "dtype: int64"
      ]
     },
     "execution_count": 63,
     "metadata": {},
     "output_type": "execute_result"
    }
   ],
   "source": [
    "cols_total_missing = pd.isna(data).sum()\n",
    "cols_total_missing[cols_total_missing != 0]"
   ]
  },
  {
   "cell_type": "markdown",
   "id": "f6fa81ca",
   "metadata": {
    "papermill": {
     "duration": 0.129801,
     "end_time": "2021-09-23T19:55:39.107753",
     "exception": false,
     "start_time": "2021-09-23T19:55:38.977952",
     "status": "completed"
    },
    "tags": []
   },
   "source": [
    "There is a lot of missing data for condominium, but I don't care about it because I will not use it as predicting variable. But I must care about missing values in suite. I think that the most reasonable way to deal with that missing value is to fill it using the median:"
   ]
  },
  {
   "cell_type": "code",
   "execution_count": 64,
   "id": "2791f3da",
   "metadata": {
    "execution": {
     "iopub.execute_input": "2021-09-23T19:55:39.370388Z",
     "iopub.status.busy": "2021-09-23T19:55:39.369471Z",
     "iopub.status.idle": "2021-09-23T19:55:39.376737Z",
     "shell.execute_reply": "2021-09-23T19:55:39.377279Z",
     "shell.execute_reply.started": "2021-09-23T19:52:08.249074Z"
    },
    "papermill": {
     "duration": 0.139934,
     "end_time": "2021-09-23T19:55:39.377434",
     "exception": false,
     "start_time": "2021-09-23T19:55:39.237500",
     "status": "completed"
    },
    "tags": []
   },
   "outputs": [],
   "source": [
    "values = {\"suite\": data.suite.median()}\n",
    "data.fillna(value = values, inplace = True)"
   ]
  },
  {
   "cell_type": "code",
   "execution_count": 65,
   "id": "72a553bc",
   "metadata": {
    "execution": {
     "iopub.execute_input": "2021-09-23T19:55:39.640521Z",
     "iopub.status.busy": "2021-09-23T19:55:39.639683Z",
     "iopub.status.idle": "2021-09-23T19:55:39.652181Z",
     "shell.execute_reply": "2021-09-23T19:55:39.652793Z",
     "shell.execute_reply.started": "2021-09-23T19:52:08.261807Z"
    },
    "papermill": {
     "duration": 0.147073,
     "end_time": "2021-09-23T19:55:39.652973",
     "exception": false,
     "start_time": "2021-09-23T19:55:39.505900",
     "status": "completed"
    },
    "tags": []
   },
   "outputs": [],
   "source": [
    "# y is the target variable, log transformed\n",
    "y = np.log(data.price.values)\n",
    "\n",
    "# X represent the features that will be used for predicting\n",
    "X = data.drop(columns = [\"address\", \"characteristic\", \"condominium\", \"price\"]).values\n",
    "\n",
    "# I need to transform the area column\n",
    "X[:, 0] = np.log(X[:, 0])**2\n",
    "\n",
    "# I'm saving the list of names of each feature that will be used for predicting here:\n",
    "features = list(data.drop(columns = [\"address\", \"characteristic\", \"condominium\", \"price\"]).columns)"
   ]
  },
  {
   "cell_type": "markdown",
   "id": "03b78772",
   "metadata": {
    "papermill": {
     "duration": 0.129828,
     "end_time": "2021-09-23T19:55:39.911952",
     "exception": false,
     "start_time": "2021-09-23T19:55:39.782124",
     "status": "completed"
    },
    "tags": []
   },
   "source": [
    "Now I will split the data in train and test sets, so we can evaluate our final linear model:"
   ]
  },
  {
   "cell_type": "code",
   "execution_count": 66,
   "id": "1b111223",
   "metadata": {
    "execution": {
     "iopub.execute_input": "2021-09-23T19:55:40.187890Z",
     "iopub.status.busy": "2021-09-23T19:55:40.186875Z",
     "iopub.status.idle": "2021-09-23T19:55:40.237636Z",
     "shell.execute_reply": "2021-09-23T19:55:40.237069Z",
     "shell.execute_reply.started": "2021-09-23T19:52:08.285265Z"
    },
    "papermill": {
     "duration": 0.195154,
     "end_time": "2021-09-23T19:55:40.237783",
     "exception": false,
     "start_time": "2021-09-23T19:55:40.042629",
     "status": "completed"
    },
    "tags": []
   },
   "outputs": [],
   "source": [
    "from sklearn.model_selection import train_test_split\n",
    "\n",
    "X_train, X_test, y_train, y_test = train_test_split(X, y, test_size = 0.3, random_state = 669)"
   ]
  },
  {
   "cell_type": "markdown",
   "id": "53b94400",
   "metadata": {
    "papermill": {
     "duration": 0.129535,
     "end_time": "2021-09-23T19:55:40.495852",
     "exception": false,
     "start_time": "2021-09-23T19:55:40.366317",
     "status": "completed"
    },
    "tags": []
   },
   "source": [
    "### (2) Selecting an optimal set of features"
   ]
  },
  {
   "cell_type": "markdown",
   "id": "b678ed4b",
   "metadata": {
    "papermill": {
     "duration": 0.128808,
     "end_time": "2021-09-23T19:55:40.754132",
     "exception": false,
     "start_time": "2021-09-23T19:55:40.625324",
     "status": "completed"
    },
    "tags": []
   },
   "source": [
    "A good way for selecting optimal features for linear regression is to use Lasso regression, because it will return some coefficients as zero (meaning the importance of the features for predicting).\n",
    "\n",
    "My plan is to optimize alpha (neg_mean_absolute_error as method of evaluation) using GridSearchCV and then see which features has non-zero coefficients:"
   ]
  },
  {
   "cell_type": "code",
   "execution_count": 67,
   "id": "8341eaaf",
   "metadata": {
    "execution": {
     "iopub.execute_input": "2021-09-23T19:55:41.022952Z",
     "iopub.status.busy": "2021-09-23T19:55:41.022286Z",
     "iopub.status.idle": "2021-09-23T19:57:21.386017Z",
     "shell.execute_reply": "2021-09-23T19:57:21.386772Z",
     "shell.execute_reply.started": "2021-09-23T19:52:08.363487Z"
    },
    "papermill": {
     "duration": 100.499805,
     "end_time": "2021-09-23T19:57:21.387006",
     "exception": false,
     "start_time": "2021-09-23T19:55:40.887201",
     "status": "completed"
    },
    "tags": []
   },
   "outputs": [
    {
     "name": "stdout",
     "output_type": "stream",
     "text": [
      "The best fit had a mean neg_mean_absolute_error = -0.1676016335145462 and alpha = 9.461848194721992e-05\n"
     ]
    }
   ],
   "source": [
    "from sklearn.linear_model import Lasso\n",
    "from sklearn.model_selection import GridSearchCV\n",
    "\n",
    "# Remember that for Lasso Regression, normalization is necessary!!\n",
    "lasso = Lasso(normalize = True)\n",
    "\n",
    "# This is my space of values for alpha\n",
    "param_grid = {\"alpha\": np.logspace(-6, 0, 1000)}\n",
    "\n",
    "gs_lasso = GridSearchCV(lasso, param_grid = param_grid, scoring = \"neg_mean_absolute_error\")\n",
    "gs_lasso.fit(X_train, y_train)\n",
    "print(\"The best fit had a mean neg_mean_absolute_error = {} and alpha = {}\".format(gs_lasso.best_score_,\n",
    "                                                                            gs_lasso.best_params_[\"alpha\"]))"
   ]
  },
  {
   "cell_type": "markdown",
   "id": "30183b44",
   "metadata": {
    "execution": {
     "iopub.execute_input": "2021-09-21T19:05:55.186227Z",
     "iopub.status.busy": "2021-09-21T19:05:55.185929Z",
     "iopub.status.idle": "2021-09-21T19:05:55.191304Z",
     "shell.execute_reply": "2021-09-21T19:05:55.190438Z",
     "shell.execute_reply.started": "2021-09-21T19:05:55.186198Z"
    },
    "papermill": {
     "duration": 0.131439,
     "end_time": "2021-09-23T19:57:21.651396",
     "exception": false,
     "start_time": "2021-09-23T19:57:21.519957",
     "status": "completed"
    },
    "tags": []
   },
   "source": [
    "Now let's save the features with non-zero coefficients:"
   ]
  },
  {
   "cell_type": "code",
   "execution_count": 68,
   "id": "ad348795",
   "metadata": {
    "execution": {
     "iopub.execute_input": "2021-09-23T19:57:21.920280Z",
     "iopub.status.busy": "2021-09-23T19:57:21.918446Z",
     "iopub.status.idle": "2021-09-23T19:57:21.922629Z",
     "shell.execute_reply": "2021-09-23T19:57:21.922015Z",
     "shell.execute_reply.started": "2021-09-23T19:53:53.774928Z"
    },
    "papermill": {
     "duration": 0.139889,
     "end_time": "2021-09-23T19:57:21.922783",
     "exception": false,
     "start_time": "2021-09-23T19:57:21.782894",
     "status": "completed"
    },
    "tags": []
   },
   "outputs": [],
   "source": [
    "# Saving coefficients to a variable\n",
    "coefficients = gs_lasso.best_estimator_.coef_\n",
    "\n",
    "# Taking features that has non-zero coefficients\n",
    "best_features_idx = coefficients != 0"
   ]
  },
  {
   "cell_type": "markdown",
   "id": "3407c7fa",
   "metadata": {
    "papermill": {
     "duration": 0.130934,
     "end_time": "2021-09-23T19:57:22.205855",
     "exception": false,
     "start_time": "2021-09-23T19:57:22.074921",
     "status": "completed"
    },
    "tags": []
   },
   "source": [
    "We can se the name of these features using the function compress from module itertools:"
   ]
  },
  {
   "cell_type": "code",
   "execution_count": 69,
   "id": "583231b6",
   "metadata": {
    "execution": {
     "iopub.execute_input": "2021-09-23T19:57:22.473479Z",
     "iopub.status.busy": "2021-09-23T19:57:22.472640Z",
     "iopub.status.idle": "2021-09-23T19:57:22.475900Z",
     "shell.execute_reply": "2021-09-23T19:57:22.476381Z",
     "shell.execute_reply.started": "2021-09-23T19:53:53.783045Z"
    },
    "papermill": {
     "duration": 0.140644,
     "end_time": "2021-09-23T19:57:22.476546",
     "exception": false,
     "start_time": "2021-09-23T19:57:22.335902",
     "status": "completed"
    },
    "tags": []
   },
   "outputs": [
    {
     "data": {
      "text/plain": [
       "['area',\n",
       " 'bedroom',\n",
       " 'bathroom',\n",
       " 'parking',\n",
       " 'suite',\n",
       " 'academia',\n",
       " 'aceita_animais',\n",
       " 'andar_inteiro',\n",
       " 'aquecimento',\n",
       " 'ar_condicionado',\n",
       " 'armário_na_cozinha',\n",
       " 'banheira',\n",
       " 'bar',\n",
       " 'bicicletário',\n",
       " 'brinquedoteca',\n",
       " 'campo_de_futebol',\n",
       " 'carpete',\n",
       " 'casa_de_fundo',\n",
       " 'churrasqueira',\n",
       " 'churrasqueira_na_varanda',\n",
       " 'cinema',\n",
       " 'circuito_de_segurança',\n",
       " 'condomínio_fechado',\n",
       " 'conexão_à_internet',\n",
       " 'coworking',\n",
       " 'cozinha_americana',\n",
       " 'cozinha_grande',\n",
       " 'câmera_de_segurança',\n",
       " 'dependência_de_empregados',\n",
       " 'despensa',\n",
       " 'elevador',\n",
       " 'escada',\n",
       " 'espaço_verde_parque',\n",
       " 'fogão',\n",
       " 'freezer',\n",
       " 'garagem',\n",
       " 'gerador_elétrico',\n",
       " 'gás_encanado',\n",
       " 'isolamento_térmico',\n",
       " 'lareira',\n",
       " 'mezanino',\n",
       " 'minha_casa_minha_vida',\n",
       " 'mobiliado',\n",
       " 'piscina',\n",
       " 'piscina_privativa',\n",
       " 'piso_frio',\n",
       " 'pista_de_cooper',\n",
       " 'playground',\n",
       " 'pé_direito_alto',\n",
       " 'quadra_poliesportiva',\n",
       " 'quarto_de_serviço',\n",
       " 'rede_de_água_e_esgoto',\n",
       " 'rua_asfaltada',\n",
       " 'sala_de_jantar',\n",
       " 'sala_de_reunião',\n",
       " 'salão_de_convenção',\n",
       " 'salão_de_festas',\n",
       " 'salão_de_jogos',\n",
       " 'sauna',\n",
       " 'serviços_públicos_essenciais',\n",
       " 'solarium',\n",
       " 'spa',\n",
       " 'varanda',\n",
       " 'varanda_gourmet',\n",
       " 'vista_exterior',\n",
       " 'vista_para_lago',\n",
       " 'área_de_serviço',\n",
       " 'region_Leste',\n",
       " 'region_Norte',\n",
       " 'region_Oeste',\n",
       " 'region_Sudoeste',\n",
       " 'region_Sul']"
      ]
     },
     "execution_count": 69,
     "metadata": {},
     "output_type": "execute_result"
    }
   ],
   "source": [
    "from itertools import compress\n",
    "\n",
    "list(compress(features, best_features_idx))"
   ]
  },
  {
   "cell_type": "markdown",
   "id": "6fcd9261",
   "metadata": {
    "papermill": {
     "duration": 0.130237,
     "end_time": "2021-09-23T19:57:22.737973",
     "exception": false,
     "start_time": "2021-09-23T19:57:22.607736",
     "status": "completed"
    },
    "tags": []
   },
   "source": [
    "We can also see which features had greater absolute values for the coefficients. For this purpose, I will plot an bar plot showing the 15 greater absolute coefficients:"
   ]
  },
  {
   "cell_type": "code",
   "execution_count": 70,
   "id": "8e2b6b8f",
   "metadata": {
    "execution": {
     "iopub.execute_input": "2021-09-23T19:57:23.054866Z",
     "iopub.status.busy": "2021-09-23T19:57:23.042379Z",
     "iopub.status.idle": "2021-09-23T19:57:23.410703Z",
     "shell.execute_reply": "2021-09-23T19:57:23.411158Z",
     "shell.execute_reply.started": "2021-09-23T19:53:53.801095Z"
    },
    "papermill": {
     "duration": 0.541306,
     "end_time": "2021-09-23T19:57:23.411352",
     "exception": false,
     "start_time": "2021-09-23T19:57:22.870046",
     "status": "completed"
    },
    "tags": []
   },
   "outputs": [
    {
     "data": {
      "image/png": "[encoded data removed]",
      "text/plain": [
       "<Figure size 1152x576 with 1 Axes>"
      ]
     },
     "metadata": {},
     "output_type": "display_data"
    }
   ],
   "source": [
    "# Sort coefficients and take indexes\n",
    "sorted_index = np.argsort(np.abs(coefficients))[::-1]\n",
    "\n",
    "# Sort features based on the indexes above\n",
    "sorted_features = [features[index] for index in sorted_index]\n",
    "\n",
    "fig, ax = plt.subplots(figsize = (16,8))\n",
    "\n",
    "ax.set_title(\"Features with the most high coefficient absolute values\")\n",
    "ax.set_xlabel(\"Feature names\")\n",
    "ax.set_ylabel(\"Coefficient value\")\n",
    "\n",
    "sns.barplot(x = sorted_features[:15], y = coefficients[sorted_index][:15], ax = ax)\n",
    "ax.tick_params(axis = 'x', rotation = 90)"
   ]
  },
  {
   "cell_type": "markdown",
   "id": "737134eb",
   "metadata": {
    "execution": {
     "iopub.execute_input": "2021-09-22T12:50:02.820963Z",
     "iopub.status.busy": "2021-09-22T12:50:02.820684Z",
     "iopub.status.idle": "2021-09-22T12:50:02.831953Z",
     "shell.execute_reply": "2021-09-22T12:50:02.830714Z",
     "shell.execute_reply.started": "2021-09-22T12:50:02.820936Z"
    },
    "papermill": {
     "duration": 0.13359,
     "end_time": "2021-09-23T19:57:23.678368",
     "exception": false,
     "start_time": "2021-09-23T19:57:23.544778",
     "status": "completed"
    },
    "tags": []
   },
   "source": [
    "This bar plot is interesting because it shows the effect of each feature on the log(price) of the apartments. For example, for region Sul of Goiânia, log(price) tends to increase; the opposite is true if the apartment is \"casa_de_fundo\"."
   ]
  },
  {
   "cell_type": "markdown",
   "id": "1691553f",
   "metadata": {
    "execution": {
     "iopub.execute_input": "2021-09-21T23:47:11.317359Z",
     "iopub.status.busy": "2021-09-21T23:47:11.316677Z",
     "iopub.status.idle": "2021-09-21T23:47:11.461295Z",
     "shell.execute_reply": "2021-09-21T23:47:11.459975Z",
     "shell.execute_reply.started": "2021-09-21T23:47:11.317296Z"
    },
    "papermill": {
     "duration": 0.132195,
     "end_time": "2021-09-23T19:57:23.942787",
     "exception": false,
     "start_time": "2021-09-23T19:57:23.810592",
     "status": "completed"
    },
    "tags": []
   },
   "source": [
    "Now we can generate another model, called Ridge Regression (that I think that maybe will perform better given the optimal space of features that we found):"
   ]
  },
  {
   "cell_type": "code",
   "execution_count": 71,
   "id": "b6497e18",
   "metadata": {
    "execution": {
     "iopub.execute_input": "2021-09-23T19:57:24.214958Z",
     "iopub.status.busy": "2021-09-23T19:57:24.211836Z",
     "iopub.status.idle": "2021-09-23T19:57:51.088072Z",
     "shell.execute_reply": "2021-09-23T19:57:51.089552Z",
     "shell.execute_reply.started": "2021-09-23T19:53:54.253699Z"
    },
    "papermill": {
     "duration": 27.014286,
     "end_time": "2021-09-23T19:57:51.090006",
     "exception": false,
     "start_time": "2021-09-23T19:57:24.075720",
     "status": "completed"
    },
    "tags": []
   },
   "outputs": [
    {
     "name": "stdout",
     "output_type": "stream",
     "text": [
      "The best fit had a mean neg_mean_absolute_error = -0.16572197567534838 and alpha = 1e-06\n"
     ]
    }
   ],
   "source": [
    "from sklearn.linear_model import Ridge\n",
    "\n",
    "ridge = Ridge(normalize = True)\n",
    "param_grid = {\"alpha\": np.logspace(-6, 0, 1000)}\n",
    "gs_ridge = GridSearchCV(ridge, param_grid = param_grid, scoring = \"neg_mean_absolute_error\")\n",
    "\n",
    "gs_ridge.fit(X_train[:, best_features_idx], y_train)\n",
    "print(\"The best fit had a mean neg_mean_absolute_error = {} and alpha = {}\".format(gs_ridge.best_score_,\n",
    "                                                                            gs_ridge.best_params_[\"alpha\"]))"
   ]
  },
  {
   "cell_type": "markdown",
   "id": "f28fb94c",
   "metadata": {
    "papermill": {
     "duration": 0.133179,
     "end_time": "2021-09-23T19:57:51.407875",
     "exception": false,
     "start_time": "2021-09-23T19:57:51.274696",
     "status": "completed"
    },
    "tags": []
   },
   "source": [
    "I tried a space of values for alpha ranging from 10^(-6) to 1, and the best value for alpha was 10^(-6). What it suggests? That maybe the best model to use here is the simplest linear model, without regularization. Let's see if it's true:"
   ]
  },
  {
   "cell_type": "code",
   "execution_count": 72,
   "id": "ba69fe4f",
   "metadata": {
    "execution": {
     "iopub.execute_input": "2021-09-23T19:57:51.681512Z",
     "iopub.status.busy": "2021-09-23T19:57:51.680871Z",
     "iopub.status.idle": "2021-09-23T19:57:51.743204Z",
     "shell.execute_reply": "2021-09-23T19:57:51.742011Z",
     "shell.execute_reply.started": "2021-09-23T19:54:24.112790Z"
    },
    "papermill": {
     "duration": 0.201167,
     "end_time": "2021-09-23T19:57:51.743473",
     "exception": false,
     "start_time": "2021-09-23T19:57:51.542306",
     "status": "completed"
    },
    "tags": []
   },
   "outputs": [
    {
     "name": "stdout",
     "output_type": "stream",
     "text": [
      "Linear Regression had a mean neg_mean_absolute_error = -0.16572192126634358\n"
     ]
    }
   ],
   "source": [
    "from sklearn.linear_model import LinearRegression\n",
    "from sklearn.model_selection import cross_val_score\n",
    "\n",
    "# Linear Regression doesn't need normalization of the features\n",
    "linear_reg = LinearRegression()\n",
    "\n",
    "scores = cross_val_score(linear_reg, X_train[:, best_features_idx], y_train, scoring = \"neg_mean_absolute_error\",\n",
    "                         cv = 5)\n",
    "\n",
    "print(\"Linear Regression had a mean neg_mean_absolute_error = {}\".format(np.mean(scores)))"
   ]
  },
  {
   "cell_type": "markdown",
   "id": "7879bcb0",
   "metadata": {
    "papermill": {
     "duration": 0.133826,
     "end_time": "2021-09-23T19:57:52.061483",
     "exception": false,
     "start_time": "2021-09-23T19:57:51.927657",
     "status": "completed"
    },
    "tags": []
   },
   "source": [
    "Note that the difference in mean neg_mean_absolute_error between Ridge and Linear Regression is minimal. So I will opt for the simplest model, of course.\n",
    "\n",
    "Let's see the performance of Linear Regression over X_test:"
   ]
  },
  {
   "cell_type": "code",
   "execution_count": 73,
   "id": "e0c1a2d4",
   "metadata": {
    "execution": {
     "iopub.execute_input": "2021-09-23T19:57:52.338788Z",
     "iopub.status.busy": "2021-09-23T19:57:52.338120Z",
     "iopub.status.idle": "2021-09-23T19:57:52.352536Z",
     "shell.execute_reply": "2021-09-23T19:57:52.353518Z",
     "shell.execute_reply.started": "2021-09-23T19:54:24.182982Z"
    },
    "papermill": {
     "duration": 0.155064,
     "end_time": "2021-09-23T19:57:52.353805",
     "exception": false,
     "start_time": "2021-09-23T19:57:52.198741",
     "status": "completed"
    },
    "tags": []
   },
   "outputs": [
    {
     "name": "stdout",
     "output_type": "stream",
     "text": [
      "The mean_absolute_error for test data is: 0.1716747325538044\n"
     ]
    }
   ],
   "source": [
    "from sklearn.metrics import mean_absolute_error\n",
    "\n",
    "linear_reg.fit(X_train[:, best_features_idx], y_train)\n",
    "y_pred = linear_reg.predict(X_test[:, best_features_idx])\n",
    "\n",
    "print(\"The mean_absolute_error for test data is: {}\".format(mean_absolute_error(y_test, y_pred)))"
   ]
  },
  {
   "cell_type": "markdown",
   "id": "a0e54ded",
   "metadata": {
    "papermill": {
     "duration": 0.137255,
     "end_time": "2021-09-23T19:57:52.678364",
     "exception": false,
     "start_time": "2021-09-23T19:57:52.541109",
     "status": "completed"
    },
    "tags": []
   },
   "source": [
    "The mean_absolute_error is quite good, given that the model is predicting over data that it never saw before. But what this result means exactly? If we remember that our model is predicting log(price), and the mean_absolute_error is equal to ~ 0.17, then, when we return to \"price\" (instead of log(price)), the mean_absolute_error will increase as price increases.\n",
    "\n",
    "Let me plot something to show how the mean_absolute_error of our model behaves:"
   ]
  },
  {
   "cell_type": "code",
   "execution_count": 74,
   "id": "af048dde",
   "metadata": {
    "execution": {
     "iopub.execute_input": "2021-09-23T19:57:52.997228Z",
     "iopub.status.busy": "2021-09-23T19:57:52.955476Z",
     "iopub.status.idle": "2021-09-23T19:57:53.441028Z",
     "shell.execute_reply": "2021-09-23T19:57:53.440531Z",
     "shell.execute_reply.started": "2021-09-23T19:54:24.205730Z"
    },
    "papermill": {
     "duration": 0.626116,
     "end_time": "2021-09-23T19:57:53.441181",
     "exception": false,
     "start_time": "2021-09-23T19:57:52.815065",
     "status": "completed"
    },
    "tags": []
   },
   "outputs": [
    {
     "data": {
      "image/png": "[encoded data removed]",
      "text/plain": [
       "<Figure size 864x720 with 2 Axes>"
      ]
     },
     "metadata": {},
     "output_type": "display_data"
    }
   ],
   "source": [
    "log_price_space = np.linspace(y.min(), 13.122, 500) # log(price)\n",
    "\n",
    "price_space = np.exp(log_price_space) # exp(log(price)) = price\n",
    "error_upper = np.exp(log_price_space + mean_absolute_error(y_test, y_pred)) # exp(log(price) + error)\n",
    "error_lower = np.exp(log_price_space - mean_absolute_error(y_test, y_pred)) # exp(log(price) - error)\n",
    "\n",
    "# plotting\n",
    "sns.set_style(\"whitegrid\", {\"grid.color\": \".6\", \"grid.linestyle\": \":\"})\n",
    "fig, ax = plt.subplots(2, 1, figsize = (12, 10))\n",
    "\n",
    "# error band\n",
    "ax[0].plot(price_space, price_space, \"--r\", linewidth = 4, label = \"Predicted price\")\n",
    "ax[0].fill_between(price_space, error_upper, error_lower, alpha = 0.3, color = \"red\", label = \"Estimated error band\")\n",
    "ax[0].set_ylabel(\"Price (R$)\")\n",
    "ax[0].set_xlabel(\"Price (R$)\")\n",
    "ax[0].set_title(\"Error Band for Price Predicted\")\n",
    "ax[0].legend(loc = \"upper left\")\n",
    "\n",
    "# error range\n",
    "ax[1].plot(price_space, error_upper - error_lower, \"k\", linewidth = 2, label = \"upper_error - lower_error\")\n",
    "ax[1].fill_between(price_space, error_upper - error_lower, alpha = 0.4,\n",
    "                   color = \"k\")\n",
    "ax[1].set_xlabel(\"Price (R$)\")\n",
    "ax[1].set_ylabel(\"Error Range (R$)\")\n",
    "ax[1].set_title(\"Error Range for Price Predicted\")\n",
    "ax[1].legend(loc = \"upper left\")\n",
    "plt.show()"
   ]
  },
  {
   "cell_type": "markdown",
   "id": "9dbd1b5f",
   "metadata": {
    "papermill": {
     "duration": 0.136954,
     "end_time": "2021-09-23T19:57:53.717309",
     "exception": false,
     "start_time": "2021-09-23T19:57:53.580355",
     "status": "completed"
    },
    "tags": []
   },
   "source": [
    "Note that as the price increases, the error range increases. This occurs because we did a log transform over price.\n",
    "\n",
    "Now let's evaluate how the residuals of our linear model behaves over X_test. For that, I will use a function available on the internet (source: https://towardsdatascience.com/verifying-the-assumptions-of-linear-regression-in-python-and-r-f4cd2907d4c0):"
   ]
  },
  {
   "cell_type": "code",
   "execution_count": 75,
   "id": "00744eec",
   "metadata": {
    "execution": {
     "iopub.execute_input": "2021-09-23T19:57:54.003324Z",
     "iopub.status.busy": "2021-09-23T19:57:54.002426Z",
     "iopub.status.idle": "2021-09-23T19:57:54.005261Z",
     "shell.execute_reply": "2021-09-23T19:57:54.004723Z",
     "shell.execute_reply.started": "2021-09-23T19:54:24.727400Z"
    },
    "papermill": {
     "duration": 0.15024,
     "end_time": "2021-09-23T19:57:54.005399",
     "exception": false,
     "start_time": "2021-09-23T19:57:53.855159",
     "status": "completed"
    },
    "tags": []
   },
   "outputs": [],
   "source": [
    "# I changed just some things\n",
    "def linearity_test(y_pred, y):\n",
    "    '''\n",
    "    Function for visually inspecting the assumption of linearity in a linear regression model.\n",
    "    It plots observed vs. predicted values and residuals vs. predicted values.\n",
    "    \n",
    "    Args:\n",
    "    * y_pred - predicted values\n",
    "    * y - observed values\n",
    "    \n",
    "    '''\n",
    "    \n",
    "    resids = y - y_pred\n",
    "\n",
    "    fig, ax = plt.subplots(1,2, figsize = (12, 8))\n",
    "    \n",
    "    sns.regplot(x=y_pred, y=y, lowess=True, ax=ax[0], line_kws={'color': 'red'})\n",
    "    ax[0].set_title('Observed vs. Predicted Values', fontsize=16)\n",
    "    ax[0].set(xlabel='Predicted', ylabel='Observed')\n",
    "\n",
    "    sns.regplot(x=y_pred, y=resids, lowess=True, ax=ax[1], line_kws={'color': 'red'})\n",
    "    ax[1].set_title('Residuals vs. Predicted Values', fontsize=16)\n",
    "    ax[1].set(xlabel='Predicted', ylabel='Residuals')"
   ]
  },
  {
   "cell_type": "markdown",
   "id": "f7e3c80e",
   "metadata": {
    "papermill": {
     "duration": 0.137962,
     "end_time": "2021-09-23T19:57:54.281256",
     "exception": false,
     "start_time": "2021-09-23T19:57:54.143294",
     "status": "completed"
    },
    "tags": []
   },
   "source": [
    "Using the function, we have:"
   ]
  },
  {
   "cell_type": "code",
   "execution_count": 76,
   "id": "f7ed089f",
   "metadata": {
    "execution": {
     "iopub.execute_input": "2021-09-23T19:57:54.609281Z",
     "iopub.status.busy": "2021-09-23T19:57:54.605601Z",
     "iopub.status.idle": "2021-09-23T19:57:55.653528Z",
     "shell.execute_reply": "2021-09-23T19:57:55.652860Z",
     "shell.execute_reply.started": "2021-09-23T19:54:24.737682Z"
    },
    "papermill": {
     "duration": 1.23432,
     "end_time": "2021-09-23T19:57:55.653694",
     "exception": false,
     "start_time": "2021-09-23T19:57:54.419374",
     "status": "completed"
    },
    "tags": []
   },
   "outputs": [
    {
     "data": {
      "image/png": "[encoded data removed]",
      "text/plain": [
       "<Figure size 864x576 with 2 Axes>"
      ]
     },
     "metadata": {},
     "output_type": "display_data"
    }
   ],
   "source": [
    "linearity_test(y_pred, y_test)    "
   ]
  },
  {
   "cell_type": "markdown",
   "id": "a655db41",
   "metadata": {
    "execution": {
     "iopub.execute_input": "2021-09-22T14:35:00.800088Z",
     "iopub.status.busy": "2021-09-22T14:35:00.799183Z",
     "iopub.status.idle": "2021-09-22T14:35:03.772112Z",
     "shell.execute_reply": "2021-09-22T14:35:03.771415Z",
     "shell.execute_reply.started": "2021-09-22T14:35:00.80003Z"
    },
    "papermill": {
     "duration": 0.140814,
     "end_time": "2021-09-23T19:57:55.935278",
     "exception": false,
     "start_time": "2021-09-23T19:57:55.794464",
     "status": "completed"
    },
    "tags": []
   },
   "source": [
    "The first plot (on the left) shows what were the observed and predicted values (the ideal case is the identity function, it is: observed = predicted), and the last plot shows how the residuals (y_true - y_pred) are distributed.\n",
    "\n",
    "In the first plot, everything is okay. There is some outliers, but our linear model wouldn't be perfect anyway. Almost all the points are around the red line.\n",
    "\n",
    "In the second plot, eveything is okay also. The residuals seems to be homoscedastic (variance doesn't vary drastically over the predictions). This means that we can expect more or less an homogeneous error over log(price). Once again, there is some outliers: a residual with a value ~ -1.8 in the log space is quite annoying, because when we apply an exponential transformation over it, it can become a monster. But the big picture is satisfying.\n",
    "\n",
    "Obs: I'm not a statistician. This means that what I did or said can be wrong, or at least not 100% correct. I tried my best.\n",
    "\n",
    "Now I will train the linear model with all the data that we have, and then download it, because I will deploy the model in streamlit. The webapp will be in portuguese, because I think it makes more sense, as the apartments are from Goiânia."
   ]
  },
  {
   "cell_type": "code",
   "execution_count": 77,
   "id": "11945ab4",
   "metadata": {
    "execution": {
     "iopub.execute_input": "2021-09-23T19:57:56.224220Z",
     "iopub.status.busy": "2021-09-23T19:57:56.221114Z",
     "iopub.status.idle": "2021-09-23T19:57:56.249983Z",
     "shell.execute_reply": "2021-09-23T19:57:56.250880Z",
     "shell.execute_reply.started": "2021-09-23T19:54:25.721919Z"
    },
    "papermill": {
     "duration": 0.174765,
     "end_time": "2021-09-23T19:57:56.251137",
     "exception": false,
     "start_time": "2021-09-23T19:57:56.076372",
     "status": "completed"
    },
    "tags": []
   },
   "outputs": [
    {
     "name": "stdout",
     "output_type": "stream",
     "text": [
      "THE END :)\n"
     ]
    }
   ],
   "source": [
    "import joblib as jb\n",
    "\n",
    "final_model = LinearRegression().fit(X[:, best_features_idx], y)\n",
    "\n",
    "jb.dump(final_model, \"final_model.pkl\")\n",
    "jb.dump(features, \"features_name.pkl\")\n",
    "jb.dump(best_features_idx, \"best_features_idx.pkl\")\n",
    "jb.dump(X[:, best_features_idx], \"X.pkl\")\n",
    "jb.dump(y, \"y.pkl\")\n",
    "\n",
    "print(\"THE END :)\")"
   ]
  }
 ],
 "metadata": {
  "kernelspec": {
   "display_name": "Python 3",
   "language": "python",
   "name": "python3"
  },
  "language_info": {
   "codemirror_mode": {
    "name": "ipython",
    "version": 3
   },
   "file_extension": ".py",
   "mimetype": "text/x-python",
   "name": "python",
   "nbconvert_exporter": "python",
   "pygments_lexer": "ipython3",
   "version": "3.7.10"
  },
  "papermill": {
   "default_parameters": {},
   "duration": 183.817461,
   "end_time": "2021-09-23T19:57:57.149596",
   "environment_variables": {},
   "exception": null,
   "input_path": "__notebook__.ipynb",
   "output_path": "__notebook__.ipynb",
   "parameters": {},
   "start_time": "2021-09-23T19:54:53.332135",
   "version": "2.3.3"
  }
 },
 "nbformat": 4,
 "nbformat_minor": 5
}
